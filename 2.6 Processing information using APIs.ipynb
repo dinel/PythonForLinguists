{
 "cells": [
  {
   "cell_type": "code",
   "execution_count": 1,
   "metadata": {
    "collapsed": true,
    "slideshow": {
     "slide_type": "skip"
    }
   },
   "outputs": [],
   "source": [
    "from IPython.display import Image, display"
   ]
  },
  {
   "cell_type": "markdown",
   "metadata": {
    "slideshow": {
     "slide_type": "slide"
    }
   },
   "source": [
    "# Language processing in the cloud"
   ]
  },
  {
   "cell_type": "code",
   "execution_count": 2,
   "metadata": {
    "slideshow": {
     "slide_type": "fragment"
    }
   },
   "outputs": [
    {
     "data": {
      "text/html": [
       "<img src=\"https://i.pinimg.com/564x/7f/7e/1d/7f7e1dd5970675a0de86f147f234578d.jpg\"/>"
      ],
      "text/plain": [
       "<IPython.core.display.Image object>"
      ]
     },
     "execution_count": 2,
     "metadata": {},
     "output_type": "execute_result"
    }
   ],
   "source": [
    "Image(url='https://i.pinimg.com/564x/7f/7e/1d/7f7e1dd5970675a0de86f147f234578d.jpg')"
   ]
  },
  {
   "cell_type": "markdown",
   "metadata": {
    "slideshow": {
     "slide_type": "slide"
    }
   },
   "source": [
    "# Language processing in the cloud\n",
    "\n",
    "- Software as a Service (SaaS) is a very popular way of giving access to software\n",
    "- The software is run in the cloud and users pay some kind of  subscription to access it\n",
    "- Great way to develop (commercial) NLP applications that mashup information from several services\n",
    "- Can lead to scalable applications\n",
    "- There are already several established provides of APIs that allow language processing (usually branded text analytics)\n",
    "- Difficult to assess how accurate these tools are\n",
    "\n",
    "Read more in Dale, R. (2015). NLP meets the cloud. *Natural Language Engineering*, 21(04), 653–659. <a href=\"http://doi.org/10.1017/S1351324915000200\" target=\"_blank\">http://doi.org/10.1017/S1351324915000200</a>"
   ]
  },
  {
   "cell_type": "code",
   "execution_count": 3,
   "metadata": {
    "slideshow": {
     "slide_type": "subslide"
    }
   },
   "outputs": [
    {
     "data": {
      "text/html": [
       "<img src=\"https://i.pinimg.com/564x/a4/c9/d4/a4c9d4682c4d7a1d729c7060dbca217d.jpg\"/>"
      ],
      "text/plain": [
       "<IPython.core.display.Image object>"
      ]
     },
     "execution_count": 3,
     "metadata": {},
     "output_type": "execute_result"
    }
   ],
   "source": [
    "Image(url=\"https://i.pinimg.com/564x/a4/c9/d4/a4c9d4682c4d7a1d729c7060dbca217d.jpg\")"
   ]
  },
  {
   "cell_type": "markdown",
   "metadata": {
    "slideshow": {
     "slide_type": "subslide"
    }
   },
   "source": [
    "# Language processing in the cloud\n",
    "\n",
    "- assumes that the processing you need was made available via an API accessible via HTTP(s)\n",
    "- the text to be processed is submitted using the HTTP protocol (careful about privacy issues)\n",
    "- the result is returned using HTTP protocol usually formatted using JSON\n",
    "- to access an API you usually need to have a key and it may not be free\n"
   ]
  },
  {
   "cell_type": "markdown",
   "metadata": {
    "slideshow": {
     "slide_type": "subslide"
    }
   },
   "source": [
    "# Typical steps for accessing a SaaS\n",
    "\n",
    "1. Import a relevant module (e.g. requests)\n",
    "2. Prepare the request by specifying the key and the relevant parameters\n",
    "3. Make the HTTP request and save the response\n",
    "4. Process the response and parse any JSON associated to extract the actual information"
   ]
  },
  {
   "cell_type": "markdown",
   "metadata": {
    "slideshow": {
     "slide_type": "subslide"
    }
   },
   "source": [
    "# Using MeaningCloud\n",
    "\n",
    "- One of the big players in the field of SaaS for NLP\n",
    "- Offer a variety of services\n",
    "- Chosen for practical reasons: easy to setup an account; 40,000 calls for month free; easy to access (no installation necessary, no credit card required)\n",
    "\n",
    "<a href=\"https://www.meaningcloud.com\">https://www.meaningcloud.com</a>"
   ]
  },
  {
   "cell_type": "markdown",
   "metadata": {
    "slideshow": {
     "slide_type": "subslide"
    }
   },
   "source": [
    "# 1. Import the relevant module\n",
    "\n",
    "- In python the module requests is widely used\n",
    "- It is referred as HTTP for humans because it makes the process easy\n",
    "- To use all that's necessary is to import it:\n",
    "\n",
    "```python\n",
    "import requests\n",
    "```\n",
    "\n",
    "- If you get an error while you try to import it, you may need to install it on your computer. Details on how to install available at <a href=\"http://docs.python-requests.org/en/master/user/install/#install\" target=\"_blank\">http://docs.python-requests.org/en/master/user/install/#install</a>\n",
    "\n",
    "- Documentation available <a href=\"http://docs.python-requests.org/en/master/\" target=\"_blank\">http://docs.python-requests.org/en/master/</a>"
   ]
  },
  {
   "cell_type": "code",
   "execution_count": 4,
   "metadata": {
    "collapsed": true,
    "slideshow": {
     "slide_type": "skip"
    }
   },
   "outputs": [],
   "source": [
    "import requests"
   ]
  },
  {
   "cell_type": "markdown",
   "metadata": {
    "slideshow": {
     "slide_type": "subslide"
    }
   },
   "source": [
    "# 2. Initialise the necessary variables\n",
    "\n",
    "- Initialise the url variable with the relevant URL\n",
    "- The URLs for different services can be found by clicking on the relevant sevice from <a href=\"https://www.meaningcloud.com/developer/apis\" target=\"_blank\">https://www.meaningcloud.com/developer/apis</a> and selecting \n",
    "\n",
    "```python\n",
    "url = \"http://api.meaningcloud.com/lang-2.0\"\n",
    "```\n",
    "- specify your key. It can be copied from <a href=\"https://www.meaningcloud.com/developer/account/subscription\" target=\"_blank\">https://www.meaningcloud.com/developer/account/subscription</a>\n",
    "\n",
    "```python\n",
    "key=\"....\"\n",
    "```\n",
    "\n",
    "- specify the text you want to process\n",
    "\n",
    "```python\n",
    "text=\"...\"\n",
    "```"
   ]
  },
  {
   "cell_type": "code",
   "execution_count": 5,
   "metadata": {
    "slideshow": {
     "slide_type": "skip"
    }
   },
   "outputs": [
    {
     "name": "stdout",
     "output_type": "stream",
     "text": [
      "Please enter the key:87be92031adf44e7b473e30d9974b603\n"
     ]
    }
   ],
   "source": [
    "url = \"http://api.meaningcloud.com/lang-2.0\"\n",
    "key=input(\"Please enter the key:\")\n",
    "text = \"Sąd składał się początkowo z przewodniczącego i siedmiu sędziów. Liczba ta została następnie poszerzona i obecnie na Sąd Najwyższy składa się z przewodniczącego i dwudziestu pięciu sędziów. Aby zostać sędzią Sądu Najwyższego należy posiadać indyjskie obywatelstwo oraz być sędzią sądu stanowego przez co najmniej 5 lat, adwokatem sądu stanowego przez co najmniej 10 lat, lub być wybitnym prawnikiem (decyduje opinia prezydenta).\""
   ]
  },
  {
   "cell_type": "markdown",
   "metadata": {
    "slideshow": {
     "slide_type": "subslide"
    }
   },
   "source": [
    "# 3. Prepare and make the request\n",
    "\n",
    "- prepare the headers for the request (the exact format is specified in the documentation)\n",
    "\n",
    "```python\n",
    "headers = {'content-type': 'application/x-www-form-urlencoded'}\n",
    "```\n",
    "- specify the parameters for the request (using string formatting in this case). The number of parameters and their meaning is different from service to service, and it is specified in the documentation\n",
    "\n",
    "```python\n",
    "payload = \"key=%s&txt=%s\" % (key, text.encode(\"utf-8\"))\n",
    "```\n",
    "\n",
    "- if the text you are processing is not in UTF-8 format, you will need to encode it to UTF-8\n",
    "\n",
    "- make the request\n",
    "\n",
    "```python\n",
    "response = requests.request(\"POST\", url, data=payload, headers=headers)\n",
    "```"
   ]
  },
  {
   "cell_type": "code",
   "execution_count": 6,
   "metadata": {
    "collapsed": true,
    "slideshow": {
     "slide_type": "skip"
    }
   },
   "outputs": [],
   "source": [
    "payload = \"key=%s&txt=%s\" % (key, text.encode(\"utf-8\"))\n",
    "headers = {'content-type': 'application/x-www-form-urlencoded'}\n",
    "\n",
    "response = requests.request(\"POST\", url, data=payload, headers=headers)"
   ]
  },
  {
   "cell_type": "markdown",
   "metadata": {
    "slideshow": {
     "slide_type": "subslide"
    }
   },
   "source": [
    "# 4. Process the returned JSON\n",
    "\n",
    "- usually the answer is returned as a JSON (JavaScript Object Notation) object \n",
    "- the structure is different from service to service.\n",
    "- In the case of Meaning Cloud it has a part which indicates the status (e.g. error messages, remaining credits) and a part with the analysis"
   ]
  },
  {
   "cell_type": "markdown",
   "metadata": {
    "slideshow": {
     "slide_type": "subslide"
    }
   },
   "source": [
    "# Processing JSON in python\n",
    "\n",
    "- JSON (JavaScrip Object Notation) is a lightweight data interchange format inspired by JavaScript object literal syntax\n",
    "- It was designed for human-readable data interchange\n",
    "- It is easy to read and write\n",
    "- Data is represented in name/value pairs\n",
    "- Curly braces hold objects and each name is followed by ':'(colon), the name/value pairs are separated by , (comma).\n",
    "- Square brackets hold arrays and values are separated by ,(comma).\n"
   ]
  },
  {
   "cell_type": "markdown",
   "metadata": {
    "slideshow": {
     "slide_type": "subslide"
    }
   },
   "source": [
    "# Example of JSON \n",
    "\n",
    "- JSON returned by the language identification service"
   ]
  },
  {
   "cell_type": "code",
   "execution_count": 7,
   "metadata": {
    "slideshow": {
     "slide_type": "fragment"
    }
   },
   "outputs": [
    {
     "name": "stdout",
     "output_type": "stream",
     "text": [
      "{\"status\":{\"code\":\"0\",\"msg\":\"OK\",\"credits\":\"1\",\"remaining_credits\":\"39990\"},\"language_list\":[{\"language\":\"pl\",\"relevance\":\"100\",\"name\":\"Polish\",\"iso639-3\":\"pol\",\"iso639-2\":\"pl\"}]}\n"
     ]
    }
   ],
   "source": [
    "print(response.text)"
   ]
  },
  {
   "cell_type": "markdown",
   "metadata": {
    "slideshow": {
     "slide_type": "subslide"
    }
   },
   "source": [
    "# Processing JSON in python\n",
    "\n",
    "- there is a variety of libraries, but we will use the default one\n",
    "\n",
    "```python\n",
    "import json\n",
    "```\n",
    "\n",
    "- parse the answer we need to load it. Make sure you use **loads** not **load**.\n",
    "```python\n",
    "parsed_json = json.loads(response.text)\n",
    "```\n",
    "- objects can be processed exactly the same way as dictionaries, and arrays like python lists.\n"
   ]
  },
  {
   "cell_type": "code",
   "execution_count": 8,
   "metadata": {
    "slideshow": {
     "slide_type": "subslide"
    }
   },
   "outputs": [
    {
     "name": "stdout",
     "output_type": "stream",
     "text": [
      "status => {'code': '0', 'msg': 'OK', 'credits': '1', 'remaining_credits': '39990'}\n",
      "language_list => [{'language': 'pl', 'relevance': '100', 'name': 'Polish', 'iso639-3': 'pol', 'iso639-2': 'pl'}]\n"
     ]
    }
   ],
   "source": [
    "import json \n",
    "parsed_json = json.loads(response.text)\n",
    "for key in parsed_json:\n",
    "    print(key, \"=>\", parsed_json[key])"
   ]
  },
  {
   "cell_type": "code",
   "execution_count": 9,
   "metadata": {
    "slideshow": {
     "slide_type": "fragment"
    }
   },
   "outputs": [
    {
     "name": "stdout",
     "output_type": "stream",
     "text": [
      "code => 0\n",
      "msg => OK\n",
      "credits => 1\n",
      "remaining_credits => 39990\n"
     ]
    }
   ],
   "source": [
    "status = parsed_json[\"status\"]\n",
    "for key in status:\n",
    "    print(key, \"=>\", status[key])"
   ]
  },
  {
   "cell_type": "markdown",
   "metadata": {
    "slideshow": {
     "slide_type": "subslide"
    }
   },
   "source": [
    "# Exercise\n",
    "\n",
    "1. Create an account on Meaning Cloud\n",
    "2. Using the above steps call one of the APIs available other than the Language Identification. Read the documentation to understand what the service does and which is its input.\n",
    "3. Display the information that you find meaningful. "
   ]
  },
  {
   "cell_type": "markdown",
   "metadata": {
    "slideshow": {
     "slide_type": "slide"
    }
   },
   "source": [
    "# Further reading\n",
    "\n",
    "- Tutorial about JSON: <a href=\"https://www.tutorialspoint.com/json/index.htm\" target=\"_blank\">https://www.tutorialspoint.com/json/index.htm</a>\n",
    "- Learn more about the services offered by Meaning Cloud: <a href=\"https://www.meaningcloud.com/developer/documentation\" target=\"_blank\">https://www.meaningcloud.com/developer/documentation</a>\n",
    "- Read about the standard JSON library in python: <a href=\"https://docs.python.org/3.6/library/json.html\" target=\"_blank\">https://docs.python.org/3.6/library/json.html</a>\n"
   ]
  },
  {
   "cell_type": "raw",
   "metadata": {
    "slideshow": {
     "slide_type": "slide"
    }
   },
   "source": [
    "<a rel=\"license\" href=\"http://creativecommons.org/licenses/by-sa/4.0/\"><img alt=\"Creative Commons Licence\" style=\"border-width:0\" src=\"https://i.creativecommons.org/l/by-sa/4.0/88x31.png\" /></a><br /><span xmlns:dct=\"http://purl.org/dc/terms/\" property=\"dct:title\">Python programming for linguists</span> by <a xmlns:cc=\"http://creativecommons.org/ns#\" href=\"http://dinel.org.uk\" property=\"cc:attributionName\" rel=\"cc:attributionURL\">Constantin Orasan</a> is licensed under a <a rel=\"license\" href=\"http://creativecommons.org/licenses/by-sa/4.0/\">Creative Commons Attribution-ShareAlike 4.0 International License</a>.<br />Based on a work at <a xmlns:dct=\"http://purl.org/dc/terms/\" href=\"https://github.com/dinel/PythonForLinguists\" rel=\"dct:source\">https://github.com/dinel/PythonForLinguists</a>."
   ]
  }
 ],
 "metadata": {
  "celltoolbar": "Slideshow",
  "kernelspec": {
   "display_name": "Python 3",
   "language": "python",
   "name": "python3"
  },
  "language_info": {
   "codemirror_mode": {
    "name": "ipython",
    "version": 3
   },
   "file_extension": ".py",
   "mimetype": "text/x-python",
   "name": "python",
   "nbconvert_exporter": "python",
   "pygments_lexer": "ipython3",
   "version": "3.6.2"
  }
 },
 "nbformat": 4,
 "nbformat_minor": 2
}
