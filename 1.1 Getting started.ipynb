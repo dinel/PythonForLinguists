{
 "cells": [
  {
   "cell_type": "markdown",
   "metadata": {
    "slideshow": {
     "slide_type": "slide"
    }
   },
   "source": [
    "# Python programming for linguists\n",
    "## Getting started\n",
    "\n"
   ]
  },
  {
   "cell_type": "markdown",
   "metadata": {
    "slideshow": {
     "slide_type": "slide"
    }
   },
   "source": [
    "# About me\n",
    "\n",
    "- Constantin Orasan (<a href=\"http://www.wlv.ac.uk/~in6093/\" target=\"_blank\">http://www.wlv.ac.uk/~in6093/</a>)\n",
    "- Reader in Computational Linguistics at University of Wolverhampton, UK\n",
    "- nearly 30 years of experience with computers\n",
    "- I've been using and teaching Python for the last 10 years\n",
    "\n"
   ]
  },
  {
   "cell_type": "markdown",
   "metadata": {
    "slideshow": {
     "slide_type": "slide"
    }
   },
   "source": [
    "# Purpose of the course\n",
    "\n",
    "- to acquire basic and intermediate concepts of computer science and programming in Python.\n",
    "- for linguists and other non-computer-scientists who have no programming experience,\n",
    "- computer scientists interested to learning Python also benefit from it, but the first part may be too easy\n",
    "- special focus will be on Python and how it can be used to solve problems from linguistics.\n"
   ]
  },
  {
   "cell_type": "markdown",
   "metadata": {
    "slideshow": {
     "slide_type": "subslide"
    }
   },
   "source": [
    "# Structure of the course\n",
    "\n",
    "### Workshop 1 focused on basic knowledge of Python and programming\n",
    "- Python syntax (functions, control structures, modules, ...) and how to write Python code\n",
    "- Data structures: strings, tuples, dictionaries, ...\n",
    "- Processing multilingual text and working with files\n",
    "- Try as many examples as possible and do increasingly complicated examples\n",
    "\n",
    "### Workhop 2 focused on libraries that could be useful for language processing\n",
    "- Look at a few more advanced bits of python\n",
    "- Learn how to write regular expressions\n",
    "- Learn about NLTK \n",
    "- Reading data in different formats and access APIs\n",
    "\n",
    "** None of this is set in stone, so the structure will depend largely on you! **"
   ]
  },
  {
   "cell_type": "code",
   "execution_count": 6,
   "metadata": {
    "slideshow": {
     "slide_type": "skip"
    }
   },
   "outputs": [
    {
     "data": {
      "text/html": [
       "<style>\n",
       "table {float:left; }\n",
       "</style>"
      ],
      "text/plain": [
       "<IPython.core.display.HTML object>"
      ]
     },
     "metadata": {},
     "output_type": "display_data"
    }
   ],
   "source": [
    "%%html\n",
    "<style>\n",
    "table {float:left; }\n",
    "</style>"
   ]
  },
  {
   "cell_type": "markdown",
   "metadata": {
    "slideshow": {
     "slide_type": "slide"
    }
   },
   "source": [
    "# Workshop 1\n",
    "\n",
    "|           |**Monday**                                                                   |\n",
    "|-----------|:----------------------------------------------------------------------------|\n",
    "|09:30-10:45|Getting started, install python, play with Turtle                            |\n",
    "|11:00-12:30|Simple data types (numbers, strings). Variables                              |\n",
    "|14:00-15:45|Controlling the flow of the program. Conditions and loops. Lists and tuples. |\n",
    "|16:00-18:00|Functions. Working with sequences                                            |\n",
    "\n",
    "\n",
    "|             |**Tuesday**                                                                  |\n",
    "|-------------|:----------------------------------------------------------------------------|\n",
    "|9:30 - 11:00 |Dictionaries, creating frequency list                                        |\n",
    "|11:00 - 12:30|Working with files and exceptions                                            |\n",
    "|14:00 - 16:00|Multilingual language processing. Unicode.                                   |\n",
    "|16:00 - 18:00|Exercises and wrap up the first session                                      |"
   ]
  },
  {
   "cell_type": "markdown",
   "metadata": {
    "slideshow": {
     "slide_type": "slide"
    }
   },
   "source": [
    "# Why python?\n",
    "\n",
    "- Surveys list Python as one of the top programming languages ([Packt survey](http://www.javaworld.com/article/3209754/application-development/article.html))\n",
    "- It is easy to use (5 times shorter than equivalent in Java and 10 times shorter than equivalent in C)\n",
    "- It is powerful\n",
    "- It runs everywhere\n",
    "- It has a strong community\n",
    "- It is free and open source\n",
    "\n",
    "(it is object oriented, it is a “glue” language, it is fashionable, there is NLTK)\n"
   ]
  },
  {
   "cell_type": "markdown",
   "metadata": {
    "slideshow": {
     "slide_type": "subslide"
    }
   },
   "source": [
    "# Which programming language should I learn first?\n",
    "\n",
    "![Infographic](imgs/which-programming-language-should-i-learn-first-infographic.png)\n",
    "\n",
    "See the original at full size at <a href=\"http://carlcheo.com/startcoding\" target=\"_blank\">http://carlcheo.com/startcoding</a>. \n",
    "\n",
    "The page also has comparison between programming languages and Lord of the Rings and a lively discussion. \n"
   ]
  },
  {
   "cell_type": "markdown",
   "metadata": {
    "slideshow": {
     "slide_type": "slide"
    }
   },
   "source": [
    "# How do you draw a house?\n",
    "\n",
    "<br><br><br>\n",
    "\n",
    "- Think how you would tell a computer to draw a house\n",
    "\n",
    "<br><br>\n",
    "\n",
    "- What operations do you assume are available\n"
   ]
  },
  {
   "cell_type": "markdown",
   "metadata": {
    "slideshow": {
     "slide_type": "slide"
    }
   },
   "source": [
    "# Problem solving"
   ]
  },
  {
   "cell_type": "markdown",
   "metadata": {
    "slideshow": {
     "slide_type": "fragment"
    }
   },
   "source": [
    "1. Understand the problem\n",
    "2. Dissect the problem in manageable pieces\n",
    "3. Design the solution\n",
    "4. Consider alternatives to the solution and refine it\n",
    "5. Implement the solution\n",
    "6. Test the solution and fix any problems that exist\n"
   ]
  },
  {
   "cell_type": "markdown",
   "metadata": {
    "slideshow": {
     "slide_type": "subslide"
    }
   },
   "source": [
    "![What is programming](imgs/what-is-programming.png)\n",
    "\n",
    "See the infographics and its explanation at <a href=\"http://carlcheo.com/what-is-programming-what-do-programmers-do\" target=\"_blank\">http://carlcheo.com/what-is-programming-what-do-programmers-do</a>\n",
    "\n"
   ]
  },
  {
   "cell_type": "markdown",
   "metadata": {
    "slideshow": {
     "slide_type": "subslide"
    }
   },
   "source": [
    "# The software development process\n",
    "\n",
    "1. **Analyse the problem**: figure out what the problem to be solved is\n",
    "\n",
    "2. **Determine the specifications**: describe what the program will do.\n",
    " - Worry about **what** the program will do and **not how** it will do it\n",
    " - Determine the **inputs** and **outputs** of the program and how they are related\n",
    " \n",
    "3. **Create a design**: formulate the overall structure of the program. How it achieves the results.\n",
    "\n",
    "4. **Implement the design**: translate the program in a computer language\n",
    "\n",
    "5. **Test/debug the program**: try out the program to see whether it works as expected\n",
    "\n",
    "6. **Maintain the program**: continue development in response to the needs of users\n",
    "\n",
    "__Note__: This is very general view and different programming paradigms have their own specifications\n"
   ]
  },
  {
   "cell_type": "markdown",
   "metadata": {
    "slideshow": {
     "slide_type": "subslide"
    }
   },
   "source": [
    "# My view on software development\n",
    "\n",
    "1. Analyse the problem\n",
    "2. Determine the specifications\n",
    "3. Create the design largely breaking the problem in tiny bits\n",
    "4. Implement the tiny bits I know, search for the rest on <a href=\"stackoverflow.com\" target=\"_blank\">stackoverflow</a>\n",
    "5. Test/debug the program (especially the bits taken from stackoverflow without clearly understanding what they do)\n",
    "\n",
    "**Note**: not to be taken entirely serious"
   ]
  },
  {
   "cell_type": "markdown",
   "metadata": {
    "slideshow": {
     "slide_type": "slide"
    }
   },
   "source": [
    "# What we will use in this workshop\n",
    "\n",
    "- Python 3\n",
    "- IDLE\n",
    "- PythonTutor website\n",
    "\n",
    "\n",
    "If you have time you can explore Anaconda (https://www.continuum.io/downloads) and/or use PyCharm (https://www.jetbrains.com/pycharm/) as an IDE"
   ]
  },
  {
   "cell_type": "markdown",
   "metadata": {
    "slideshow": {
     "slide_type": "slide"
    }
   },
   "source": [
    "# How to install python?\n",
    "\n",
    "To install python follow the guidelines from <a href=\"https://www.python.org/downloads/\" target=\"_blank\">https://www.python.org/downloads/</a> for your operating system.\n",
    "\n",
    "We are here to help if you run into troubles.\n",
    "\n",
    "**Note**: If you are going to attend the second workshop it is recommended to install python3.5 (32bit version) in order to run NLTK without problems"
   ]
  },
  {
   "cell_type": "markdown",
   "metadata": {
    "slideshow": {
     "slide_type": "slide"
    }
   },
   "source": [
    "# Using python\n",
    "\n",
    "### Interactive mode\n",
    "   - the quickest way to interact with python. \n",
    "   - tell python what to do and it responds immediately\n",
    "   - it can be started by calling ``python`` directly or by relying on your IDE\n",
    "   \n",
    "### Script mode\n",
    "   - you can write, edit, load, save your code\n",
    "   - you run your code only when you feel it is ready\n",
    "   - any text editor can be used to edit your code\n",
    "   - to run the code, the name of the file has to be passed as an argument to python command\n",
    "   - however, using an IDE makes the process much simpler (and usually it has syntax highlighting)"
   ]
  },
  {
   "cell_type": "markdown",
   "metadata": {
    "slideshow": {
     "slide_type": "slide"
    }
   },
   "source": [
    "# Commenting the code\n",
    "\n",
    "It is good practice to comment your code. The beginning of a comment in python is marked by ``#``. Everything that follows ``#`` is ignored.\n",
    "\n",
    "```python\n",
    "#this is a comment\n",
    "print(\"Hello world!\")  # this is also a comment, but after a bit of code\n",
    "\n",
    "'''\n",
    "  Comments can be also be marked by triple apostrophes especially when \n",
    "  they are on several lines, but they also have a different meaning\n",
    "'''\n",
    "\n",
    "```\n",
    "\n",
    "Comments are very useful to explain others your code and understand your code when you return to it."
   ]
  },
  {
   "cell_type": "markdown",
   "metadata": {
    "slideshow": {
     "slide_type": "slide"
    }
   },
   "source": [
    "# Reading and writing\n",
    "\n",
    "When using computers quite often we talk about **standard input** and **standard output**. Usually they correspond to keyboard and screen, respectively.\n",
    "\n"
   ]
  },
  {
   "cell_type": "markdown",
   "metadata": {
    "slideshow": {
     "slide_type": "subslide"
    }
   },
   "source": [
    "# print function\n",
    "\n",
    "``print(expr1, expr2, ..., exprn, sep=' ', end='\\n')`` prints the values of ``expr1``, ``expr2``, ..., ``exprn`` to the standard output. \n",
    "\n",
    "- ``sep`` controls the string inserted between values. Default is space\n",
    "- ``end`` controls the string printed after the last value. Default new line\n"
   ]
  },
  {
   "cell_type": "code",
   "execution_count": 7,
   "metadata": {
    "slideshow": {
     "slide_type": "fragment"
    }
   },
   "outputs": [
    {
     "name": "stdout",
     "output_type": "stream",
     "text": [
      "Help on built-in function print in module builtins:\n",
      "\n",
      "print(...)\n",
      "    print(value, ..., sep=' ', end='\\n', file=sys.stdout, flush=False)\n",
      "    \n",
      "    Prints the values to a stream, or to sys.stdout by default.\n",
      "    Optional keyword arguments:\n",
      "    file:  a file-like object (stream); defaults to the current sys.stdout.\n",
      "    sep:   string inserted between values, default a space.\n",
      "    end:   string appended after the last value, default a newline.\n",
      "    flush: whether to forcibly flush the stream.\n",
      "\n"
     ]
    }
   ],
   "source": [
    "help(print)"
   ]
  },
  {
   "cell_type": "code",
   "execution_count": 8,
   "metadata": {
    "slideshow": {
     "slide_type": "subslide"
    }
   },
   "outputs": [
    {
     "name": "stdout",
     "output_type": "stream",
     "text": [
      "Example without value for sep parameter: There are < 4294967296 > possibilities!\n",
      "Example with value for sep parameter   : There are <4294967296> possibilities!\n"
     ]
    }
   ],
   "source": [
    "# example how to use the sep parameter\n",
    "print (\"Example without value for sep parameter: There are <\", 2**32, \"> possibilities!\")\n",
    "print (\"Example with value for sep parameter   : There are <\", 2**32, \"> possibilities!\", sep=\"\")"
   ]
  },
  {
   "cell_type": "code",
   "execution_count": 9,
   "metadata": {
    "slideshow": {
     "slide_type": "fragment"
    }
   },
   "outputs": [
    {
     "name": "stdout",
     "output_type": "stream",
     "text": [
      "The first line\n",
      "The second line\n"
     ]
    }
   ],
   "source": [
    "# example how to use the end parameter\n",
    "print(\"The first line\")\n",
    "print(\"The second line\")"
   ]
  },
  {
   "cell_type": "code",
   "execution_count": 10,
   "metadata": {
    "slideshow": {
     "slide_type": "fragment"
    }
   },
   "outputs": [
    {
     "name": "stdout",
     "output_type": "stream",
     "text": [
      "The first line<br>The second line<br>"
     ]
    }
   ],
   "source": [
    "# when the end parameter is present. \n",
    "print(\"The first line\", end=\"<br>\")\n",
    "print(\"The second line\", end=\"<br>\")"
   ]
  },
  {
   "cell_type": "code",
   "execution_count": 11,
   "metadata": {
    "slideshow": {
     "slide_type": "fragment"
    }
   },
   "outputs": [
    {
     "name": "stdout",
     "output_type": "stream",
     "text": [
      "\n",
      "This is after an empty line\n"
     ]
    }
   ],
   "source": [
    "# print with no parameter prints an empty line\n",
    "print()\n",
    "print(\"This is after an empty line\")"
   ]
  },
  {
   "cell_type": "markdown",
   "metadata": {
    "slideshow": {
     "slide_type": "subslide"
    }
   },
   "source": [
    "# print: python3 vs python2\n",
    "\n",
    "- in python2, print was a statement rather than function\n",
    "\n",
    "e.g. ``print \"There are <\", 2**32, \"> possibilities!\"``\n",
    "\n",
    "- python2 code with ``print`` statements will not work in python3\n",
    "- python3 code which uses the ``print`` function without relying on ``sep``, ``end``, ``file`` and ``flush`` parameters will run in python2, but the result may look a bit different than expected\n",
    "- use ``from __future__ import print_function`` to use the ``print`` function in python2\n",
    "\n",
    "Read more about the ``print`` function at <a href=\"http://www.python-course.eu/python3_print.php\" target=\"_blank\">http://www.python-course.eu/python3_print.php</a>"
   ]
  },
  {
   "cell_type": "markdown",
   "metadata": {
    "slideshow": {
     "slide_type": "subslide"
    }
   },
   "source": [
    "# input function\n",
    "\n",
    "``input(prompt=None)`` reads a string from the standard input. The trailing newline is stripped. \n",
    "- Returns the string entered.\n",
    "- The execution of the program stops"
   ]
  },
  {
   "cell_type": "code",
   "execution_count": 12,
   "metadata": {
    "slideshow": {
     "slide_type": "fragment"
    }
   },
   "outputs": [
    {
     "name": "stdout",
     "output_type": "stream",
     "text": [
      "Please enter your name: Constantin Orasan\n"
     ]
    },
    {
     "data": {
      "text/plain": [
       "'Constantin Orasan'"
      ]
     },
     "execution_count": 12,
     "metadata": {},
     "output_type": "execute_result"
    }
   ],
   "source": [
    "input(\"Please enter your name: \")"
   ]
  },
  {
   "cell_type": "markdown",
   "metadata": {
    "slideshow": {
     "slide_type": "fragment"
    }
   },
   "source": [
    "**Note**: input function returns a string and needs to be converted to a number if a number is expected (see more in the next session)\n",
    "\n",
    "**python2** has two input functions: \n",
    "- ``input`` returns a number\n",
    "- ``raw_input`` returns a string, but no longer available in python3"
   ]
  },
  {
   "cell_type": "markdown",
   "metadata": {
    "slideshow": {
     "slide_type": "slide"
    }
   },
   "source": [
    "# The turtle module\n",
    "\n",
    "Turtle graphics is a popular way of introducing programming (to kids). It based on <a href=\"https://en.wikipedia.org/wiki/Logo_(programming_language)\" target=\"_blank\">the Logo programming language</a>. Allows creating simple drawings using a \"turtle\" which can be commanded. \n",
    "\n",
    "**Commands to move the turtle**\n",
    "- ``turtle.home()`` - moves the turtle to origin (0, 0)\n",
    "- ``turtle.goto(x,y)`` - moves the turtle to (x,y)\n",
    "- ``turtle.forward(distance)`` and ``turtle.fd(distance)`` - moves the turtle forward by the specified distance\n",
    "- ``turtle.backward(distance)`` and ``turtle.bk(distance)`` - moves the turtle backwards by the specified distance\n",
    "- ``turtle.right(angle)`` - rotates the turtle right by angle units\n",
    "- ``turtle.left(angle)`` - rotates the turtle left by angle units\n",
    "- ``turtle.circle(radius)`` - draws a circle of a given radius\n"
   ]
  },
  {
   "cell_type": "markdown",
   "metadata": {
    "slideshow": {
     "slide_type": "subslide"
    }
   },
   "source": [
    "# The turtle module\n",
    "\n",
    "**Pen control**\n",
    "- ``turtle.up()`` - puts the pen up\n",
    "- ``turtle.down()`` - puts the pen down\n",
    "- ``turtle.pensize(size)`` - sets the thickness of the pen\n",
    "- ``turtle.color(color)`` - the name of the color to be used\n",
    "\n",
    "**More drawing control**\n",
    "- ``turtle.reset()`` - deletes the drawing and moves the turtle home\n",
    "- ``turtle.clear()`` - deletes the drawing, but does not move the turtle\n",
    "- ``turtle.bye()`` - closes the drawing\n",
    "\n",
    "Read more about the module: <a href=\"https://docs.python.org/3.6/library/turtle.html\" target=\"_blank\">https://docs.python.org/3.6/library/turtle.html</a>\n"
   ]
  },
  {
   "cell_type": "markdown",
   "metadata": {
    "slideshow": {
     "slide_type": "subslide"
    }
   },
   "source": [
    "# Example of using turtle\n",
    "\n",
    "To draw a square\n",
    "\n",
    "```python\n",
    "\n",
    "# first we need to import the turtle module \n",
    "import turtle\n",
    "\n",
    "turtle.forward(50)\n",
    "turtle.left(90)\n",
    "turtle.forward(50)\n",
    "turtle.left(90)\n",
    "turtle.forward(50)\n",
    "turtle.left(90)\n",
    "turtle.forward(50)\n",
    "turtle.left(90)\n",
    "\n",
    "```"
   ]
  },
  {
   "cell_type": "markdown",
   "metadata": {
    "slideshow": {
     "slide_type": "subslide"
    }
   },
   "source": [
    "# Practical session\n",
    "\n",
    "- Make sure you get python running on your computers\n",
    "- Using the turtle module draw the Olympic circles \n",
    "- Using the turtle module draw a ladder. "
   ]
  },
  {
   "cell_type": "markdown",
   "metadata": {
    "slideshow": {
     "slide_type": "subslide"
    }
   },
   "source": [
    "# Further reading\n",
    "\n",
    "- Example how to use the turtle module: <a href=\"https://opentechschool.github.io/python-beginners/en/simple_drawing.html\" target=\"_blank\">https://opentechschool.github.io/python-beginners/en/simple_drawing.html</a>\n",
    "- Familiarise yourself with IDLE by reading One Day of IDLE Toying\n",
    "<a href=\"http://hkn.eecs.berkeley.edu/~dyoo/python/idle_intro/\" target=\"_blank\">http://hkn.eecs.berkeley.edu/~dyoo/python/idle_intro/</a> (**careful the examples are in python2**)\n",
    "- Understand the interactive shell <a href=\"http://www.python-course.eu/python3_interactive.php\" target=\"_blank\">http://www.python-course.eu/python3_interactive.php</a>\n",
    "- Understand how executing a script works <a href=\"http://www.python-course.eu/python3_execute_script.php\" target=\"_blank\">http://www.python-course.eu/python3_execute_script.php</a>\n",
    "- Try examples from <a href=\"https://en.wikibooks.org/wiki/Non-Programmer%27s_Tutorial_for_Python_3/Intro\" target=\"_blank\">https://en.wikibooks.org/wiki/Non-Programmer%27s_Tutorial_for_Python_3/Intro</a> \n",
    "- Chapter 1 of *Python Programming for the Absolute Beginner* by Michael Dawson\n",
    "- Another nice turtle tutorial: <a href=\"https://dbader.org/blog/python-intro-statements-variables-and-loops\" target=\"_blank\">https://dbader.org/blog/python-intro-statements-variables-and-loops</a> \n"
   ]
  },
  {
   "cell_type": "raw",
   "metadata": {
    "slideshow": {
     "slide_type": "slide"
    }
   },
   "source": [
    "<a rel=\"license\" href=\"http://creativecommons.org/licenses/by-sa/4.0/\"><img alt=\"Creative Commons Licence\" style=\"border-width:0\" src=\"https://i.creativecommons.org/l/by-sa/4.0/88x31.png\" /></a><br /><span xmlns:dct=\"http://purl.org/dc/terms/\" property=\"dct:title\">Python programming for linguists</span> by <a xmlns:cc=\"http://creativecommons.org/ns#\" href=\"http://dinel.org.uk\" property=\"cc:attributionName\" rel=\"cc:attributionURL\">Constantin Orasan</a> is licensed under a <a rel=\"license\" href=\"http://creativecommons.org/licenses/by-sa/4.0/\">Creative Commons Attribution-ShareAlike 4.0 International License</a>.<br />Based on a work at <a xmlns:dct=\"http://purl.org/dc/terms/\" href=\"https://github.com/dinel/PythonForLinguists\" rel=\"dct:source\">https://github.com/dinel/PythonForLinguists</a>."
   ]
  }
 ],
 "metadata": {
  "celltoolbar": "Slideshow",
  "kernelspec": {
   "display_name": "Python [default]",
   "language": "python",
   "name": "python3"
  },
  "language_info": {
   "codemirror_mode": {
    "name": "ipython",
    "version": 3
   },
   "file_extension": ".py",
   "mimetype": "text/x-python",
   "name": "python",
   "nbconvert_exporter": "python",
   "pygments_lexer": "ipython3",
   "version": "3.5.3"
  }
 },
 "nbformat": 4,
 "nbformat_minor": 2
}
