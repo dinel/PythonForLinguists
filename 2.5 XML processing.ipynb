{
 "cells": [
  {
   "cell_type": "code",
   "execution_count": 1,
   "metadata": {
    "slideshow": {
     "slide_type": "skip"
    }
   },
   "outputs": [
    {
     "name": "stdout",
     "output_type": "stream",
     "text": [
      "Exception reporting mode: Plain\n",
      "Doctest mode is: ON\n"
     ]
    }
   ],
   "source": [
    "# stuff that are needed to get the output pretty\n",
    "# but not to be included in the slideshow\n",
    "%doctest_mode"
   ]
  },
  {
   "cell_type": "markdown",
   "metadata": {
    "slideshow": {
     "slide_type": "slide"
    }
   },
   "source": [
    "# Python and XML"
   ]
  },
  {
   "cell_type": "markdown",
   "metadata": {
    "slideshow": {
     "slide_type": "slide"
    }
   },
   "source": [
    "# What is XML?\n",
    "\n",
    "- XML (eXtensible Markup Language) is a markup language for documents containing structured information\n",
    "- A recommendation by the World Wide Web Consortium W3C (1998)\n",
    "- XML is just plain text: Software that can handle plain text can also handle XML\n",
    "- XML does not DO anything: it was created to structure, store and send information\n",
    "- XML is not a programming language"
   ]
  },
  {
   "cell_type": "markdown",
   "metadata": {
    "slideshow": {
     "slide_type": "slide"
    }
   },
   "source": [
    "```xml\n",
    "<?xml version=\"1.0\" encoding=\"UTF-8\" standalone=\"no\"?>\n",
    "<job id=\"evaluation A1\" progress=\"500/500\" status=\"FINISHED\">\n",
    "  <unit id=\"1\" status=\"FINISHED\" type=\"pe\">\n",
    "    <S producer=\"FILES1and2\">What is the most essential information in Business Analyst CV?</S>\n",
    "    <MT producer=\"SMT\">Was ist die wichtigsten Informationen in Business Analyst Lebenslauf?</MT>\n",
    "    <annotations revisions=\"1\">\n",
    "      <annotation r=\"1\">\n",
    "        <PE producer=\"Translator_1.SMT\">Was sind die wichtigsten Informationen im Business Analyst Lebenslauf?</PE>\n",
    "        <assessment id=\"fluency\">\n",
    "          <score>3. Near native </score>\n",
    "        </assessment>\n",
    "        ...\n",
    "      </annotation>\n",
    "    </annotations>\n",
    "  </unit>\n",
    "</job>\n",
    "```\n",
    "\n",
    "- this XML document is just information wrapped in XML tags. Someone needs to write a piece of software to send, receive or display it."
   ]
  },
  {
   "cell_type": "markdown",
   "metadata": {
    "slideshow": {
     "slide_type": "subslide"
    }
   },
   "source": [
    "```xml\n",
    "<?xml version=\"1.0\" encoding=\"UTF-8\" standalone=\"no\"?>\n",
    "<job id=\"evaluation A1\" progress=\"500/500\" status=\"FINISHED\">\n",
    "  <unit id=\"1\" status=\"FINISHED\" type=\"pe\">\n",
    "      <S producer=\"FILES1and2\">What is the most essential information in Business Analyst CV?</S>\n",
    "  ...\n",
    "```\n",
    "\n",
    "- ``<?xml version=\"1.0\" encoding=\"UTF-8\" standalone=\"no\"?>`` is XML declaration. Depending on the parser it may not be neccessary\n",
    "- ``<job id=\"evaluation A1\" progress=\"500/500\" status=\"FINISHED\">`` is the root node of the document. Every XML document needs to have exactly one root node\n",
    "   - **job** is called the tag name\n",
    "   - **id=\"evaluation A1\"** indicates that the attribute **id** has value **evaluation A1**\n",
    "- ``<unit id=\"1\" status=\"FINISHED\" type=\"pe\">`` is a child element of tag **job**\n",
    "- **What is the most essential information in Business Analyst CV?** is a text node and the child node of tag **S**"
   ]
  },
  {
   "cell_type": "markdown",
   "metadata": {
    "slideshow": {
     "slide_type": "subslide"
    }
   },
   "source": [
    "- XML documents have a tree structure\n",
    "- we use terms:\n",
    "    - root node\n",
    "    - parent, child, sibling to describe the relationship between elements"
   ]
  },
  {
   "cell_type": "markdown",
   "metadata": {
    "slideshow": {
     "slide_type": "subslide"
    }
   },
   "source": [
    "# XML Elements\n",
    "\n",
    "- is a container for its content\n",
    "\n",
    "```xml\n",
    "<assessment id=\"fluency\">\n",
    "  <score>3. Near native </score>\n",
    "</assessment>\n",
    "```\n",
    "\n",
    "- there are two XML elements here: **assessment** and **score**\n",
    "- XML elements can have text content or another XML elements\n",
    "- An XML element should be well-formed. The example below it is not, fact also highlighted in this case by the colours used for rendering\n",
    "\n",
    "```xml\n",
    "<assessment id=\"fluency\">\n",
    "  <score>3. Near native</assessment>\n",
    "  </score>\n",
    "```"
   ]
  },
  {
   "cell_type": "markdown",
   "metadata": {
    "slideshow": {
     "slide_type": "subslide"
    }
   },
   "source": [
    "# XML elements\n",
    "\n",
    "- the name of an element\n",
    "    - is case sensitive\n",
    "    - must start with a letter or _\n",
    "    - can contain alphanumeric characters, _ or ~\n",
    "- elements can have attributes (name-value pairs) `` <assessment id=\"fluency\">``\n",
    "- attribute values must be surrounded by single or double quotes"
   ]
  },
  {
   "cell_type": "markdown",
   "metadata": {
    "slideshow": {
     "slide_type": "subslide"
    }
   },
   "source": [
    "# XML comments\n",
    "\n",
    "- Start with ``<!--`` and end with ``-->``\n",
    "- comments cannot be nested (comments inside comments)\n",
    "- can be accessed by the XML parser"
   ]
  },
  {
   "cell_type": "markdown",
   "metadata": {
    "slideshow": {
     "slide_type": "subslide"
    }
   },
   "source": [
    "# Entity references\n",
    "\n",
    "- some characters have special meanings in XML (e.g. <, \")\n",
    "- these characters can be represented using entities\n",
    "- Entities are also used to refer to often repeated or varying text and to include the content of external files\n",
    "- standard XML entities: \n",
    "    - ``&lt;`` for ``<`` \n",
    "    - ``&gt;`` for ``>``\n",
    "    - ``&amp;`` for ``&``\n",
    "    - ``&apos;`` for ``'``\n",
    "    - ``&quot;`` for ``\"``"
   ]
  },
  {
   "cell_type": "markdown",
   "metadata": {
    "slideshow": {
     "slide_type": "subslide"
    }
   },
   "source": [
    "# Document Type Definition (DTD)\n",
    "\n",
    "- it is not compulsory\n",
    "- define rules for elements content, attribute of an element, values, etc.\n",
    "\n",
    "- Well-formed vs. valid XML document:\n",
    "    - well-formed – matches all the character encoding and syntax rules defined in the XML 1.0 recommendations\n",
    "    - valid – matches the definitions in the DTD and is well-formed"
   ]
  },
  {
   "cell_type": "markdown",
   "metadata": {
    "slideshow": {
     "slide_type": "slide"
    }
   },
   "source": [
    "# XML and regular expressions\n",
    "\n",
    "```xml\n",
    "<job id=\"evaluation A1\" progress=\"500/500\" status=\"FINISHED\">\n",
    "  <unit id=\"1\" status=\"FINISHED\" type=\"pe\">\n",
    "    <S producer=\"FILES1and2\">What is the most essential information in Business Analyst CV?</S>\n",
    "  </unit>\n",
    "</job>\n",
    "```\n",
    "\n",
    "Exercise: write regular expressions to process the following XML document. "
   ]
  },
  {
   "cell_type": "markdown",
   "metadata": {
    "slideshow": {
     "slide_type": "slide"
    }
   },
   "source": [
    "# Python and XML\n",
    "\n",
    "- there are two basic ways of working with Python:\n",
    "    - SAX (Simple API for XML): reads small bits of documents at a time\n",
    "    - DOM (Document Object Model): reads the whole document into memory and creates a representation which can be manipulated"
   ]
  },
  {
   "cell_type": "markdown",
   "metadata": {
    "slideshow": {
     "slide_type": "slide"
    }
   },
   "source": [
    "# Parsing files with DOM\n",
    "\n",
    "- we are going to use minidom, a lightweight DOM implementation\n",
    "- it has limited functionality, but very good to start with\n",
    "- we need to import the relevant module:\n",
    "```python\n",
    "import xml.dom.minidom\n",
    "```\n",
    "or \n",
    "```python\n",
    "from xml.dom import minidom\n",
    "```\n",
    "\n",
    "- open and parse the file. The object returned is the root of the XML document\n",
    "```python\n",
    "xmldoc = xml.dom.minidom.parse(<file name>)\n",
    "```\n",
    "or\n",
    "```python\n",
    "xmldoc = minidom.parse(<file name>)\n",
    "```\n",
    "\n"
   ]
  },
  {
   "cell_type": "code",
   "execution_count": 2,
   "metadata": {
    "collapsed": true,
    "slideshow": {
     "slide_type": "fragment"
    }
   },
   "outputs": [],
   "source": [
    "import xml.dom.minidom\n",
    "xmldoc = xml.dom.minidom.parse('data/evaluationDE_A1.per')"
   ]
  },
  {
   "cell_type": "markdown",
   "metadata": {
    "slideshow": {
     "slide_type": "subslide"
    }
   },
   "source": [
    "# Accessing information in XML documents\n",
    "\n",
    "- ``toxml()`` can be used to print a node (either the whole document or a specific node in the XML tree). No formatting is applied to the output. "
   ]
  },
  {
   "cell_type": "code",
   "execution_count": 3,
   "metadata": {
    "slideshow": {
     "slide_type": "fragment"
    }
   },
   "outputs": [
    {
     "name": "stdout",
     "output_type": "stream",
     "text": [
      "<?xml version=\"1.0\" ?><job id=\"evaluation A1\" progress=\"500/500\" status=\"FINISHED\"><unit id=\"1\" status=\"FINISHED\" type=\"pe\"><S producer=\"FILES1and2\">What is the most essential information in Business Analyst CV?</S><MT producer=\"SMT\">Was ist die wichtigsten Informationen in Business Analyst Lebenslauf?</MT>\n",
      "    <annotations revisions=\"1\">\n",
      "      <annotation r=\"1\">\n",
      "        <PE producer=\"Translator_1\n"
     ]
    }
   ],
   "source": [
    "print(xmldoc.toxml()[:400])"
   ]
  },
  {
   "cell_type": "markdown",
   "metadata": {
    "slideshow": {
     "slide_type": "fragment"
    }
   },
   "source": [
    "**Note**: the indentations and new lines were present in the file. For the first few lines they were removed manually to prove the difference between ``toxml()`` and ``toprettyxml``"
   ]
  },
  {
   "cell_type": "markdown",
   "metadata": {
    "slideshow": {
     "slide_type": "subslide"
    }
   },
   "source": [
    "- ``toprettyxml(indent=\"\", newl=\"\", encoding=\"\")`` prints the output nicely formatted using indent for indenting child nodes and newl to separate tags"
   ]
  },
  {
   "cell_type": "code",
   "execution_count": 4,
   "metadata": {
    "slideshow": {
     "slide_type": "fragment"
    }
   },
   "outputs": [
    {
     "name": "stdout",
     "output_type": "stream",
     "text": [
      "<?xml version=\"1.0\" ?>\n",
      "<job id=\"evaluation A1\" progress=\"500/500\" status=\"FINISHED\">\n",
      "\t<unit id=\"1\" status=\"FINISHED\" type=\"pe\">\n",
      "\t\t<S producer=\"FILES1and2\">What is the most essential information in Business Analyst CV?</S>\n",
      "\t\t<MT producer=\"SMT\">Was ist die wichtigsten Informationen in Business Analyst Lebenslauf?</MT>\n",
      "\t\t\n",
      "    \n",
      "\t\t<annotations revisions=\"1\">\n",
      "\t\t\t\n",
      "      \n",
      "\t\t\t<annotation r=\"1\">\n",
      "\t\t\t\t\n",
      "      \n"
     ]
    }
   ],
   "source": [
    "print(xmldoc.toprettyxml()[:400])"
   ]
  },
  {
   "cell_type": "markdown",
   "metadata": {
    "slideshow": {
     "slide_type": "fragment"
    }
   },
   "source": [
    "- the output seems a bit messy because there are already newlines in the document"
   ]
  },
  {
   "cell_type": "markdown",
   "metadata": {
    "slideshow": {
     "slide_type": "subslide"
    }
   },
   "source": [
    "# Accessing the child nodes\n",
    "\n",
    "- ``xmldoc.childNodes`` returns a list of child nodes of the root element \n",
    "- more generally ``node.childNodes`` returns the children of node\n",
    "- the elements have the type Node"
   ]
  },
  {
   "cell_type": "code",
   "execution_count": 5,
   "metadata": {
    "slideshow": {
     "slide_type": "fragment"
    }
   },
   "outputs": [
    {
     "name": "stdout",
     "output_type": "stream",
     "text": [
      "<S producer=\"FILES1and2\">What is the most essential information in Business Analyst CV?</S>\n",
      "\n"
     ]
    }
   ],
   "source": [
    "PE = xmldoc.childNodes[0].childNodes[0].childNodes[0]\n",
    "print(PE.toprettyxml())"
   ]
  },
  {
   "cell_type": "code",
   "execution_count": 6,
   "metadata": {
    "slideshow": {
     "slide_type": "fragment"
    }
   },
   "outputs": [
    {
     "name": "stdout",
     "output_type": "stream",
     "text": [
      "What is the most essential information in Business Analyst CV?\n",
      "\n"
     ]
    }
   ],
   "source": [
    "PEtext = PE.childNodes[0]\n",
    "print(PEtext.toprettyxml())"
   ]
  },
  {
   "cell_type": "code",
   "execution_count": 7,
   "metadata": {
    "slideshow": {
     "slide_type": "fragment"
    }
   },
   "outputs": [
    {
     "name": "stdout",
     "output_type": "stream",
     "text": [
      "()\n"
     ]
    }
   ],
   "source": [
    "child_PEtext = PEtext.childNodes\n",
    "print(child_PEtext)"
   ]
  },
  {
   "cell_type": "markdown",
   "metadata": {
    "slideshow": {
     "slide_type": "subslide"
    }
   },
   "source": [
    "# Nodes\n",
    "\n",
    "- nodes can have several types: \n",
    "   - elements\n",
    "   - text\n",
    "   - comments, entities, …\n",
    "- it is possible to determine the type using ``node.nodeType`` which can be ``node.ELEMENT_NODE``, ``node.TEXT_NODE``, ``node.COMMENT_NODE`` \n",
    "- it is possible to access the name of the node ``node.nodeName`` and value ``node.nodeValue`` (but they have different values depending on the type of the node)"
   ]
  },
  {
   "cell_type": "code",
   "execution_count": 8,
   "metadata": {
    "slideshow": {
     "slide_type": "subslide"
    }
   },
   "outputs": [
    {
     "data": {
      "text/plain": [
       "<DOM Element: S at 0x42e4800>"
      ]
     },
     "execution_count": 8,
     "metadata": {},
     "output_type": "execute_result"
    }
   ],
   "source": [
    "PE"
   ]
  },
  {
   "cell_type": "code",
   "execution_count": 9,
   "metadata": {
    "slideshow": {
     "slide_type": "fragment"
    }
   },
   "outputs": [
    {
     "data": {
      "text/plain": [
       "True"
      ]
     },
     "execution_count": 9,
     "metadata": {},
     "output_type": "execute_result"
    }
   ],
   "source": [
    "PE.nodeType == xml.dom.Node.ELEMENT_NODE"
   ]
  },
  {
   "cell_type": "code",
   "execution_count": 10,
   "metadata": {
    "slideshow": {
     "slide_type": "fragment"
    }
   },
   "outputs": [
    {
     "data": {
      "text/plain": [
       "'S'"
      ]
     },
     "execution_count": 10,
     "metadata": {},
     "output_type": "execute_result"
    }
   ],
   "source": [
    "PE.nodeName"
   ]
  },
  {
   "cell_type": "code",
   "execution_count": 11,
   "metadata": {
    "slideshow": {
     "slide_type": "fragment"
    }
   },
   "outputs": [
    {
     "name": "stdout",
     "output_type": "stream",
     "text": [
      "None\n"
     ]
    }
   ],
   "source": [
    "print(PE.nodeValue)"
   ]
  },
  {
   "cell_type": "code",
   "execution_count": 12,
   "metadata": {
    "slideshow": {
     "slide_type": "fragment"
    }
   },
   "outputs": [
    {
     "data": {
      "text/plain": [
       "<DOM Text node \"'What is th'...\">"
      ]
     },
     "execution_count": 12,
     "metadata": {},
     "output_type": "execute_result"
    }
   ],
   "source": [
    "PEtext"
   ]
  },
  {
   "cell_type": "code",
   "execution_count": 13,
   "metadata": {
    "slideshow": {
     "slide_type": "fragment"
    }
   },
   "outputs": [
    {
     "data": {
      "text/plain": [
       "True"
      ]
     },
     "execution_count": 13,
     "metadata": {},
     "output_type": "execute_result"
    }
   ],
   "source": [
    "PEtext.nodeType == xml.dom.Node.TEXT_NODE"
   ]
  },
  {
   "cell_type": "code",
   "execution_count": 14,
   "metadata": {
    "slideshow": {
     "slide_type": "fragment"
    }
   },
   "outputs": [
    {
     "data": {
      "text/plain": [
       "'#text'"
      ]
     },
     "execution_count": 14,
     "metadata": {},
     "output_type": "execute_result"
    }
   ],
   "source": [
    "PEtext.nodeName"
   ]
  },
  {
   "cell_type": "code",
   "execution_count": 15,
   "metadata": {
    "slideshow": {
     "slide_type": "fragment"
    }
   },
   "outputs": [
    {
     "data": {
      "text/plain": [
       "'What is the most essential information in Business Analyst CV?'"
      ]
     },
     "execution_count": 15,
     "metadata": {},
     "output_type": "execute_result"
    }
   ],
   "source": [
    "PEtext.nodeValue"
   ]
  },
  {
   "cell_type": "markdown",
   "metadata": {
    "slideshow": {
     "slide_type": "subslide"
    }
   },
   "source": [
    "# Node\n",
    "\n",
    "- provide a variety of **variables** to get \n",
    "  - the parent (``node.parentNode``), \n",
    "  - next sibling (``node.nextSibling``), \n",
    "  - previous sibling (``previousSibling``), \n",
    "  - children nodes (``node.childNodes``), \n",
    "  - first child (``node.firstChild``)\n",
    "  \n",
    "See more at <a href=\"https://docs.python.org/3.6/library/xml.dom.html#dom-node-objects\" target=\"_blank\">https://docs.python.org/3.6/library/xml.dom.html#dom-node-objects</a>"
   ]
  },
  {
   "cell_type": "markdown",
   "metadata": {
    "slideshow": {
     "slide_type": "subslide"
    }
   },
   "source": [
    "# Searching for nodes in the document\n",
    "\n",
    "- ``doc.getElementsByTagName(<tag> )`` returns a list of elements <tag> \n",
    "- ``getElementsByTagName`` can be applied to any Node in the XML document not only to the root"
   ]
  },
  {
   "cell_type": "code",
   "execution_count": 16,
   "metadata": {
    "slideshow": {
     "slide_type": "fragment"
    }
   },
   "outputs": [
    {
     "name": "stdout",
     "output_type": "stream",
     "text": [
      "There are 500 units\n"
     ]
    }
   ],
   "source": [
    "units = xmldoc.getElementsByTagName(\"unit\")\n",
    "print(\"There are\", len(units), \"units\")"
   ]
  },
  {
   "cell_type": "code",
   "execution_count": 17,
   "metadata": {
    "slideshow": {
     "slide_type": "fragment"
    }
   },
   "outputs": [
    {
     "name": "stdout",
     "output_type": "stream",
     "text": [
      "I found a unit with several annotations\n",
      "I found a unit with several annotations\n",
      "I found a unit with several annotations\n",
      "I found a unit with several annotations\n",
      "I found a unit with several annotations\n",
      "I found a unit with several annotations\n",
      "I found a unit with several annotations\n",
      "I found a unit with several annotations\n",
      "I found a unit with several annotations\n",
      "I found a unit with several annotations\n",
      "I found a unit with several annotations\n",
      "I found a unit with several annotations\n",
      "I found a unit with several annotations\n"
     ]
    }
   ],
   "source": [
    "# let's get now the number of annotations\n",
    "for unit in units:\n",
    "    annotations = unit.getElementsByTagName(\"annotation\")\n",
    "    if len(annotations) != 1: \n",
    "        print(\"I found a unit with several annotations\")"
   ]
  },
  {
   "cell_type": "markdown",
   "metadata": {
    "slideshow": {
     "slide_type": "subslide"
    }
   },
   "source": [
    "# Accessing attributes of elements\n",
    "\n",
    "- ``attrs = node.attributes`` returns a structure similar to a dictionary which contains the attributes of a node\n",
    "- it is possible to do ``attrs.keys()`` and ``attrs.values()`` \n",
    "- but ``for attr in attrs`` doesn't work\n",
    "- an individual attribute can be accessed using indexing ``attribute = attrs[\"<name>\"]``\n",
    "- an attribute has a name (``attribute.name``) and a value (``attribute.value``)"
   ]
  },
  {
   "cell_type": "code",
   "execution_count": 18,
   "metadata": {
    "slideshow": {
     "slide_type": "subslide"
    }
   },
   "outputs": [
    {
     "name": "stdout",
     "output_type": "stream",
     "text": [
      "<unit id=\"500\" status=\"FINISHED\" type=\"pe\">\n",
      "    <S producer=\"FILES1and2\">But this results of this ex\n"
     ]
    }
   ],
   "source": [
    "print(unit.toxml()[:100])"
   ]
  },
  {
   "cell_type": "code",
   "execution_count": 19,
   "metadata": {
    "slideshow": {
     "slide_type": "fragment"
    }
   },
   "outputs": [
    {
     "name": "stdout",
     "output_type": "stream",
     "text": [
      "attribute id has value 500\n",
      "attribute status has value FINISHED\n",
      "attribute type has value pe\n"
     ]
    }
   ],
   "source": [
    "attrs = unit.attributes\n",
    "for key in attrs.keys():\n",
    "    print(\"attribute\", key, \"has value\", attrs[key].value)"
   ]
  },
  {
   "cell_type": "code",
   "execution_count": 20,
   "metadata": {
    "slideshow": {
     "slide_type": "fragment"
    }
   },
   "outputs": [
    {
     "name": "stdout",
     "output_type": "stream",
     "text": [
      "<xml.dom.minidom.Attr object at 0x10CA3F70>\n"
     ]
    }
   ],
   "source": [
    "# note that attrs[key] does not return the value directly\n",
    "print(attrs[\"id\"])"
   ]
  },
  {
   "cell_type": "markdown",
   "metadata": {
    "slideshow": {
     "slide_type": "subslide"
    }
   },
   "source": [
    "# Attributes\n",
    "\n",
    "- It is also possible to:\n",
    "   - check whether an element has an attribute ``element.hasAttribute(<attr>)``\n",
    "   - retrieve the value of an attribute ``element.getAttribute(<attr>)``, but it returns empty string if the attribute does not exist"
   ]
  },
  {
   "cell_type": "code",
   "execution_count": 21,
   "metadata": {
    "slideshow": {
     "slide_type": "subslide"
    }
   },
   "outputs": [
    {
     "name": "stdout",
     "output_type": "stream",
     "text": [
      "Unit 59 has 2 annotations\n",
      "Unit 227 has 2 annotations\n",
      "Unit 230 has 3 annotations\n",
      "Unit 247 has 2 annotations\n",
      "Unit 248 has 2 annotations\n",
      "Unit 261 has 2 annotations\n",
      "Unit 283 has 2 annotations\n",
      "Unit 299 has 2 annotations\n",
      "Unit 308 has 2 annotations\n",
      "Unit 309 has 2 annotations\n",
      "Unit 366 has 2 annotations\n",
      "Unit 423 has 2 annotations\n",
      "Unit 497 has 2 annotations\n"
     ]
    }
   ],
   "source": [
    "# let's get now the number of annotations\n",
    "for unit in units:\n",
    "    annotations = unit.getElementsByTagName(\"annotation\")\n",
    "    if len(annotations) != 1: \n",
    "        print(\"Unit\", unit.getAttribute(\"id\"), \"has\", len(annotations), \"annotations\")"
   ]
  },
  {
   "cell_type": "markdown",
   "metadata": {
    "slideshow": {
     "slide_type": "slide"
    }
   },
   "source": [
    "# Further reading\n",
    "\n",
    "- Minidom: <a href=\"https://docs.python.org/3.6/library/xml.dom.minidom.html\" target=\"_blank\">https://docs.python.org/3.6/library/xml.dom.minidom.html</a>\n",
    "- More technical details about DOM: <a href=\"https://docs.python.org/3.6/library/xml.dom.html\" target=\"_blank\">https://docs.python.org/3.6/library/xml.dom.html</a>"
   ]
  },
  {
   "cell_type": "raw",
   "metadata": {
    "slideshow": {
     "slide_type": "slide"
    }
   },
   "source": [
    "<a rel=\"license\" href=\"http://creativecommons.org/licenses/by-sa/4.0/\"><img alt=\"Creative Commons Licence\" style=\"border-width:0\" src=\"https://i.creativecommons.org/l/by-sa/4.0/88x31.png\" /></a><br /><span xmlns:dct=\"http://purl.org/dc/terms/\" property=\"dct:title\">Python programming for linguists</span> by <a xmlns:cc=\"http://creativecommons.org/ns#\" href=\"http://dinel.org.uk\" property=\"cc:attributionName\" rel=\"cc:attributionURL\">Constantin Orasan</a> is licensed under a <a rel=\"license\" href=\"http://creativecommons.org/licenses/by-sa/4.0/\">Creative Commons Attribution-ShareAlike 4.0 International License</a>.<br />Based on a work at <a xmlns:dct=\"http://purl.org/dc/terms/\" href=\"https://github.com/dinel/PythonForLinguists\" rel=\"dct:source\">https://github.com/dinel/PythonForLinguists</a>."
   ]
  }
 ],
 "metadata": {
  "celltoolbar": "Slideshow",
  "kernelspec": {
   "display_name": "Python 3",
   "language": "python",
   "name": "python3"
  },
  "language_info": {
   "codemirror_mode": {
    "name": "ipython",
    "version": 3
   },
   "file_extension": ".py",
   "mimetype": "text/x-python",
   "name": "python",
   "nbconvert_exporter": "python",
   "pygments_lexer": "ipython3",
   "version": "3.6.2"
  }
 },
 "nbformat": 4,
 "nbformat_minor": 2
}
