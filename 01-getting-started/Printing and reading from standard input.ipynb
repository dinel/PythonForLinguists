{
 "cells": [
  {
   "cell_type": "markdown",
   "metadata": {
    "slideshow": {
     "slide_type": "slide"
    }
   },
   "source": [
    "# Reading and writing\n",
    "\n",
    "When using computers quite often we talk about **standard input** and **standard output**. Usually they correspond to keyboard and screen, respectively.\n"
   ]
  },
  {
   "cell_type": "markdown",
   "metadata": {
    "slideshow": {
     "slide_type": "slide"
    }
   },
   "source": [
    "# print function\n",
    "\n",
    "``print(expr1, expr2, ..., exprn, sep=' ', end='\\n')`` prints the values of ``expr1``, ``expr2``, ..., ``exprn`` to the standard output. \n",
    "\n",
    "- ``sep`` controls the string inserted between values. Default is space\n",
    "- ``end`` controls the string printed after the last value. Default new line\n"
   ]
  },
  {
   "cell_type": "code",
   "execution_count": 1,
   "metadata": {
    "slideshow": {
     "slide_type": "fragment"
    }
   },
   "outputs": [
    {
     "name": "stdout",
     "output_type": "stream",
     "text": [
      "Help on built-in function print in module builtins:\n",
      "\n",
      "print(...)\n",
      "    print(value, ..., sep=' ', end='\\n', file=sys.stdout, flush=False)\n",
      "    \n",
      "    Prints the values to a stream, or to sys.stdout by default.\n",
      "    Optional keyword arguments:\n",
      "    file:  a file-like object (stream); defaults to the current sys.stdout.\n",
      "    sep:   string inserted between values, default a space.\n",
      "    end:   string appended after the last value, default a newline.\n",
      "    flush: whether to forcibly flush the stream.\n",
      "\n"
     ]
    }
   ],
   "source": [
    "help(print)"
   ]
  },
  {
   "cell_type": "markdown",
   "metadata": {
    "slideshow": {
     "slide_type": "slide"
    }
   },
   "source": [
    "# Commenting the code\n",
    "\n",
    "It is good practice to comment your code. The beginning of a comment in python is marked by ``#``. Everything that follows ``#`` is ignored.\n",
    "\n",
    "```python\n",
    "#this is a comment\n",
    "print(\"Hello world!\")  # this is also a comment, but after a bit of code\n",
    "\n",
    "'''\n",
    "  Comments can be also be marked by triple apostrophes especially when \n",
    "  they are on several lines, but they also have a different meaning\n",
    "'''\n",
    "\n",
    "```\n",
    "\n",
    "Comments are very useful to explain others your code and understand your code when you return to it."
   ]
  },
  {
   "cell_type": "markdown",
   "metadata": {
    "slideshow": {
     "slide_type": "subslide"
    }
   },
   "source": [
    "# Commenting vs Documenting Code\n",
    "\n",
    "- \"*comments help to guide the reader to better understand your code and its purpose and design*\" (<a href=\"https://realpython.com/documenting-python-code/\" target=\"_blank\">https://realpython.com/documenting-python-code/</a>)\n",
    "- \"*code tells you how, comments tell you why*\" (<a href=\"https://blog.codinghorror.com/code-tells-you-how-comments-tell-you-why/\" target=\"_blank\">https://blog.codinghorror.com/code-tells-you-how-comments-tell-you-why/</a>)\n",
    "- \"*Documenting code is describing its use and functionality to your users.*\"\n",
    "\n",
    "Commenting your code for:\n",
    "- planning and reviewing (while developing the code)\n",
    "- code description (explain the intent of specific sections of code)\n",
    "- algorithmic description (especially when explaining why use a certain existing algorithm)\n",
    "- tagging (e.g. TODO notes)"
   ]
  },
  {
   "cell_type": "code",
   "execution_count": 2,
   "metadata": {
    "slideshow": {
     "slide_type": "slide"
    }
   },
   "outputs": [
    {
     "name": "stdout",
     "output_type": "stream",
     "text": [
      "Example without value for sep parameter: There are < 4294967296 > possibilities!\n",
      "Example with value for sep parameter   : There are <4294967296> possibilities!\n"
     ]
    }
   ],
   "source": [
    "# example how to use the sep parameter\n",
    "print (\"Example without value for sep parameter: There are <\", 2**32, \"> possibilities!\")\n",
    "print (\"Example with value for sep parameter   : There are <\", 2**32, \"> possibilities!\", sep=\"\")"
   ]
  },
  {
   "cell_type": "code",
   "execution_count": 3,
   "metadata": {
    "slideshow": {
     "slide_type": "fragment"
    }
   },
   "outputs": [
    {
     "name": "stdout",
     "output_type": "stream",
     "text": [
      "The first line\n",
      "The second line\n"
     ]
    }
   ],
   "source": [
    "# example how to use the end parameter\n",
    "print(\"The first line\")\n",
    "print(\"The second line\")"
   ]
  },
  {
   "cell_type": "code",
   "execution_count": 4,
   "metadata": {
    "slideshow": {
     "slide_type": "fragment"
    }
   },
   "outputs": [
    {
     "name": "stdout",
     "output_type": "stream",
     "text": [
      "The first line<br>The second line<br>"
     ]
    }
   ],
   "source": [
    "# when the end parameter is present. \n",
    "print(\"The first line\", end=\"<br>\")\n",
    "print(\"The second line\", end=\"<br>\")"
   ]
  },
  {
   "cell_type": "code",
   "execution_count": 5,
   "metadata": {
    "slideshow": {
     "slide_type": "fragment"
    }
   },
   "outputs": [
    {
     "name": "stdout",
     "output_type": "stream",
     "text": [
      "\n",
      "This is after an empty line\n"
     ]
    }
   ],
   "source": [
    "# print with no parameter prints an empty line\n",
    "print()\n",
    "print(\"This is after an empty line\")"
   ]
  },
  {
   "cell_type": "markdown",
   "metadata": {
    "slideshow": {
     "slide_type": "subslide"
    }
   },
   "source": [
    "# print: python3 vs python2\n",
    "\n",
    "- in python2, print was a statement rather than function\n",
    "\n",
    "e.g. ``print \"There are <\", 2**32, \"> possibilities!\"``\n",
    "\n",
    "- python2 code with ``print`` statements will not work in python3\n",
    "- python3 code which uses the ``print`` function without relying on ``sep``, ``end``, ``file`` and ``flush`` parameters will run in python2, but the result may look a bit different than expected\n",
    "- use ``from __future__ import print_function`` to use the ``print`` function in python2\n",
    "\n",
    "Read more about the ``print`` function at <a href=\"http://www.python-course.eu/python3_print.php\" target=\"_blank\">http://www.python-course.eu/python3_print.php</a>"
   ]
  },
  {
   "cell_type": "markdown",
   "metadata": {
    "slideshow": {
     "slide_type": "slide"
    }
   },
   "source": [
    "# input function\n",
    "\n",
    "``input(prompt=None)`` reads a string from the standard input. The trailing newline is stripped. \n",
    "- The execution of the program stops till the users types something followed by the ENTER key (or just the ENTER key)\n",
    "- Returns the string entered."
   ]
  },
  {
   "cell_type": "code",
   "execution_count": 6,
   "metadata": {
    "slideshow": {
     "slide_type": "fragment"
    }
   },
   "outputs": [
    {
     "name": "stdout",
     "output_type": "stream",
     "text": [
      "Please enter your name: Constantin Orasan\n"
     ]
    },
    {
     "data": {
      "text/plain": [
       "'Constantin Orasan'"
      ]
     },
     "execution_count": 6,
     "metadata": {},
     "output_type": "execute_result"
    }
   ],
   "source": [
    "input(\"Please enter your name: \")"
   ]
  },
  {
   "cell_type": "markdown",
   "metadata": {
    "slideshow": {
     "slide_type": "fragment"
    }
   },
   "source": [
    "**Note**: input function returns a string and needs to be converted to a number if a number is expected (see more in the next sessions)\n",
    "\n",
    "**python2** has two input functions: \n",
    "- ``input`` returns a number\n",
    "- ``raw_input`` returns a string, but no longer available in python3"
   ]
  },
  {
   "cell_type": "markdown",
   "metadata": {
    "slideshow": {
     "slide_type": "slide"
    }
   },
   "source": [
    "# Further reading\n",
    "\n",
    "- Try examples from <a href=\"https://en.wikibooks.org/wiki/Non-Programmer%27s_Tutorial_for_Python_3/Hello,_World\" target=\"_blank\">https://en.wikibooks.org/wiki/Non-Programmer%27s_Tutorial_for_Python_3/Hello,_World</a> \n",
    "- Very comprehensive discussion about documenting the code in Python: <a href=\"https://realpython.com/documenting-python-code/\" target=\"_blank\">https://realpython.com/documenting-python-code/</a> (includes some more advanced concepts) \n",
    "- Very comprehensive discussion about the print function: <a href=\"https://realpython.com/python-print/\"  target=\"_blank\">https://realpython.com/python-print/</a> (again too advanced for this stage, but good for future reference)"
   ]
  },
  {
   "cell_type": "raw",
   "metadata": {
    "slideshow": {
     "slide_type": "slide"
    }
   },
   "source": [
    "<font color=\"white\"><a rel=\"license\" href=\"http://creativecommons.org/licenses/by-sa/4.0/\"><img alt=\"Creative Commons Licence\" style=\"border-width:0\" src=\"https://i.creativecommons.org/l/by-sa/4.0/88x31.png\" /></a><br /><span xmlns:dct=\"http://purl.org/dc/terms/\" property=\"dct:title\" style=\"font-style: italic\">Python programming for linguists</span> by <a xmlns:cc=\"http://creativecommons.org/ns#\" href=\"https://dinel.org.uk\" property=\"cc:attributionName\" rel=\"cc:attributionURL\" style=\"font-style: italic\">Constantin Orasan</a> is licensed under a <a rel=\"license\" href=\"http://creativecommons.org/licenses/by-sa/4.0/\">Creative Commons Attribution-ShareAlike 4.0 International License</a>.<br />Find more at <a xmlns:dct=\"http://purl.org/dc/terms/\" href=\"https://github.com/dinel/PythonForLinguists\" rel=\"dct:source\">https://github.com/dinel/PythonForLinguists</a>.</font>"
   ]
  }
 ],
 "metadata": {
  "celltoolbar": "Slideshow",
  "kernelspec": {
   "display_name": "Python 3 (ipykernel)",
   "language": "python",
   "name": "python3"
  },
  "language_info": {
   "codemirror_mode": {
    "name": "ipython",
    "version": 3
   },
   "file_extension": ".py",
   "mimetype": "text/x-python",
   "name": "python",
   "nbconvert_exporter": "python",
   "pygments_lexer": "ipython3",
   "version": "3.7.11"
  }
 },
 "nbformat": 4,
 "nbformat_minor": 2
}
