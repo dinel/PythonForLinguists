{
 "cells": [
  {
   "cell_type": "markdown",
   "metadata": {
    "slideshow": {
     "slide_type": "slide"
    }
   },
   "source": [
    "# Simple drawing using the *turtle* module"
   ]
  },
  {
   "cell_type": "markdown",
   "metadata": {
    "slideshow": {
     "slide_type": "slide"
    }
   },
   "source": [
    "- Modules are \"files that contain code meant to be used in other programs\" (Dawson 2010, p. 52)\n",
    "- Usually group together \"resources\" related to each other that perform a specific task\n",
    "- You can create modules for future reuse or install modules written by others\n",
    "- <a href=\"https://pypi.python.org/pypi\" target=\"_blank\">https://pypi.python.org/pypi</a> is a repository of packages (i.e. they can contain one or several modules) that you can install on your computers\n",
    "- **Careful** when installing software from external sources"
   ]
  },
  {
   "cell_type": "markdown",
   "metadata": {
    "slideshow": {
     "slide_type": "slide"
    }
   },
   "source": [
    "# The turtle module\n",
    "\n",
    "Turtle graphics is a popular way of introducing programming (to kids). It based on <a href=\"https://en.wikipedia.org/wiki/Logo_(programming_language)\" target=\"_blank\">the Logo programming language</a>. Allows creating simple drawings using a \"turtle\" which can be commanded. \n",
    "\n",
    "**Commands to move the turtle**\n",
    "- ``turtle.home()`` - moves the turtle to origin (0, 0)\n",
    "- ``turtle.goto(x,y)`` - moves the turtle to (x,y)\n",
    "- ``turtle.forward(distance)`` and ``turtle.fd(distance)`` - moves the turtle forward by the specified distance\n",
    "- ``turtle.backward(distance)`` and ``turtle.bk(distance)`` - moves the turtle backwards by the specified distance\n",
    "- ``turtle.right(angle)`` - rotates the turtle right by angle units\n",
    "- ``turtle.left(angle)`` - rotates the turtle left by angle units\n",
    "- ``turtle.circle(radius)`` - draws a circle of a given radius"
   ]
  },
  {
   "cell_type": "markdown",
   "metadata": {
    "slideshow": {
     "slide_type": "slide"
    }
   },
   "source": [
    "# The turtle module\n",
    "\n",
    "**Pen control**\n",
    "- ``turtle.up()`` - puts the pen up\n",
    "- ``turtle.down()`` - puts the pen down\n",
    "- ``turtle.pensize(size)`` - sets the thickness of the pen\n",
    "- ``turtle.color(color)`` - the name of the color to be used\n",
    "\n",
    "**More drawing control**\n",
    "- ``turtle.reset()`` - deletes the drawing and moves the turtle home\n",
    "- ``turtle.clear()`` - deletes the drawing, but does not move the turtle\n",
    "- ``turtle.bye()`` - closes the drawing\n",
    "\n",
    "Read more about the module: <a href=\"https://docs.python.org/3.6/library/turtle.html\" target=\"_blank\">https://docs.python.org/3.6/library/turtle.html</a>"
   ]
  },
  {
   "cell_type": "markdown",
   "metadata": {
    "slideshow": {
     "slide_type": "slide"
    }
   },
   "source": [
    "# Example of using turtle\n",
    "\n",
    "To draw a square\n",
    "\n",
    "```python\n",
    "\n",
    "# first we need to import the turtle module \n",
    "import turtle\n",
    "\n",
    "turtle.forward(50)\n",
    "turtle.left(90)\n",
    "turtle.forward(50)\n",
    "turtle.left(90)\n",
    "turtle.forward(50)\n",
    "turtle.left(90)\n",
    "turtle.forward(50)\n",
    "turtle.left(90)\n",
    "\n",
    "```"
   ]
  },
  {
   "cell_type": "markdown",
   "metadata": {
    "slideshow": {
     "slide_type": "slide"
    }
   },
   "source": [
    "# Further reading\n",
    "\n",
    "- Example how to use the turtle module: <a href=\"https://opentechschool.github.io/python-beginners/en/simple_drawing.html\" target=\"_blank\">https://opentechschool.github.io/python-beginners/en/simple_drawing.html</a>\n",
    "- Another nice turtle tutorial: <a href=\"https://dbader.org/blog/python-intro-statements-variables-and-loops\" target=\"_blank\">https://dbader.org/blog/python-intro-statements-variables-and-loops</a> (but contains more advanced features)"
   ]
  },
  {
   "cell_type": "raw",
   "metadata": {
    "slideshow": {
     "slide_type": "subslide"
    }
   },
   "source": [
    "<a rel=\"license\" href=\"http://creativecommons.org/licenses/by-sa/4.0/\"><img alt=\"Creative Commons Licence\" style=\"border-width:0\" src=\"https://i.creativecommons.org/l/by-sa/4.0/88x31.png\" /></a><br /><span xmlns:dct=\"http://purl.org/dc/terms/\" property=\"dct:title\">Python programming for linguists</span> by <a xmlns:cc=\"http://creativecommons.org/ns#\" href=\"http://dinel.org.uk\" property=\"cc:attributionName\" rel=\"cc:attributionURL\">Constantin Orasan</a> is licensed under a <a rel=\"license\" href=\"http://creativecommons.org/licenses/by-sa/4.0/\">Creative Commons Attribution-ShareAlike 4.0 International License</a>.<br />Find more at <a xmlns:dct=\"http://purl.org/dc/terms/\" href=\"https://github.com/dinel/PythonForLinguists\" rel=\"dct:source\">https://github.com/dinel/PythonForLinguists</a>."
   ]
  }
 ],
 "metadata": {
  "celltoolbar": "Slideshow",
  "kernelspec": {
   "display_name": "Python 3",
   "language": "python",
   "name": "python3"
  },
  "language_info": {
   "codemirror_mode": {
    "name": "ipython",
    "version": 3
   },
   "file_extension": ".py",
   "mimetype": "text/x-python",
   "name": "python",
   "nbconvert_exporter": "python",
   "pygments_lexer": "ipython3",
   "version": "3.6.5"
  }
 },
 "nbformat": 4,
 "nbformat_minor": 2
}
