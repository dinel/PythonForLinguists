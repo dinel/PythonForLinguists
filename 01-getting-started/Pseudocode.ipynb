{
 "cells": [
  {
   "cell_type": "markdown",
   "metadata": {
    "slideshow": {
     "slide_type": "slide"
    }
   },
   "source": [
    "# What is pseudocode\n",
    "\n",
    "- Pseudo (false) and Code (coding).\n",
    "\n",
    "- Pseudocode is a **compact** and **informal** high-level description of a computer programming algorithm that uses the **structural conventions** of some programming language, but is intended for **human reading** rather than machine reading.\n",
    "\n",
    "- Pseudocode is easier to understand than conventional programming language code."
   ]
  },
  {
   "cell_type": "markdown",
   "metadata": {
    "slideshow": {
     "slide_type": "fragment"
    }
   },
   "source": [
    "Needs to offer a balance between:\n",
    "- Not too much details to be distracted by details of language syntax\n",
    "- Describes the entire logic of the algorithm so its implementation is easy"
   ]
  },
  {
   "cell_type": "markdown",
   "metadata": {
    "slideshow": {
     "slide_type": "slide"
    }
   },
   "source": [
    "# Why use pseudocode\n",
    "\n",
    "1. To explain the mechanics of a code\n",
    "2. Ease up code construction\n",
    "3. Pseudocode is good for documentation\n",
    "4. A good middle point for flowchart and code\n",
    "\n",
    "Quite often pseudocode can be written using comments (see last lecture)"
   ]
  },
  {
   "cell_type": "markdown",
   "metadata": {
    "slideshow": {
     "slide_type": "slide"
    }
   },
   "source": [
    "# Elements of pseudocode\n",
    "\n",
    "1. **SEQUENCE**: actions are executed one after another. One action per line. \n",
    "2. **WHILE**: something that needs to be repeated (WHILE condition is true do a sequence)\n",
    "3. **IF-THEN-ELSE**: test some conditions\n",
    "\n",
    "There are some other elements, but they are not absolutely necessary. (see more in <a href=\"https://sdsclub.com/how-to-write-pseudocode/\">https://sdsclub.com/how-to-write-pseudocode/</a>)\n",
    "\n",
    "Good practice to use capitalisation for actions: READ, PRINT, CALCULATE.\n",
    "\n",
    "You can be creative with pseudocode as long as it is intuitive."
   ]
  },
  {
   "cell_type": "markdown",
   "metadata": {
    "slideshow": {
     "slide_type": "slide"
    }
   },
   "source": [
    "# Things to keep in mind\n",
    "\n",
    "1. Understand how you use pseudocode and what's it relation with the code (It should help you implement the program, not hinder)\n",
    "2. Pseudocode is subjective\n",
    "3. Be consistent with your pseudocode\n",
    "4. Try to have some guidelines if you work in a team\n",
    "5. Keep it simple with the right amount of detail\n",
    "6. Can be written in iterations (decompose the problem into subproblems)"
   ]
  },
  {
   "cell_type": "markdown",
   "metadata": {
    "slideshow": {
     "slide_type": "slide"
    }
   },
   "source": [
    "# Problem\n",
    "\n",
    "Write the pseudocode to generate the -ing form of a verb? (present participle/gerund) "
   ]
  },
  {
   "cell_type": "markdown",
   "metadata": {
    "slideshow": {
     "slide_type": "subslide"
    }
   },
   "source": [
    "```\n",
    "READ a verb\n",
    "ADD \"ing\" at the end of the verb (i.e. verb+ing)\n",
    "```"
   ]
  },
  {
   "cell_type": "markdown",
   "metadata": {
    "slideshow": {
     "slide_type": "subslide"
    }
   },
   "source": [
    "```\n",
    "READ a verb\n",
    "IF verb ends in \"e\" THEN\n",
    "    REMOVE \"e\" from the end of the verb\n",
    "    ADD \"ing\" at the end (e.g. \"take\" -> \"tak+ing\")\n",
    "ELSE\n",
    "    ADD \"ing\" at the end of the verb (i.e. verb+ing)\n",
    "ENDIF\n",
    "```"
   ]
  },
  {
   "cell_type": "markdown",
   "metadata": {
    "slideshow": {
     "slide_type": "subslide"
    }
   },
   "source": [
    "```\n",
    "READ a verb\n",
    "IF verb ends in \"e\" THEN\n",
    "    REMOVE \"e\" from the end of the verb\n",
    "    ADD \"ing\" at the end (e.g. \"take\" -> \"tak+ing\")\n",
    "ELSE\n",
    "  IF verb ends in vowel + consonant THEN\n",
    "    DOUBLE the final consonant\n",
    "    ADD \"ing\" at the end (e.g. \"run\" -> \"running\")\n",
    "  ELSE\n",
    "    ADD \"ing\" at the end of the verb (i.e. verb+ing)\n",
    "  ENDIF\n",
    "ENDIF\n",
    "```"
   ]
  },
  {
   "cell_type": "markdown",
   "metadata": {
    "slideshow": {
     "slide_type": "slide"
    }
   },
   "source": [
    "# Read more\n",
    "\n",
    "- How to Write Your Own Pseudocode and Why You Need It. <a href=\"https://sdsclub.com/how-to-write-pseudocode/\">https://sdsclub.com/how-to-write-pseudocode/</a>"
   ]
  },
  {
   "cell_type": "raw",
   "metadata": {
    "slideshow": {
     "slide_type": "slide"
    }
   },
   "source": [
    "<font color=\"white\"><a rel=\"license\" href=\"http://creativecommons.org/licenses/by-sa/4.0/\"><img alt=\"Creative Commons Licence\" style=\"border-width:0\" src=\"https://i.creativecommons.org/l/by-sa/4.0/88x31.png\" /></a><br /><span xmlns:dct=\"http://purl.org/dc/terms/\" property=\"dct:title\" style=\"font-style: italic\">Python programming for linguists</span> by <a xmlns:cc=\"http://creativecommons.org/ns#\" href=\"https://dinel.org.uk\" property=\"cc:attributionName\" rel=\"cc:attributionURL\" style=\"font-style: italic\">Constantin Orasan</a> is licensed under a <a rel=\"license\" href=\"http://creativecommons.org/licenses/by-sa/4.0/\">Creative Commons Attribution-ShareAlike 4.0 International License</a>.<br />Find more at <a xmlns:dct=\"http://purl.org/dc/terms/\" href=\"https://github.com/dinel/PythonForLinguists\" rel=\"dct:source\">https://github.com/dinel/PythonForLinguists</a>.</font>"
   ]
  }
 ],
 "metadata": {
  "celltoolbar": "Slideshow",
  "kernelspec": {
   "display_name": "Python 3 (ipykernel)",
   "language": "python",
   "name": "python3"
  },
  "language_info": {
   "codemirror_mode": {
    "name": "ipython",
    "version": 3
   },
   "file_extension": ".py",
   "mimetype": "text/x-python",
   "name": "python",
   "nbconvert_exporter": "python",
   "pygments_lexer": "ipython3",
   "version": "3.7.11"
  }
 },
 "nbformat": 4,
 "nbformat_minor": 4
}
