{
 "cells": [
  {
   "cell_type": "code",
   "execution_count": 2,
   "metadata": {
    "slideshow": {
     "slide_type": "skip"
    }
   },
   "outputs": [
    {
     "name": "stdout",
     "output_type": "stream",
     "text": [
      "Exception reporting mode: Context\n",
      "Doctest mode is: OFF\n"
     ]
    }
   ],
   "source": [
    "# stuff that are needed to get the output pretty\n",
    "# but not to be included in the slideshow\n",
    "%doctest_mode\n",
    "from IPython.display import IFrame"
   ]
  },
  {
   "cell_type": "markdown",
   "metadata": {
    "collapsed": true,
    "slideshow": {
     "slide_type": "slide"
    }
   },
   "source": [
    "# Functions"
   ]
  },
  {
   "cell_type": "markdown",
   "metadata": {
    "slideshow": {
     "slide_type": "slide"
    }
   },
   "source": [
    "**Function** = a device that groups a set of statements so they can be run more than once\n",
    "\n",
    "In python a function is defined using the ``def`` keyword\n",
    "\n",
    "```python\n",
    "def <name_of_function>(<list_of_parameters>):\n",
    "    <block_of_function>\n",
    "```\n",
    "\n",
    "A function is called by using its name and providing the necessary parameters\n",
    "\n",
    "A function can return a value by using ``return <value>`` statement"
   ]
  },
  {
   "cell_type": "markdown",
   "metadata": {
    "slideshow": {
     "slide_type": "subslide"
    }
   },
   "source": [
    "- Writing and calling functions is called *abstraction*\n",
    "\n",
    "- Helps you not to focus on details until is necessary\n",
    "\n",
    "- Functions allow writing of clearer code\n",
    "\n",
    "- The function should be defined before it is called\n",
    "\n",
    "- Functions are useful because:\n",
    "  - maximise code reuse and minimise redundancy\n",
    "  - procedural decomposition"
   ]
  },
  {
   "cell_type": "markdown",
   "metadata": {
    "slideshow": {
     "slide_type": "subslide"
    }
   },
   "source": [
    "# Parameters of a function\n",
    "\n",
    "- a function can receive parameters\n",
    "- the list of parameters appear after the name of the function\n",
    "- parameters can be used as any other variables\n",
    "\n",
    "``def my_function(a, b, c):``\n",
    "\n",
    "- it is possible to have parameters with default values\n",
    "- default values are used when a parameter is not specified\n",
    "- once a parameter has a default value all the parameters after need to have a default value\n",
    "\n",
    "``def my_function(a, b = 2, c = \"test\"):``"
   ]
  },
  {
   "cell_type": "markdown",
   "metadata": {
    "slideshow": {
     "slide_type": "subslide"
    }
   },
   "source": [
    "# Positional arguments vs. keyword arguments\n",
    "\n",
    "- **Positional arguments**: by default arguments are assigned to parameters in the order they appear. Particularly important when parameters have default values\n",
    "\n",
    "\n",
    "``def my_function(a, b, c):``\n",
    "\n",
    "``my_function(3, 6, 9)``\n",
    "\n",
    "- ** keyword arguments**: it is possible to explicitly assign a value to parameters, regardless of the order\n",
    "\n",
    "``my_function(b=2, c=\"second test\", a = 9)``"
   ]
  },
  {
   "cell_type": "markdown",
   "metadata": {
    "collapsed": true,
    "slideshow": {
     "slide_type": "subslide"
    }
   },
   "source": [
    "# Returning a value\n",
    "\n",
    "- ``return`` can be used to return a value from a function\n",
    "- a function can return one or several values using tuples\n",
    "- the values from a function do not need to be captured, but you may need the value at some point\n",
    "\n",
    "<br>\n",
    "\n",
    "```python\n",
    "function my_function():\n",
    "    return 1, 2, 3\n",
    "    \n",
    "a, b, c = my_function()\n",
    "```"
   ]
  },
  {
   "cell_type": "markdown",
   "metadata": {
    "slideshow": {
     "slide_type": "slide"
    }
   },
   "source": [
    "# Encapsulation\n",
    "\n",
    "**encapsulation** = no variable which you create in a function, including its parameters can be accessed from outside the function\n",
    "\n",
    "- it keeps the code of the function independent from the rest of the program\n",
    "- communication with the rest of the program is done through parameters and return values\n",
    "- makes a function as a black box \n",
    "\n",
    "\n",
    "\n"
   ]
  },
  {
   "cell_type": "code",
   "execution_count": 4,
   "metadata": {
    "collapsed": true,
    "slideshow": {
     "slide_type": "subslide"
    }
   },
   "outputs": [],
   "source": [
    "# define a function which returns the square of a number\n",
    "def my_square(value):\n",
    "    square_value = value * value\n",
    "    return square_value    "
   ]
  },
  {
   "cell_type": "code",
   "execution_count": 5,
   "metadata": {
    "slideshow": {
     "slide_type": "fragment"
    }
   },
   "outputs": [
    {
     "name": "stdout",
     "output_type": "stream",
     "text": [
      "Enter a number:5\n",
      "The square of 5 is 25\n"
     ]
    }
   ],
   "source": [
    "user_value = int(input(\"Enter a number:\"))\n",
    "print(\"The square of\", user_value, \"is\", my_square(user_value))"
   ]
  },
  {
   "cell_type": "code",
   "execution_count": 6,
   "metadata": {
    "slideshow": {
     "slide_type": "fragment"
    }
   },
   "outputs": [
    {
     "ename": "NameError",
     "evalue": "name 'value' is not defined",
     "output_type": "error",
     "traceback": [
      "\u001b[1;31m---------------------------------------------------------------------------\u001b[0m",
      "\u001b[1;31mNameError\u001b[0m                                 Traceback (most recent call last)",
      "\u001b[1;32m<ipython-input-6-275a05503ad4>\u001b[0m in \u001b[0;36m<module>\u001b[1;34m()\u001b[0m\n\u001b[0;32m      1\u001b[0m \u001b[1;31m# if we try to access the variables value and square_value we get an error\u001b[0m\u001b[1;33m\u001b[0m\u001b[1;33m\u001b[0m\u001b[0m\n\u001b[1;32m----> 2\u001b[1;33m \u001b[0mprint\u001b[0m\u001b[1;33m(\u001b[0m\u001b[0mvalue\u001b[0m\u001b[1;33m)\u001b[0m\u001b[1;33m\u001b[0m\u001b[0m\n\u001b[0m",
      "\u001b[1;31mNameError\u001b[0m: name 'value' is not defined"
     ]
    }
   ],
   "source": [
    "# if we try to access the variables value and square_value we get an error\n",
    "print(value)"
   ]
  },
  {
   "cell_type": "code",
   "execution_count": 7,
   "metadata": {
    "slideshow": {
     "slide_type": "fragment"
    }
   },
   "outputs": [
    {
     "ename": "NameError",
     "evalue": "name 'square_value' is not defined",
     "output_type": "error",
     "traceback": [
      "\u001b[1;31m---------------------------------------------------------------------------\u001b[0m",
      "\u001b[1;31mNameError\u001b[0m                                 Traceback (most recent call last)",
      "\u001b[1;32m<ipython-input-7-e3e6127336d4>\u001b[0m in \u001b[0;36m<module>\u001b[1;34m()\u001b[0m\n\u001b[1;32m----> 1\u001b[1;33m \u001b[0mprint\u001b[0m\u001b[1;33m(\u001b[0m\u001b[0msquare_value\u001b[0m\u001b[1;33m)\u001b[0m\u001b[1;33m\u001b[0m\u001b[0m\n\u001b[0m",
      "\u001b[1;31mNameError\u001b[0m: name 'square_value' is not defined"
     ]
    }
   ],
   "source": [
    "print(square_value)"
   ]
  },
  {
   "cell_type": "markdown",
   "metadata": {
    "slideshow": {
     "slide_type": "subslide"
    }
   },
   "source": [
    "# Scope of variables\n",
    "\n",
    "**scope** = different areas of the program each independent from other\n",
    "\n",
    "for this reason a function cannot access the variables of another one\n",
    "\n",
    "- **global scope** = scope which is not inside a function\n",
    "- **local scope** = inside a function\n",
    "- **global variables** = variables in the global scope\n",
    "- **local variables** = variables in the local scope\n",
    "\n",
    "See the different scopes at: <a href=\"https://goo.gl/FxyMPa\" target=\"_blank\">https://goo.gl/FxyMPa</a>\n"
   ]
  },
  {
   "cell_type": "code",
   "execution_count": 8,
   "metadata": {
    "collapsed": true,
    "slideshow": {
     "slide_type": "skip"
    }
   },
   "outputs": [],
   "source": [
    "code_scope = \"http://pythontutor.com/iframe-embed.html#code=%23%20define%20a%20function%20which%20returns%20the%20square%20of%20a%20number%0Adef%20my_square%28value%29%3A%0A%20%20%20%20square_value%20%3D%20value%20*%20value%0A%20%20%20%20return%20square_value%0A%0Auser_value%20%3D%20int%28input%28%22Enter%20a%20number%3A%22%29%29%0Aprint%28%22The%20square%20of%22,%20user_value,%20%22is%22,%20my_square%28user_value%29%29&codeDivHeight=400&codeDivWidth=450&cumulative=false&curInstr=7&heapPrimitives=false&origin=opt-frontend.js&py=3&rawInputLstJSON=%5B%224%22%5D&textReferences=false\""
   ]
  },
  {
   "cell_type": "code",
   "execution_count": 9,
   "metadata": {
    "slideshow": {
     "slide_type": "subslide"
    }
   },
   "outputs": [
    {
     "data": {
      "text/html": [
       "\n",
       "        <iframe\n",
       "            width=\"800\"\n",
       "            height=\"400\"\n",
       "            src=\"http://pythontutor.com/iframe-embed.html#code=%23%20define%20a%20function%20which%20returns%20the%20square%20of%20a%20number%0Adef%20my_square%28value%29%3A%0A%20%20%20%20square_value%20%3D%20value%20*%20value%0A%20%20%20%20return%20square_value%0A%0Auser_value%20%3D%20int%28input%28%22Enter%20a%20number%3A%22%29%29%0Aprint%28%22The%20square%20of%22,%20user_value,%20%22is%22,%20my_square%28user_value%29%29&codeDivHeight=400&codeDivWidth=450&cumulative=false&curInstr=7&heapPrimitives=false&origin=opt-frontend.js&py=3&rawInputLstJSON=%5B%224%22%5D&textReferences=false\"\n",
       "            frameborder=\"0\"\n",
       "            allowfullscreen\n",
       "        ></iframe>\n",
       "        "
      ],
      "text/plain": [
       "<IPython.lib.display.IFrame at 0x45069d0>"
      ]
     },
     "execution_count": 9,
     "metadata": {},
     "output_type": "execute_result"
    }
   ],
   "source": [
    "IFrame(code_scope, 800, 400)"
   ]
  },
  {
   "cell_type": "markdown",
   "metadata": {
    "collapsed": true,
    "slideshow": {
     "slide_type": "subslide"
    }
   },
   "source": [
    "# Global variables\n",
    "\n",
    "- it is possible to access global variables from a function as long as there is no local variable with the same name\n",
    "\n",
    "- it is also possible to change the value of a global variable from inside a function using global keyword\n",
    "\n",
    "\n"
   ]
  },
  {
   "cell_type": "code",
   "execution_count": 14,
   "metadata": {
    "slideshow": {
     "slide_type": "subslide"
    }
   },
   "outputs": [
    {
     "name": "stdout",
     "output_type": "stream",
     "text": [
      "Before f1 value=0\n",
      "Inside f1 value=10\n",
      "After f1 value=0\n",
      "Before f2 value=0\n",
      "Inside f2 value=20\n",
      "After f2 value=20\n"
     ]
    }
   ],
   "source": [
    "# define a function which does not access the global variable\n",
    "def f1():    \n",
    "    value = 10\n",
    "    print(\"Inside f1 value=\", value, sep=\"\")\n",
    "    \n",
    "# define a function which accesses the global variable\n",
    "def f2():\n",
    "    global value\n",
    "    value = 20\n",
    "    print(\"Inside f2 value=\", value, sep=\"\")\n",
    "    \n",
    "value = 0\n",
    "print(\"Before f1 value=\", value, sep=\"\")\n",
    "f1()\n",
    "print(\"After f1 value=\", value, sep=\"\")\n",
    "print(\"Before f2 value=\", value, sep=\"\")\n",
    "f2()\n",
    "print(\"After f2 value=\", value, sep=\"\")"
   ]
  },
  {
   "cell_type": "markdown",
   "metadata": {
    "slideshow": {
     "slide_type": "subslide"
    }
   },
   "source": [
    "# Global variables\n",
    "\n",
    "- global variables should be avoided because they make the code more difficult to follow\n",
    "\n",
    "- ... in reality everybody uses global variables, but be careful when you change their values\n",
    "\n",
    "- constants are good to be used as global variables\n",
    "\n",
    "- Python does not support true constants, but the convention is that constants are variables written in capital letters"
   ]
  },
  {
   "cell_type": "markdown",
   "metadata": {
    "slideshow": {
     "slide_type": "slide"
    }
   },
   "source": [
    "# Exercise\n",
    "\n",
    "Let's implement a function which calculates factorial(n)"
   ]
  },
  {
   "cell_type": "markdown",
   "metadata": {
    "slideshow": {
     "slide_type": "subslide"
    }
   },
   "source": [
    "# Recursive functions\n",
    "\n",
    "- a recursive function is a function that calls itself \n",
    "- very useful and natural way of decomposing a problem into simpler problems\n",
    "- need to be very careful to have an exit condition\n",
    "- you need to think carefully when using recursion because the code could be slow and could require lots of memory\n",
    "- example of recursive function: factorial(n) = n * factorial(n-1) & factorial(1) = 1"
   ]
  },
  {
   "cell_type": "markdown",
   "metadata": {
    "slideshow": {
     "slide_type": "slide"
    }
   },
   "source": [
    "# Exercises\n",
    "\n",
    "- Write a Python function that accepts a string and calculate the number of upper case letters and lower case letters.\n",
    "- Write a Python function to check whether a string is a pangram or not. (Pangrams are words or sentences containing every letter of the alphabet at least once.)"
   ]
  },
  {
   "cell_type": "markdown",
   "metadata": {
    "slideshow": {
     "slide_type": "slide"
    }
   },
   "source": [
    "# Further reading\n",
    "\n",
    "- From <a href=\"https://en.wikibooks.org/wiki/Non-Programmer%27s_Tutorial_for_Python_3\" target=\"_blank\">Non-Programmer's Tutorial for Python 3</a> read:\n",
    "    - Defining Functions\n",
    "    - Advanced Functions Example\n",
    "- Functions and Lists: <a href=\"https://dbader.org/blog/python-intro-functions-and-lists\" target=\"_blank\">https://dbader.org/blog/python-intro-functions-and-lists</a> (with some nice examples with turtle)\n",
    "- Chapter 6 of *Python Programming for the Absolute Beginner* by Michael Dawson"
   ]
  },
  {
   "cell_type": "raw",
   "metadata": {
    "slideshow": {
     "slide_type": "slide"
    }
   },
   "source": [
    "<a rel=\"license\" href=\"http://creativecommons.org/licenses/by-sa/4.0/\"><img alt=\"Creative Commons Licence\" style=\"border-width:0\" src=\"https://i.creativecommons.org/l/by-sa/4.0/88x31.png\" /></a><br /><span xmlns:dct=\"http://purl.org/dc/terms/\" property=\"dct:title\">Python programming for linguists</span> by <a xmlns:cc=\"http://creativecommons.org/ns#\" href=\"http://dinel.org.uk\" property=\"cc:attributionName\" rel=\"cc:attributionURL\">Constantin Orasan</a> is licensed under a <a rel=\"license\" href=\"http://creativecommons.org/licenses/by-sa/4.0/\">Creative Commons Attribution-ShareAlike 4.0 International License</a>.<br />Based on a work at <a xmlns:dct=\"http://purl.org/dc/terms/\" href=\"https://github.com/dinel/PythonForLinguists\" rel=\"dct:source\">https://github.com/dinel/PythonForLinguists</a>."
   ]
  }
 ],
 "metadata": {
  "celltoolbar": "Slideshow",
  "kernelspec": {
   "display_name": "Python [default]",
   "language": "python",
   "name": "python3"
  },
  "language_info": {
   "codemirror_mode": {
    "name": "ipython",
    "version": 3
   },
   "file_extension": ".py",
   "mimetype": "text/x-python",
   "name": "python",
   "nbconvert_exporter": "python",
   "pygments_lexer": "ipython3",
   "version": "3.5.3"
  }
 },
 "nbformat": 4,
 "nbformat_minor": 2
}
