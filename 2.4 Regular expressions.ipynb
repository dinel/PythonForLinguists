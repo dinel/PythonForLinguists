{
 "cells": [
  {
   "cell_type": "markdown",
   "metadata": {
    "slideshow": {
     "slide_type": "slide"
    }
   },
   "source": [
    "# Regular expressions"
   ]
  },
  {
   "cell_type": "markdown",
   "metadata": {
    "slideshow": {
     "slide_type": "slide"
    }
   },
   "source": [
    "A regular expression is a special sequence of characters that helps you match or find other strings or sets of strings, using a specialized syntax held in a pattern.\n",
    "\n",
    "To a large extent writing RE is language independent (or a language on its own)\n",
    "\n",
    "Widely used in language processing"
   ]
  },
  {
   "cell_type": "markdown",
   "metadata": {
    "slideshow": {
     "slide_type": "slide"
    }
   },
   "source": [
    "# Simple patterns\n",
    "\n",
    "- To start with we will use <a href=\"http://regexr.com/\" target=\"_blank\">http://regexr.com/</a> to test our regular expressions\n"
   ]
  },
  {
   "cell_type": "markdown",
   "metadata": {
    "slideshow": {
     "slide_type": "fragment"
    }
   },
   "source": [
    "- most characters will simply match themselves. The regular expression ``test`` will match the string ``test`` (by default the match is case sensitive)\n"
   ]
  },
  {
   "cell_type": "markdown",
   "metadata": {
    "slideshow": {
     "slide_type": "fragment"
    }
   },
   "source": [
    "- the meta-character ``.`` (dot) will match any **single** character except the new line character"
   ]
  },
  {
   "cell_type": "markdown",
   "metadata": {
    "slideshow": {
     "slide_type": "fragment"
    }
   },
   "source": [
    "- the meta-characters ``[`` and ``]`` will indicate a set of characters to match\n",
    "     - can either enumerate the characters individually ``[abcd]`` \n",
    "     - can indicate a range ``[a-d]``\n",
    "     - meta-characters listed inside ``[`` and ``]`` lose their special nature and are treated as simple characters. e.g. ``[ab.]`` matches ``a``, ``b`` or ``.``\n",
    "     - ``^`` will indicate which characters not to match if it appears first after ``[`` e.g. ``[^a-c]`` will match anything but ``a``, ``b`` or ``c``. "
   ]
  },
  {
   "cell_type": "markdown",
   "metadata": {
    "slideshow": {
     "slide_type": "subslide"
    }
   },
   "source": [
    "# Special sequences\n",
    "\n",
    "- ``\\d`` Matches any decimal digit; this is equivalent to the class ``[0-9]``."
   ]
  },
  {
   "cell_type": "markdown",
   "metadata": {
    "slideshow": {
     "slide_type": "fragment"
    }
   },
   "source": [
    "- ``\\D`` Matches any non-digit character; this is equivalent to the class ``[^0-9]``."
   ]
  },
  {
   "cell_type": "markdown",
   "metadata": {
    "slideshow": {
     "slide_type": "fragment"
    }
   },
   "source": [
    "- ``\\s`` Matches any whitespace character; this is equivalent to the class ``[ \\t\\n\\r\\f\\v]``."
   ]
  },
  {
   "cell_type": "markdown",
   "metadata": {
    "slideshow": {
     "slide_type": "fragment"
    }
   },
   "source": [
    "- ``\\S`` Matches any non-whitespace character; this is equivalent to the class ``[^ \\t\\n\\r\\f\\v]``."
   ]
  },
  {
   "cell_type": "markdown",
   "metadata": {
    "slideshow": {
     "slide_type": "fragment"
    }
   },
   "source": [
    "- ``\\w`` Matches any alphanumeric character; this is equivalent to the class ``[a-zA-Z0-9_]``."
   ]
  },
  {
   "cell_type": "markdown",
   "metadata": {
    "slideshow": {
     "slide_type": "fragment"
    }
   },
   "source": [
    "- ``\\W`` Matches any non-alphanumeric character; this is equivalent to the class ``[^a-zA-Z0-9_]``."
   ]
  },
  {
   "cell_type": "markdown",
   "metadata": {
    "slideshow": {
     "slide_type": "fragment"
    }
   },
   "source": [
    "These sequences can be included inside a character class. For example, ``[\\s,.]`` will match any whitespace character, or ``,`` or ``.``."
   ]
  },
  {
   "cell_type": "markdown",
   "metadata": {
    "slideshow": {
     "slide_type": "subslide"
    }
   },
   "source": [
    "# Repeating things\n",
    "\n",
    "- ``*`` repeats an expression 0 or unspecified number of times e.g. ``a*`` matches a sequence of 0 or many letters a"
   ]
  },
  {
   "cell_type": "markdown",
   "metadata": {
    "slideshow": {
     "slide_type": "fragment"
    }
   },
   "source": [
    "- ``+`` repeats an expression 1 or more times e.g. ``a+`` matches a sequence of 1 or many letters a"
   ]
  },
  {
   "cell_type": "markdown",
   "metadata": {
    "slideshow": {
     "slide_type": "fragment"
    }
   },
   "source": [
    "- ``?`` repeats an expression 0 or 1 times. Indicates something optional. e.g. ``home-?brew`` matches either ``homebrew`` or ``home-brew``."
   ]
  },
  {
   "cell_type": "markdown",
   "metadata": {
    "slideshow": {
     "slide_type": "fragment"
    }
   },
   "source": [
    "- ``{m,n}`` where m and n are integer repeats an expression at least m times and at most n times. If ``m`` is missing it be considered 0. If ``n`` is missing it is considered unlimited. "
   ]
  },
  {
   "cell_type": "markdown",
   "metadata": {
    "slideshow": {
     "slide_type": "fragment"
    }
   },
   "source": [
    "- ``|`` is the *or* operator. It has very low priority. ``tea|coffee`` will match *tea* or *coffee*, but not *te*, followed by *a* or *c*, followed by *offee*. "
   ]
  },
  {
   "cell_type": "markdown",
   "metadata": {
    "slideshow": {
     "slide_type": "subslide"
    }
   },
   "source": [
    "# Boundaries\n",
    "\n",
    "- ``^`` matches the beginning of the line\n",
    "- ``$`` matches the end of the line\n",
    "- ``\\b`` word boundary, where words are defined as a sequence of alphanumeric characters. It is a zero-with assertion (i.e. no actual character is matched)\n",
    "- ``\\B`` negation of ``\\b``: the current position is not a word boundary"
   ]
  },
  {
   "cell_type": "markdown",
   "metadata": {
    "slideshow": {
     "slide_type": "subslide"
    }
   },
   "source": [
    "# Groups\n",
    "\n",
    "- Groups are marked by ``(`` and ``)``. They allow to set the priority of matching and retrieve specific parts of the matched string. \n",
    "- It is possible to refer to a group by using ``\\1``, ``\\2``. **Note**: counting starts from **1** and you need to count the number of ``(`` opened. \n",
    "- It is possible to name a group by using ``(?P<name>...)``\n",
    "- It is possible to refer to a named group by using ``(?P=name)``"
   ]
  },
  {
   "cell_type": "markdown",
   "metadata": {
    "slideshow": {
     "slide_type": "subslide"
    }
   },
   "source": [
    "# Exercises with regular expressions\n",
    "\n",
    "- write a regular expression that matches:\n",
    "    - an email address from DCU\n",
    "    - checks whether a string is an integer\n",
    "    - identifies the domain name and the path from a URL\n",
    "    - identifies a date (the format of a date is deliberately not specified at this stage. We are going to do this again later on)\n",
    "    - checks whether a string is a valid IP address\n",
    "    \n",
    "- play with <a href=\"https://alf.nu/RegexGolf\">https://alf.nu/RegexGolf</a>\n",
    "    "
   ]
  },
  {
   "cell_type": "markdown",
   "metadata": {
    "slideshow": {
     "slide_type": "slide"
    }
   },
   "source": [
    "# Using regular expressions in python\n",
    "\n",
    "In order to use regular expressions in python you need to import the ``re`` module \n",
    "\n",
    "A regular expression needs to be first compiled\n",
    "\n",
    "```python\n",
    "p = re.compile(\"ab+c\")\n",
    "```\n",
    "\n",
    "The function returns an object pattern which is used later in matching.\n",
    "\n",
    "It is possible to control the behaviour of matching using flags, specified as a parameter of compile:\n",
    "- **re.I** or **re.IGNORECASE**: performs case insensitive matching\n",
    "- **re.S** or **re.DOTALL**: Makes the ``.`` special character match any character at all, including a newline; without this flag, ``.`` will match anything except a newline.\n",
    "- **re.M** or **re.MULTILINE**: control how ``^`` and ``$`` when the string to match contains several lines.\n",
    "- **re.X** or **re.VERBOSE**: allows to write more readable regular expressions. Space which are not in ``[]`` are ignored. ``#`` can be used for comments"
   ]
  },
  {
   "cell_type": "markdown",
   "metadata": {
    "slideshow": {
     "slide_type": "subslide"
    }
   },
   "source": [
    "# Matching in a string\n",
    "\n",
    "- ``match()``: determines if the RE matches at the beginning of the string\n",
    "- ``search()``: scans through a string looking for any location where the RE matches\n",
    "\n",
    "Both functions return ``None`` if no match can be found. If successful a *match object* is returned. \n",
    "\n",
    "- ``findall()``: finds all substrings where RE matches, and returns them as a list\n",
    "\n",
    "The methods can be applied to a pattern or they can be used as ``re.<function>(<pattern>, <string>, <flags>)``\n"
   ]
  },
  {
   "cell_type": "code",
   "execution_count": 1,
   "metadata": {
    "slideshow": {
     "slide_type": "subslide"
    }
   },
   "outputs": [
    {
     "name": "stdout",
     "output_type": "stream",
     "text": [
      "None\n"
     ]
    }
   ],
   "source": [
    "import re\n",
    "\n",
    "number_patter = re.compile(\"[0-9]+\")\n",
    "print(number_patter.match(\"abcd\"))"
   ]
  },
  {
   "cell_type": "code",
   "execution_count": 2,
   "metadata": {
    "slideshow": {
     "slide_type": "fragment"
    }
   },
   "outputs": [
    {
     "name": "stdout",
     "output_type": "stream",
     "text": [
      "<_sre.SRE_Match object; span=(0, 4), match='1234'>\n"
     ]
    }
   ],
   "source": [
    "print(number_patter.match(\"1234\"))"
   ]
  },
  {
   "cell_type": "code",
   "execution_count": 3,
   "metadata": {
    "slideshow": {
     "slide_type": "fragment"
    }
   },
   "outputs": [
    {
     "name": "stdout",
     "output_type": "stream",
     "text": [
      "Match:1234 Start:0 End:4\n"
     ]
    }
   ],
   "source": [
    "m = number_patter.match(\"1234\")\n",
    "print(\"Match:\", m.group(), \" Start:\", m.start(), \" End:\", m.end(), sep=\"\")"
   ]
  },
  {
   "cell_type": "code",
   "execution_count": 4,
   "metadata": {
    "slideshow": {
     "slide_type": "fragment"
    }
   },
   "outputs": [
    {
     "data": {
      "text/plain": [
       "[('ss', 's'), ('ss', 's'), ('pp', 'p')]"
      ]
     },
     "execution_count": 4,
     "metadata": {},
     "output_type": "execute_result"
    }
   ],
   "source": [
    "re.findall(\"(([a-z])\\\\2)\", \"mississippi\")"
   ]
  },
  {
   "cell_type": "markdown",
   "metadata": {
    "slideshow": {
     "slide_type": "subslide"
    }
   },
   "source": [
    "# Match objects\n",
    "\n",
    "- returned by match and search\n",
    "- contain information about matching:\n",
    "    - ``group()`` gives information about the full match\n",
    "    - ``group(<group no/name>)`` allow accessing the matches groups if they exist, error otherwise"
   ]
  },
  {
   "cell_type": "code",
   "execution_count": 5,
   "metadata": {
    "collapsed": true,
    "slideshow": {
     "slide_type": "fragment"
    }
   },
   "outputs": [],
   "source": [
    "m = re.match(r\"(?P<first_name>\\w+) (?P<last_name>\\w+)\", \"Malcom Reynolds\")"
   ]
  },
  {
   "cell_type": "code",
   "execution_count": 6,
   "metadata": {
    "slideshow": {
     "slide_type": "fragment"
    }
   },
   "outputs": [
    {
     "data": {
      "text/plain": [
       "'Malcom'"
      ]
     },
     "execution_count": 6,
     "metadata": {},
     "output_type": "execute_result"
    }
   ],
   "source": [
    "m.group('first_name')"
   ]
  },
  {
   "cell_type": "code",
   "execution_count": 7,
   "metadata": {
    "slideshow": {
     "slide_type": "fragment"
    }
   },
   "outputs": [
    {
     "data": {
      "text/plain": [
       "'Reynolds'"
      ]
     },
     "execution_count": 7,
     "metadata": {},
     "output_type": "execute_result"
    }
   ],
   "source": [
    "m.group('last_name')"
   ]
  },
  {
   "cell_type": "code",
   "execution_count": 8,
   "metadata": {
    "slideshow": {
     "slide_type": "fragment"
    }
   },
   "outputs": [
    {
     "data": {
      "text/plain": [
       "'Malcom'"
      ]
     },
     "execution_count": 8,
     "metadata": {},
     "output_type": "execute_result"
    }
   ],
   "source": [
    "m.group(1)"
   ]
  },
  {
   "cell_type": "code",
   "execution_count": 9,
   "metadata": {
    "slideshow": {
     "slide_type": "fragment"
    }
   },
   "outputs": [
    {
     "data": {
      "text/plain": [
       "'Reynolds'"
      ]
     },
     "execution_count": 9,
     "metadata": {},
     "output_type": "execute_result"
    }
   ],
   "source": [
    "m.group(2)"
   ]
  },
  {
   "cell_type": "markdown",
   "metadata": {
    "slideshow": {
     "slide_type": "subslide"
    }
   },
   "source": [
    "# Functions to modify strings\n",
    "\n",
    "- ``re.split(<pattern>, <string>)`` splits a string using a pattern\n",
    "- ``re.sub(<pattern>, <repl>, <string>[, <count>])`` substitutes a <pattern> in a <string> with <repl>"
   ]
  },
  {
   "cell_type": "code",
   "execution_count": 10,
   "metadata": {
    "slideshow": {
     "slide_type": "fragment"
    }
   },
   "outputs": [
    {
     "name": "stdout",
     "output_type": "stream",
     "text": [
      "['This', 'is', 'a', 'test', 'short', 'and', 'sweet', 'of', 'split', '']\n"
     ]
    }
   ],
   "source": [
    "# split a string into words by using non alphanumeric characters as separators\n",
    "print(re.split('\\\\W+', 'This is a test, short and sweet, of split().'))"
   ]
  },
  {
   "cell_type": "code",
   "execution_count": 11,
   "metadata": {
    "slideshow": {
     "slide_type": "fragment"
    }
   },
   "outputs": [
    {
     "name": "stdout",
     "output_type": "stream",
     "text": [
      "['This', ' ', 'is', ' ', 'a', ' ', 'test', ', ', 'short', ' ', 'and', ' ', 'sweet', ', ', 'of', ' ', 'split', '().', '']\n"
     ]
    }
   ],
   "source": [
    "# creating a group also returns the bondaries\n",
    "print(re.split('(\\\\W+)', 'This is a test, short and sweet, of split().'))"
   ]
  },
  {
   "cell_type": "markdown",
   "metadata": {
    "slideshow": {
     "slide_type": "slide"
    }
   },
   "source": [
    "# Greedy march vs Non-Greedy\n",
    "\n",
    "By default matching is greedy."
   ]
  },
  {
   "cell_type": "code",
   "execution_count": 12,
   "metadata": {
    "collapsed": true,
    "slideshow": {
     "slide_type": "fragment"
    }
   },
   "outputs": [],
   "source": [
    "s = '<html><head><title>Title</title>'"
   ]
  },
  {
   "cell_type": "code",
   "execution_count": 13,
   "metadata": {
    "slideshow": {
     "slide_type": "fragment"
    }
   },
   "outputs": [
    {
     "name": "stdout",
     "output_type": "stream",
     "text": [
      "<html><head><title>Title</title>\n"
     ]
    }
   ],
   "source": [
    "print(re.match('<.*>', s).group())"
   ]
  },
  {
   "cell_type": "code",
   "execution_count": 14,
   "metadata": {
    "slideshow": {
     "slide_type": "fragment"
    }
   },
   "outputs": [
    {
     "name": "stdout",
     "output_type": "stream",
     "text": [
      "<html>\n"
     ]
    }
   ],
   "source": [
    "# non-greedy search\n",
    "print(re.match('<.*?>', s).group())"
   ]
  },
  {
   "cell_type": "markdown",
   "metadata": {
    "slideshow": {
     "slide_type": "slide"
    }
   },
   "source": [
    "# Raw strings\n",
    "\n",
    "If we need to match a ``\\`` in the text our RE gets complicated."
   ]
  },
  {
   "cell_type": "code",
   "execution_count": 15,
   "metadata": {
    "slideshow": {
     "slide_type": "fragment"
    }
   },
   "outputs": [
    {
     "name": "stdout",
     "output_type": "stream",
     "text": [
      "None\n"
     ]
    }
   ],
   "source": [
    "s = \"\\section\"\n",
    "print(re.match(\"\\section\", s))"
   ]
  },
  {
   "cell_type": "code",
   "execution_count": 16,
   "metadata": {
    "slideshow": {
     "slide_type": "fragment"
    }
   },
   "outputs": [
    {
     "name": "stdout",
     "output_type": "stream",
     "text": [
      "None\n"
     ]
    }
   ],
   "source": [
    "print(re.match(\"\\\\section\", s))"
   ]
  },
  {
   "cell_type": "code",
   "execution_count": 17,
   "metadata": {
    "slideshow": {
     "slide_type": "fragment"
    }
   },
   "outputs": [
    {
     "name": "stdout",
     "output_type": "stream",
     "text": [
      "<_sre.SRE_Match object; span=(0, 8), match='\\\\section'>\n"
     ]
    }
   ],
   "source": [
    "print(re.match(\"\\\\\\\\section\", s))"
   ]
  },
  {
   "cell_type": "code",
   "execution_count": 18,
   "metadata": {
    "slideshow": {
     "slide_type": "fragment"
    }
   },
   "outputs": [
    {
     "name": "stdout",
     "output_type": "stream",
     "text": [
      "<_sre.SRE_Match object; span=(0, 8), match='\\\\section'>\n"
     ]
    }
   ],
   "source": [
    "print(re.match(r\"\\\\section\", s))"
   ]
  },
  {
   "cell_type": "code",
   "execution_count": 19,
   "metadata": {
    "slideshow": {
     "slide_type": "fragment"
    }
   },
   "outputs": [
    {
     "name": "stdout",
     "output_type": "stream",
     "text": [
      "None\n"
     ]
    }
   ],
   "source": [
    "# but not this form\n",
    "print(re.match(r\"\\section\", s))"
   ]
  },
  {
   "cell_type": "markdown",
   "metadata": {
    "slideshow": {
     "slide_type": "subslide"
    }
   },
   "source": [
    "Regular expressions are usually written in python using raw string notation.\n",
    "\n",
    "It makes the expressions easier to read: ``\"\\\\d+\\.\\\\d+\"`` vs. ``r\"\\d\\.\\d+\"``"
   ]
  },
  {
   "cell_type": "markdown",
   "metadata": {
    "slideshow": {
     "slide_type": "slide"
    }
   },
   "source": [
    "# Exercises\n",
    "\n",
    "- Write a program that converts Roman numerals to Arabic numerals using regular expressions\n",
    "- Write as many regular expressions you can to capture temporal expressions in the given list of questions"
   ]
  },
  {
   "cell_type": "markdown",
   "metadata": {
    "slideshow": {
     "slide_type": "slide"
    }
   },
   "source": [
    "# Further reading\n",
    "\n",
    "- Regular Expression HOWTO: <a href=\"https://docs.python.org/3/howto/regex.html\" target=\"_blank\">https://docs.python.org/3/howto/regex.html</a>\n",
    "- RE module documentation: <a href=\"https://docs.python.org/3/library/re.html\" target=\"_blank\">https://docs.python.org/3/library/re.html</a>\n",
    "- RE examples: <a href=\"https://www.tutorialspoint.com/python/python_reg_expressions.htm\" target=\"_blank\">https://www.tutorialspoint.com/python/python_reg_expressions.htm</a>\n",
    "- https://regexcrossword.com/\n",
    "- Language independent tutorial about regular expressions\n",
    "<a href=\"https://github.com/zeeshanu/learn-regex\">https://github.com/zeeshanu/learn-regex</a>"
   ]
  },
  {
   "cell_type": "raw",
   "metadata": {
    "slideshow": {
     "slide_type": "slide"
    }
   },
   "source": [
    "<a rel=\"license\" href=\"http://creativecommons.org/licenses/by-sa/4.0/\"><img alt=\"Creative Commons Licence\" style=\"border-width:0\" src=\"https://i.creativecommons.org/l/by-sa/4.0/88x31.png\" /></a><br /><span xmlns:dct=\"http://purl.org/dc/terms/\" property=\"dct:title\">Python programming for linguists</span> by <a xmlns:cc=\"http://creativecommons.org/ns#\" href=\"http://dinel.org.uk\" property=\"cc:attributionName\" rel=\"cc:attributionURL\">Constantin Orasan</a> is licensed under a <a rel=\"license\" href=\"http://creativecommons.org/licenses/by-sa/4.0/\">Creative Commons Attribution-ShareAlike 4.0 International License</a>.<br />Based on a work at <a xmlns:dct=\"http://purl.org/dc/terms/\" href=\"https://github.com/dinel/PythonForLinguists\" rel=\"dct:source\">https://github.com/dinel/PythonForLinguists</a>."
   ]
  }
 ],
 "metadata": {
  "celltoolbar": "Slideshow",
  "kernelspec": {
   "display_name": "Python 3",
   "language": "python",
   "name": "python3"
  },
  "language_info": {
   "codemirror_mode": {
    "name": "ipython",
    "version": 3
   },
   "file_extension": ".py",
   "mimetype": "text/x-python",
   "name": "python",
   "nbconvert_exporter": "python",
   "pygments_lexer": "ipython3",
   "version": "3.6.2"
  }
 },
 "nbformat": 4,
 "nbformat_minor": 2
}
