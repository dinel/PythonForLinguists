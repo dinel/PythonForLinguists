{
 "cells": [
  {
   "cell_type": "markdown",
   "metadata": {
    "collapsed": true,
    "slideshow": {
     "slide_type": "slide"
    }
   },
   "source": [
    "# Exceptions\n",
    "\n",
    "- Errors detected during the execution are called **exceptions**\n",
    "- If an exception is not treated (caught) it is unconditionally fatal (the program stops)\n",
    "- Exceptions are different from **syntax errors**\n",
    "- There are cases where you can capture syntax errors using exception handling"
   ]
  },
  {
   "cell_type": "markdown",
   "metadata": {
    "slideshow": {
     "slide_type": "subslide"
    }
   },
   "source": [
    "```python\n",
    "try:\n",
    "    <block>\n",
    "exception(<ex11>, <ex12>, ...)[as value_1]:\n",
    "    <block_ex_1>\n",
    "exception(<ex21>, <ex22>, ...)[as <value_2>]:\n",
    "    <block_ex_2>\n",
    "...\n",
    "else:\n",
    "    <block_else>\n",
    "finally:\n",
    "    <block finally>\n",
    "```"
   ]
  },
  {
   "cell_type": "code",
   "execution_count": 1,
   "metadata": {
    "slideshow": {
     "slide_type": "subslide"
    }
   },
   "outputs": [
    {
     "data": {
      "text/plain": [
       "'s'"
      ]
     },
     "execution_count": 1,
     "metadata": {},
     "output_type": "execute_result"
    }
   ],
   "source": [
    "s = \"test\"\n",
    "s[2]"
   ]
  },
  {
   "cell_type": "code",
   "execution_count": 2,
   "metadata": {
    "slideshow": {
     "slide_type": "fragment"
    }
   },
   "outputs": [
    {
     "ename": "IndexError",
     "evalue": "string index out of range",
     "output_type": "error",
     "traceback": [
      "\u001b[0;31m---------------------------------------------------------------------------\u001b[0m",
      "\u001b[0;31mIndexError\u001b[0m                                Traceback (most recent call last)",
      "\u001b[0;32m<ipython-input-2-563ffd4f61fe>\u001b[0m in \u001b[0;36m<module>\u001b[0;34m()\u001b[0m\n\u001b[0;32m----> 1\u001b[0;31m \u001b[0ms\u001b[0m\u001b[0;34m[\u001b[0m\u001b[0;36m10\u001b[0m\u001b[0;34m]\u001b[0m\u001b[0;34m\u001b[0m\u001b[0m\n\u001b[0m",
      "\u001b[0;31mIndexError\u001b[0m: string index out of range"
     ]
    }
   ],
   "source": [
    "s[10]"
   ]
  },
  {
   "cell_type": "code",
   "execution_count": 3,
   "metadata": {
    "slideshow": {
     "slide_type": "subslide"
    }
   },
   "outputs": [
    {
     "name": "stdout",
     "output_type": "stream",
     "text": [
      "Exception\n",
      "End of program\n"
     ]
    }
   ],
   "source": [
    "# example how we can catch an exception\n",
    "s = \"test\"\n",
    "try:\n",
    "    print(s[10])\n",
    "    print(\"After print\")\n",
    "except IndexError as value:\n",
    "    print(\"Exception:\", value)\n",
    "else:\n",
    "    print(\"No error\")\n",
    "    \n",
    "print(\"End of program\")"
   ]
  },
  {
   "cell_type": "markdown",
   "metadata": {
    "slideshow": {
     "slide_type": "subslide"
    }
   },
   "source": [
    "# Example how *finally* works\n"
   ]
  },
  {
   "cell_type": "code",
   "execution_count": 8,
   "metadata": {
    "collapsed": true,
    "slideshow": {
     "slide_type": "fragment"
    }
   },
   "outputs": [],
   "source": [
    "# define a function which prints the character at a given position from a string\n",
    "def display_char(s, pos):\n",
    "    try:\n",
    "        print(\"Character at \", pos, \"is\", s[pos])\n",
    "    except IndexError as value:\n",
    "        print(\"Error\", value)\n",
    "    finally:\n",
    "        print(\"Exiting the function\")"
   ]
  },
  {
   "cell_type": "code",
   "execution_count": 9,
   "metadata": {
    "slideshow": {
     "slide_type": "fragment"
    }
   },
   "outputs": [
    {
     "name": "stdout",
     "output_type": "stream",
     "text": [
      "Character at  2 is s\n",
      "Exiting the function\n"
     ]
    }
   ],
   "source": [
    "display_char(\"test\", 2)"
   ]
  },
  {
   "cell_type": "code",
   "execution_count": 10,
   "metadata": {
    "slideshow": {
     "slide_type": "fragment"
    }
   },
   "outputs": [
    {
     "name": "stdout",
     "output_type": "stream",
     "text": [
      "Error string index out of range\n",
      "Exiting the function\n"
     ]
    }
   ],
   "source": [
    "display_char(\"test\", 10)"
   ]
  },
  {
   "cell_type": "markdown",
   "metadata": {
    "slideshow": {
     "slide_type": "subslide"
    }
   },
   "source": [
    "# Examples of exceptions\n",
    "\n",
    "- **IOError**: an I/O operation fails (e.g. open a file that does not exist)\n",
    "- **IndexError**: when a sequence is indexed with a number of a nonexistent element\n",
    "- **KeyError**: when a dictionary key is not found\n",
    "- **ValueError**: when a built-in operation or function receives an argument that has right type but inappropriate value (e.g. int(“10a”))\n",
    "\n",
    "You can see more buildin exceptions at <a href=\"https://docs.python.org/3.6/library/exceptions.html\" target=\"_blank\">https://docs.python.org/3.6/library/exceptions.html</a>"
   ]
  },
  {
   "cell_type": "markdown",
   "metadata": {
    "slideshow": {
     "slide_type": "subslide"
    }
   },
   "source": [
    "# How to use exceptions to read a number\n",
    "\n",
    "Write a function which asks the user to enter an integer. Repeats this request till the string entered is indeed an integer."
   ]
  },
  {
   "cell_type": "code",
   "execution_count": 12,
   "metadata": {
    "slideshow": {
     "slide_type": "fragment"
    }
   },
   "outputs": [
    {
     "name": "stdout",
     "output_type": "stream",
     "text": [
      "Enter an integer:we\n",
      "You did not enter an integer\n",
      "Enter an integer:1.2\n",
      "You did not enter an integer\n",
      "Enter an integer:1a\n",
      "You did not enter an integer\n",
      "Enter an integer:4\n",
      "The number you entered is 4\n"
     ]
    }
   ],
   "source": [
    "def read_number():\n",
    "    while True:\n",
    "        try:\n",
    "            num = int(input(\"Enter an integer:\"))\n",
    "        except ValueError:\n",
    "            print(\"You did not enter an integer\")\n",
    "        else:\n",
    "            return num\n",
    "        \n",
    "print(\"The number you entered is\", read_number())"
   ]
  },
  {
   "cell_type": "markdown",
   "metadata": {
    "slideshow": {
     "slide_type": "slide"
    }
   },
   "source": [
    "# Working with text files\n",
    "\n",
    "1. Open the file\n",
    "2. Read/write from/to the file\n",
    "3. Close the file"
   ]
  },
  {
   "cell_type": "markdown",
   "metadata": {
    "slideshow": {
     "slide_type": "subslide"
    }
   },
   "source": [
    "# Opening the file\n",
    "\n",
    "- To open a file we call the built-in function ``open(<file name>[, <mode>])``\n",
    "- Modes:\n",
    "   - ``r`` read from the file\n",
    "   - ``w`` write to file (if the file exists, its contents gets overwritten)\n",
    "   - ``a`` appends new data to a file (creates the file if it does not exists)\n",
    "   - ``r+, w+, a+``\n",
    "- an IOError exception can occur. For this reason it is common to wrap the processing of the file in a ``try-except`` structure\n",
    "- the ``open`` function returns a file handle which can be used for reading and writing\n",
    "\n",
    "``file_handle = open(\"my_text.txt\", \"r\")``"
   ]
  },
  {
   "cell_type": "markdown",
   "metadata": {
    "slideshow": {
     "slide_type": "subslide"
    }
   },
   "source": [
    "# Reading from a file\n",
    "\n",
    "It is possible to iterate through the file line by line using ``for``\n",
    "\n",
    "```python\n",
    "for line in file_handle:\n",
    "    print(line)\n",
    "```\n",
    "\n",
    "It is possible to read all the lines in a list using ``readlines()``\n",
    "\n",
    "```python\n",
    "lines = file_handle.readlines()\n",
    "for line in lines:\n",
    "    print(line)\n",
    "```"
   ]
  },
  {
   "cell_type": "markdown",
   "metadata": {
    "slideshow": {
     "slide_type": "subslide"
    }
   },
   "source": [
    "It is possible to read one line from the file using ``readline()``. An empty line is returned when the end of the file is reached.\n",
    "\n",
    "```python\n",
    "while(True):\n",
    "    line = file_handle.readline()\n",
    "    if not line: break\n",
    "    print(line)\n",
    "```\n",
    "\n",
    "The lines read from a text file will have the ``\\n`` character at the end.\n",
    "\n",
    "It is possible to read the whole file as a string using ``read``."
   ]
  },
  {
   "cell_type": "markdown",
   "metadata": {
    "slideshow": {
     "slide_type": "subslide"
    }
   },
   "source": [
    "# Writing to a file\n",
    "\n",
    "- The file needs to be opened with a mode that permits writine\n",
    "- A string can be written using ``write``. New line is not automatically added to the line: eg. ``text_file.write(\"This is a line\\n\")``\n",
    "- It is possible to write several lines at once: ``writelines`` takes a list of strings\n",
    "\n"
   ]
  },
  {
   "cell_type": "markdown",
   "metadata": {
    "slideshow": {
     "slide_type": "subslide"
    }
   },
   "source": [
    "# Closing a file\n",
    "\n",
    "- The file is closed using ``close()``: ``file_handle.close()``\n",
    "- It is a good practice to close a file when it is no longer needed"
   ]
  },
  {
   "cell_type": "markdown",
   "metadata": {
    "slideshow": {
     "slide_type": "slide"
    }
   },
   "source": [
    "# Using *with* to work with files\n",
    "\n",
    "It is possible to use ``with`` to make sure that the file is closed\n",
    "\n",
    "```python\n",
    "with open('test.txt', 'r') as in_file:\n",
    "    for line in in_file:\n",
    "        print(line)\n",
    "```\n",
    "\n",
    "You will still need to deal with exceptions the normal way. ``with`` ensures that the file is closed even if there is an exception."
   ]
  },
  {
   "cell_type": "markdown",
   "metadata": {
    "slideshow": {
     "slide_type": "slide"
    }
   },
   "source": [
    "# Exercises\n",
    "\n",
    "Write a program that generates frequency lists of ngrams extracted from a file."
   ]
  },
  {
   "cell_type": "markdown",
   "metadata": {
    "slideshow": {
     "slide_type": "slide"
    }
   },
   "source": [
    "# Further reading\n",
    "\n",
    "- Exceptions: <a href=\"http://www.python-course.eu/python3_exception_handling.php\" target=\"_blank\">http://www.python-course.eu/python3_exception_handling.php</a>\n",
    "- Read and write file: <a href=\"http://www.python-course.eu/python3_file_management.php\" target=\"_blank\">http://www.python-course.eu/python3_file_management.php</a>\n",
    "- Chapter 7 of Python Programming for the Absolute Beginner by Michael Dawson"
   ]
  },
  {
   "cell_type": "raw",
   "metadata": {
    "slideshow": {
     "slide_type": "slide"
    }
   },
   "source": [
    "<a rel=\"license\" href=\"http://creativecommons.org/licenses/by-sa/4.0/\"><img alt=\"Creative Commons Licence\" style=\"border-width:0\" src=\"https://i.creativecommons.org/l/by-sa/4.0/88x31.png\" /></a><br /><span xmlns:dct=\"http://purl.org/dc/terms/\" property=\"dct:title\">Python programming for linguists</span> by <a xmlns:cc=\"http://creativecommons.org/ns#\" href=\"http://dinel.org.uk\" property=\"cc:attributionName\" rel=\"cc:attributionURL\">Constantin Orasan</a> is licensed under a <a rel=\"license\" href=\"http://creativecommons.org/licenses/by-sa/4.0/\">Creative Commons Attribution-ShareAlike 4.0 International License</a>.<br />Based on a work at <a xmlns:dct=\"http://purl.org/dc/terms/\" href=\"https://github.com/dinel/PythonForLinguists\" rel=\"dct:source\">https://github.com/dinel/PythonForLinguists</a>."
   ]
  }
 ],
 "metadata": {
  "celltoolbar": "Slideshow",
  "kernelspec": {
   "display_name": "Python 3",
   "language": "python",
   "name": "python3"
  },
  "language_info": {
   "codemirror_mode": {
    "name": "ipython",
    "version": 3
   },
   "file_extension": ".py",
   "mimetype": "text/x-python",
   "name": "python",
   "nbconvert_exporter": "python",
   "pygments_lexer": "ipython3",
   "version": "3.6.2"
  }
 },
 "nbformat": 4,
 "nbformat_minor": 2
}
