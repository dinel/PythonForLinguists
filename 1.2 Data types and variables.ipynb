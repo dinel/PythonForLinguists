{
 "cells": [
  {
   "cell_type": "code",
   "execution_count": 2,
   "metadata": {
    "slideshow": {
     "slide_type": "skip"
    }
   },
   "outputs": [
    {
     "name": "stdout",
     "output_type": "stream",
     "text": [
      "Exception reporting mode: Context\n",
      "Doctest mode is: OFF\n"
     ]
    }
   ],
   "source": [
    "# stuff that are needed to get the output pretty\n",
    "# but not to be included in the slideshow\n",
    "%doctest_mode\n",
    "from IPython.display import IFrame"
   ]
  },
  {
   "cell_type": "markdown",
   "metadata": {
    "slideshow": {
     "slide_type": "slide"
    }
   },
   "source": [
    "# Data types and variables in Python"
   ]
  },
  {
   "cell_type": "markdown",
   "metadata": {
    "slideshow": {
     "slide_type": "slide"
    }
   },
   "source": [
    "# Types in python\n",
    "\n",
    "- types represents the kind of value wer are dealing with and determines how the value can be used (i.e. what operations can be applied to the value)\n",
    "- types are similar to part of speech in natural language (e.g. what operations can you apply to a verb?)\n",
    "\n",
    "`type` built-in function gives the type of \"something\"\n",
    "\n",
    "`isinstance` built-in function which tests where \"something\" is of a given type\n"
   ]
  },
  {
   "cell_type": "markdown",
   "metadata": {
    "slideshow": {
     "slide_type": "subslide"
    }
   },
   "source": [
    "# Built-in types in Python\n",
    "\n",
    "- Numeric Types: int, float, complex\n",
    "- Sequence Types: list, tuple, range\n",
    "- Text Sequence Type: strings\n",
    "- Binary Sequence Types: bytes, bytearray, memoryview\n",
    "- Set Types: set, frozenset\n",
    "- Mappint Types: dictionaries\n",
    "- Other Build-in Types: functions, classes, etc. \n",
    "\n",
    "Very detailed information about built-in types from the official documentation <a href=\"https://docs.python.org/3.6/library/stdtypes.html\" target=\"_blank\">https://docs.python.org/3.6/library/stdtypes.html</a>"
   ]
  },
  {
   "cell_type": "markdown",
   "metadata": {
    "slideshow": {
     "slide_type": "subslide"
    }
   },
   "source": [
    "# Examples of how type() works"
   ]
  },
  {
   "cell_type": "code",
   "execution_count": 5,
   "metadata": {
    "slideshow": {
     "slide_type": "fragment"
    }
   },
   "outputs": [
    {
     "data": {
      "text/plain": [
       "<class 'int'>"
      ]
     },
     "execution_count": 5,
     "metadata": {},
     "output_type": "execute_result"
    }
   ],
   "source": [
    "# check the type of a number\n",
    "type(57)"
   ]
  },
  {
   "cell_type": "code",
   "execution_count": 6,
   "metadata": {
    "slideshow": {
     "slide_type": "fragment"
    }
   },
   "outputs": [
    {
     "data": {
      "text/plain": [
       "<class 'float'>"
      ]
     },
     "execution_count": 6,
     "metadata": {},
     "output_type": "execute_result"
    }
   ],
   "source": [
    "type(1.1)"
   ]
  },
  {
   "cell_type": "code",
   "execution_count": 7,
   "metadata": {
    "slideshow": {
     "slide_type": "fragment"
    }
   },
   "outputs": [
    {
     "data": {
      "text/plain": [
       "<class 'str'>"
      ]
     },
     "execution_count": 7,
     "metadata": {},
     "output_type": "execute_result"
    }
   ],
   "source": [
    "# check the type of a string\n",
    "type(\"this is a string because it has quotes\")"
   ]
  },
  {
   "cell_type": "code",
   "execution_count": 8,
   "metadata": {
    "slideshow": {
     "slide_type": "fragment"
    }
   },
   "outputs": [
    {
     "data": {
      "text/plain": [
       "<class 'module'>"
      ]
     },
     "execution_count": 8,
     "metadata": {},
     "output_type": "execute_result"
    }
   ],
   "source": [
    "# lets try a module\n",
    "import turtle\n",
    "type(turtle)"
   ]
  },
  {
   "cell_type": "markdown",
   "metadata": {
    "slideshow": {
     "slide_type": "slide"
    }
   },
   "source": [
    "# Variables\n",
    "\n",
    "- Variables are used to give names to values (number, characters, strings, etc.)\n",
    "- A memory location where a programmer can store a value\n",
    "- The value of a variable can be changed\n",
    "- The name of a variable can contain letters, numbers and _\n",
    "- The name of a variable starts with a letter or _\n",
    "- It is case sensitive (``Test`` and ``test`` are different variables)"
   ]
  },
  {
   "cell_type": "markdown",
   "metadata": {
    "slideshow": {
     "slide_type": "subslide"
    }
   },
   "source": [
    "# Variables advice\n",
    "\n",
    "- Use meaningful variable names\n",
    "  `x`, `a`, `b` not very meaningful\n",
    "  `population_size` or `PopulationSize` much better\n",
    "- Don't overdo it when you name variables `numberOfWordsFromTheCorpusUsedInExperiment`\n",
    "- Use short names for variables that are used only locally (e.g. in loops or temporary variables in functions)\n",
    "- Variable in python do not need to be declared, **but a variable cannot be used in the right hand side of an expression unless it was assigned a value**\n",
    "\n",
    "Read more at: \n",
    "\n",
    "http://www.developer.com/lang/other/article.php/626321/Learn-to-Program-Using-Python-Variables-and-Identifiers.htm\n"
   ]
  },
  {
   "cell_type": "markdown",
   "metadata": {
    "slideshow": {
     "slide_type": "subslide"
    }
   },
   "source": [
    "# Examples how to use variables"
   ]
  },
  {
   "cell_type": "code",
   "execution_count": 9,
   "metadata": {
    "collapsed": true,
    "slideshow": {
     "slide_type": "fragment"
    }
   },
   "outputs": [],
   "source": [
    "# give a value to the number_of_words \n",
    "number_of_words = 1000"
   ]
  },
  {
   "cell_type": "code",
   "execution_count": 10,
   "metadata": {
    "slideshow": {
     "slide_type": "fragment"
    }
   },
   "outputs": [
    {
     "name": "stdout",
     "output_type": "stream",
     "text": [
      "The total number of words is 1000\n"
     ]
    }
   ],
   "source": [
    "# access the value of variable number_of_words\n",
    "print(\"The total number of words is\", number_of_words)"
   ]
  },
  {
   "cell_type": "code",
   "execution_count": 11,
   "metadata": {
    "slideshow": {
     "slide_type": "fragment"
    }
   },
   "outputs": [
    {
     "ename": "NameError",
     "evalue": "name 'number_of_texts' is not defined",
     "output_type": "error",
     "traceback": [
      "Traceback \u001b[0;36m(most recent call last)\u001b[0m:\n",
      "\u001b[0;36m  File \u001b[0;32m\"<ipython-input-11-953bcc7f9d9c>\"\u001b[0;36m, line \u001b[0;32m2\u001b[0;36m, in \u001b[0;35m<module>\u001b[0;36m\u001b[0m\n\u001b[0;31m    average_words_per_text = number_of_words/number_of_texts\u001b[0m\n",
      "\u001b[0;31mNameError\u001b[0m\u001b[0;31m:\u001b[0m name 'number_of_texts' is not defined\n"
     ]
    }
   ],
   "source": [
    "# error if we try to access the value of a variable before it is initialised\n",
    "average_words_per_text = number_of_words/number_of_texts"
   ]
  },
  {
   "cell_type": "markdown",
   "metadata": {
    "slideshow": {
     "slide_type": "subslide"
    }
   },
   "source": [
    "# Multiple assignment\n",
    "\n",
    "We can have multiple assignments in the same statement"
   ]
  },
  {
   "cell_type": "code",
   "execution_count": 12,
   "metadata": {
    "slideshow": {
     "slide_type": "fragment"
    }
   },
   "outputs": [
    {
     "name": "stdout",
     "output_type": "stream",
     "text": [
      "a=1 b=1 c=1\n"
     ]
    }
   ],
   "source": [
    "# we can assign the same value to more than one variable\n",
    "a = b = c = 1\n",
    "print(\"a=\", a, \" b=\", b, \" c=\", c, sep=\"\")"
   ]
  },
  {
   "cell_type": "code",
   "execution_count": 13,
   "metadata": {
    "slideshow": {
     "slide_type": "fragment"
    }
   },
   "outputs": [
    {
     "name": "stdout",
     "output_type": "stream",
     "text": [
      "a=1 b=2 c=3\n"
     ]
    }
   ],
   "source": [
    "# we can assign different values to different variables using tuples\n",
    "a, b, c = 1, 2, 3\n",
    "print(\"a=\", a, \" b=\", b, \" c=\", c, sep=\"\")"
   ]
  },
  {
   "cell_type": "markdown",
   "metadata": {
    "slideshow": {
     "slide_type": "subslide"
    }
   },
   "source": [
    "# Python is not strongly typed\n",
    "\n",
    "- There is no need to define the type of a variable as it is determined from the value\n",
    "- It is possible to change the type of a variable in the same program"
   ]
  },
  {
   "cell_type": "code",
   "execution_count": 14,
   "metadata": {
    "slideshow": {
     "slide_type": "fragment"
    }
   },
   "outputs": [
    {
     "data": {
      "text/plain": [
       "<class 'int'>"
      ]
     },
     "execution_count": 14,
     "metadata": {},
     "output_type": "execute_result"
    }
   ],
   "source": [
    "x = 1\n",
    "type(x)"
   ]
  },
  {
   "cell_type": "code",
   "execution_count": 15,
   "metadata": {
    "slideshow": {
     "slide_type": "fragment"
    }
   },
   "outputs": [
    {
     "data": {
      "text/plain": [
       "<class 'str'>"
      ]
     },
     "execution_count": 15,
     "metadata": {},
     "output_type": "execute_result"
    }
   ],
   "source": [
    "x = \"string\"\n",
    "type(x)"
   ]
  },
  {
   "cell_type": "markdown",
   "metadata": {
    "slideshow": {
     "slide_type": "subslide"
    }
   },
   "source": [
    "# How do we swap the values of two variables?\n",
    "\n",
    "`a = 1` and `b = 2`\n",
    "\n",
    "Write the lines of code which will make `a = 2` and `b = 1`, without making the direct assignment\n",
    "\n",
    "Visualise the solution in PythonTutor at <a href=\"https://goo.gl/8RhmsN\" target=\"_blank\">https://goo.gl/8RhmsN</a>"
   ]
  },
  {
   "cell_type": "code",
   "execution_count": 4,
   "metadata": {
    "collapsed": true,
    "slideshow": {
     "slide_type": "skip"
    }
   },
   "outputs": [],
   "source": [
    "swap_vars_example = \"http://pythontutor.com/iframe-embed.html\" + \\\n",
    "                    \"#code=%23%20how%20to%20swap%20the%20values\" + \\\n",
    "                    \"%20of%20two%20variables%0Aa%20%3D%20int%28\" + \\\n",
    "                    \"input%28%22Enter%20the%20first%20number%3A\" + \\\n",
    "                    \"%22%29%29%0Ab%20%3D%20int%28input%28%22Enter\" + \\\n",
    "                    \"%20the%20second%20number%3A%22%29%29%0Aprint%28\" + \\\n",
    "                    \"%22Before%20swap%3A%20a%3D%22,%20a,%20%22%20b%3D\" + \\\n",
    "                    \"%22,%20b,%20sep%3D%22%22%29%0Atmp%20%3D%20a%0Aa%20\" + \\\n",
    "                    \"%3D%20b%0Ab%20%3D%20tmp%0Aprint%28%22After%20swap\" + \\\n",
    "                    \"%20a%3D%22,%20a,%20%22%20b%3D%22,%20b,%20sep%3D%22\" + \\\n",
    "                    \"%22%29&codeDivHeight=400&codeDivWidth=550&cumulative\" + \\\n",
    "                    \"=false&curInstr=0&heapPrimitives=false&origin=opt-\" + \\\n",
    "                    \"frontend.js&py=3&rawInputLstJSON=%5B%221%22,%222%22\" + \\\n",
    "                    \"%5D&textReferences=false\""
   ]
  },
  {
   "cell_type": "code",
   "execution_count": 6,
   "metadata": {
    "slideshow": {
     "slide_type": "subslide"
    }
   },
   "outputs": [
    {
     "data": {
      "text/html": [
       "\n",
       "        <iframe\n",
       "            width=\"1000\"\n",
       "            height=\"500\"\n",
       "            src=\"http://pythontutor.com/iframe-embed.html#code=%23%20how%20to%20swap%20the%20values%20of%20two%20variables%0Aa%20%3D%20int%28input%28%22Enter%20the%20first%20number%3A%22%29%29%0Ab%20%3D%20int%28input%28%22Enter%20the%20second%20number%3A%22%29%29%0Aprint%28%22Before%20swap%3A%20a%3D%22,%20a,%20%22%20b%3D%22,%20b,%20sep%3D%22%22%29%0Atmp%20%3D%20a%0Aa%20%3D%20b%0Ab%20%3D%20tmp%0Aprint%28%22After%20swap%20a%3D%22,%20a,%20%22%20b%3D%22,%20b,%20sep%3D%22%22%29&codeDivHeight=400&codeDivWidth=550&cumulative=false&curInstr=0&heapPrimitives=false&origin=opt-frontend.js&py=3&rawInputLstJSON=%5B%221%22,%222%22%5D&textReferences=false\"\n",
       "            frameborder=\"0\"\n",
       "            allowfullscreen\n",
       "        ></iframe>\n",
       "        "
      ],
      "text/plain": [
       "<IPython.lib.display.IFrame at 0x7f1d7028c908>"
      ]
     },
     "execution_count": 6,
     "metadata": {},
     "output_type": "execute_result"
    }
   ],
   "source": [
    "IFrame(swap_vars_example, 1000, 500)"
   ]
  },
  {
   "cell_type": "markdown",
   "metadata": {
    "slideshow": {
     "slide_type": "subslide"
    }
   },
   "source": [
    "# Swap variables, python solution\n",
    "\n",
    "```a, b = b, a```"
   ]
  },
  {
   "cell_type": "code",
   "execution_count": 21,
   "metadata": {
    "slideshow": {
     "slide_type": "fragment"
    }
   },
   "outputs": [
    {
     "name": "stdout",
     "output_type": "stream",
     "text": [
      "Before swap: a=1 b=2\n"
     ]
    }
   ],
   "source": [
    "a, b = 1, 2\n",
    "print(\"Before swap: a=\", a, \" b=\", b, sep=\"\")"
   ]
  },
  {
   "cell_type": "code",
   "execution_count": 22,
   "metadata": {
    "collapsed": true,
    "slideshow": {
     "slide_type": "fragment"
    }
   },
   "outputs": [],
   "source": [
    "a, b = b, a"
   ]
  },
  {
   "cell_type": "code",
   "execution_count": 23,
   "metadata": {
    "slideshow": {
     "slide_type": "fragment"
    }
   },
   "outputs": [
    {
     "name": "stdout",
     "output_type": "stream",
     "text": [
      "After swap: a=2 b=1\n"
     ]
    }
   ],
   "source": [
    "print(\"After swap: a=\", a, \" b=\", b, sep=\"\")"
   ]
  },
  {
   "cell_type": "markdown",
   "metadata": {
    "slideshow": {
     "slide_type": "slide"
    }
   },
   "source": [
    "# Boolean values\n",
    "\n",
    "Subtype of integer which represent True and False logical values\n",
    "\n",
    "**False** values:\n",
    "- constants defined to be false: `None` and `False`\n",
    "- zero of any numeric type: `0`, `0.0`, `0j`, `Decimal(0)`, `Fraction(0, 1)`\n",
    "- empty sequences and collections: `''`, `()`, `[]`, `{}`, `set()`, `range(0)`\n",
    "- an object whose  `__bool__()` method that returns `False` or `__len__()` method that returns zero\n",
    "\n",
    "**Anything** else is considered `True`\n",
    "\n",
    "This approach gives lots of flexibility when writing conditions."
   ]
  },
  {
   "cell_type": "markdown",
   "metadata": {
    "slideshow": {
     "slide_type": "subslide"
    }
   },
   "source": [
    "# Operations with Boolean values\n",
    "\n",
    "Boolean operations are `and`, `or` and `not`"
   ]
  },
  {
   "cell_type": "code",
   "execution_count": 24,
   "metadata": {
    "collapsed": true,
    "slideshow": {
     "slide_type": "fragment"
    }
   },
   "outputs": [],
   "source": [
    "# initialise two variables\n",
    "condition_1 = True\n",
    "condition_2 = False"
   ]
  },
  {
   "cell_type": "code",
   "execution_count": 25,
   "metadata": {
    "slideshow": {
     "slide_type": "fragment"
    }
   },
   "outputs": [
    {
     "data": {
      "text/plain": [
       "True"
      ]
     },
     "execution_count": 25,
     "metadata": {},
     "output_type": "execute_result"
    }
   ],
   "source": [
    "# x or y: if x is false, then y, else x\n",
    "condition_1 or condition_2"
   ]
  },
  {
   "cell_type": "code",
   "execution_count": 26,
   "metadata": {
    "slideshow": {
     "slide_type": "fragment"
    }
   },
   "outputs": [
    {
     "data": {
      "text/plain": [
       "False"
      ]
     },
     "execution_count": 26,
     "metadata": {},
     "output_type": "execute_result"
    }
   ],
   "source": [
    "# x and y: if x is false, then x, else y\n",
    "condition_1 and condition_2"
   ]
  },
  {
   "cell_type": "code",
   "execution_count": 27,
   "metadata": {
    "slideshow": {
     "slide_type": "fragment"
    }
   },
   "outputs": [
    {
     "data": {
      "text/plain": [
       "False"
      ]
     },
     "execution_count": 27,
     "metadata": {},
     "output_type": "execute_result"
    }
   ],
   "source": [
    "# not x: if x is false, then True, else False\n",
    "not condition_1"
   ]
  },
  {
   "cell_type": "markdown",
   "metadata": {
    "slideshow": {
     "slide_type": "subslide"
    }
   },
   "source": [
    "# Comparators\n",
    "\n",
    "`<`\tstrictly less than\n",
    "\n",
    "`<=` less than or equal\n",
    "\n",
    "`>` strictly greater than \n",
    "\n",
    "`>=` greater than or equal\n",
    "\n",
    "`==` equal\n",
    "\n",
    "`!=` not equal\n",
    "\n",
    "`is` object identity\n",
    "\n",
    "`is not` negated object identity\n"
   ]
  },
  {
   "cell_type": "markdown",
   "metadata": {
    "slideshow": {
     "slide_type": "slide"
    }
   },
   "source": [
    "# Operations with numerical values\n",
    "\n",
    "`x + y`\tsum of x and y\n",
    "\n",
    "`x - y`\tdifference of x and y\n",
    "\n",
    "`x * y`\tproduct of x and y\n",
    "\n",
    "`x / y`\tquotient of x and y\n",
    "\n",
    "`x // y` floored quotient of x and y\n",
    "\n",
    "`x % y`\tremainder of x / y\n",
    "\n",
    "`x ** y` x at power y"
   ]
  },
  {
   "cell_type": "code",
   "execution_count": 28,
   "metadata": {
    "collapsed": true,
    "slideshow": {
     "slide_type": "subslide"
    }
   },
   "outputs": [],
   "source": [
    "# Examples of operations\n",
    "\n",
    "x = 5\n",
    "y = 2"
   ]
  },
  {
   "cell_type": "code",
   "execution_count": 29,
   "metadata": {
    "slideshow": {
     "slide_type": "fragment"
    }
   },
   "outputs": [
    {
     "name": "stdout",
     "output_type": "stream",
     "text": [
      "x+y=7\n"
     ]
    }
   ],
   "source": [
    "print(\"x+y=\", x+y, sep=\"\")"
   ]
  },
  {
   "cell_type": "code",
   "execution_count": 30,
   "metadata": {
    "slideshow": {
     "slide_type": "fragment"
    }
   },
   "outputs": [
    {
     "name": "stdout",
     "output_type": "stream",
     "text": [
      "x/y=2.5    x//y=2   x%y=1\n"
     ]
    }
   ],
   "source": [
    "print(\"x/y=\", x/y, \"    x//y=\", x//y, \"   x%y=\", x%y, sep=\"\")"
   ]
  },
  {
   "cell_type": "code",
   "execution_count": 31,
   "metadata": {
    "slideshow": {
     "slide_type": "fragment"
    }
   },
   "outputs": [
    {
     "name": "stdout",
     "output_type": "stream",
     "text": [
      "type(x/y)=<class 'float'>    type(x//y)=<class 'int'>   type(x%y)=<class 'int'>\n"
     ]
    }
   ],
   "source": [
    "print(\"type(x/y)=\", type(x/y), \"    type(x//y)=\", type(x//y), \"   type(x%y)=\", type(x%y), sep=\"\")"
   ]
  },
  {
   "cell_type": "code",
   "execution_count": 32,
   "metadata": {
    "slideshow": {
     "slide_type": "fragment"
    }
   },
   "outputs": [
    {
     "name": "stdout",
     "output_type": "stream",
     "text": [
      "x**y=25\n"
     ]
    }
   ],
   "source": [
    "print(\"x**y=\", x**y, sep=\"\")"
   ]
  },
  {
   "cell_type": "markdown",
   "metadata": {
    "slideshow": {
     "slide_type": "subslide"
    }
   },
   "source": [
    "# Augmented assignment operators\n",
    "\n",
    "``a = a + 1`` can be written as ``a += 1`` (**Note**: pay particular attention to where you place the +)"
   ]
  },
  {
   "cell_type": "code",
   "execution_count": 14,
   "metadata": {
    "collapsed": true,
    "slideshow": {
     "slide_type": "fragment"
    }
   },
   "outputs": [],
   "source": [
    "a = 10\n",
    "a += 10"
   ]
  },
  {
   "cell_type": "code",
   "execution_count": 15,
   "metadata": {
    "slideshow": {
     "slide_type": "fragment"
    }
   },
   "outputs": [
    {
     "name": "stdout",
     "output_type": "stream",
     "text": [
      "20\n"
     ]
    }
   ],
   "source": [
    "print(a)"
   ]
  },
  {
   "cell_type": "code",
   "execution_count": 16,
   "metadata": {
    "collapsed": true,
    "slideshow": {
     "slide_type": "fragment"
    }
   },
   "outputs": [],
   "source": [
    "a =+ 10"
   ]
  },
  {
   "cell_type": "code",
   "execution_count": 17,
   "metadata": {
    "slideshow": {
     "slide_type": "fragment"
    }
   },
   "outputs": [
    {
     "name": "stdout",
     "output_type": "stream",
     "text": [
      "10\n"
     ]
    }
   ],
   "source": [
    "print(a)"
   ]
  },
  {
   "cell_type": "markdown",
   "metadata": {
    "slideshow": {
     "slide_type": "fragment"
    }
   },
   "source": [
    "Other augmented assignment operators are ``-=``, ``*=``, ``/=``, ``%=``"
   ]
  },
  {
   "cell_type": "markdown",
   "metadata": {
    "slideshow": {
     "slide_type": "slide"
    }
   },
   "source": [
    "# Strings\n",
    "\n",
    "A string is a **sequence** of characters. Are used to represent a piece of text.\n",
    "\n",
    "```python\n",
    "s = \"this is a string\"\n",
    "s = \"\"\"this is\n",
    "a text\n",
    "on several\n",
    "lines\"\"\"\n",
    "s = 'this is another test'\n",
    "s = \"John's dog\"\n",
    "s = \"This is an invalid string'\n",
    "\n",
    "```\n",
    "\n",
    "- strings can contain escape sequences in order to contain special characters\n",
    "- an escape sequence is marked by \\ (backslash) followed by a letter (\\n new line, \\t tab, \\\\ for \\)"
   ]
  },
  {
   "cell_type": "markdown",
   "metadata": {
    "slideshow": {
     "slide_type": "subslide"
    }
   },
   "source": [
    "# Reading an integer\n",
    "\n",
    "We can use ``input`` to read an integer, but we need to convert the output to ``int``\n",
    "\n",
    "```python\n",
    "stringVariable = input(\"Enter an integer:\")\n",
    "numericVariable = int(stringVariable)\n",
    "```\n",
    "- we can convert a string to an integer using ``int(string)``. If ``string`` is not a valid integer an exception is thrown\n",
    "- ``float(string)`` is used to convert a string to float\n",
    "- ``str(numeric_value)`` converts a numeric value to string\n",
    "\n",
    "Read more about this on page 42 of *Python Programming for the Absolute Beginner* by Michael Dawson"
   ]
  },
  {
   "cell_type": "code",
   "execution_count": 1,
   "metadata": {
    "slideshow": {
     "slide_type": "subslide"
    }
   },
   "outputs": [
    {
     "data": {
      "text/plain": [
       "12345"
      ]
     },
     "execution_count": 1,
     "metadata": {},
     "output_type": "execute_result"
    }
   ],
   "source": [
    "# convert a string to integer\n",
    "int(\"12345\")"
   ]
  },
  {
   "cell_type": "code",
   "execution_count": 2,
   "metadata": {
    "slideshow": {
     "slide_type": "fragment"
    }
   },
   "outputs": [
    {
     "data": {
      "text/plain": [
       "12.34"
      ]
     },
     "execution_count": 2,
     "metadata": {},
     "output_type": "execute_result"
    }
   ],
   "source": [
    "# convert a string to float\n",
    "float(\"12.34\")"
   ]
  },
  {
   "cell_type": "code",
   "execution_count": 4,
   "metadata": {
    "slideshow": {
     "slide_type": "fragment"
    }
   },
   "outputs": [
    {
     "ename": "ValueError",
     "evalue": "invalid literal for int() with base 10: '123s'",
     "output_type": "error",
     "traceback": [
      "\u001b[0;31m---------------------------------------------------------------------------\u001b[0m",
      "\u001b[0;31mValueError\u001b[0m                                Traceback (most recent call last)",
      "\u001b[0;32m<ipython-input-4-6aee5270d629>\u001b[0m in \u001b[0;36m<module>\u001b[0;34m()\u001b[0m\n\u001b[1;32m      1\u001b[0m \u001b[0;31m# trying to convert invalid values\u001b[0m\u001b[0;34m\u001b[0m\u001b[0;34m\u001b[0m\u001b[0m\n\u001b[0;32m----> 2\u001b[0;31m \u001b[0mint\u001b[0m\u001b[0;34m(\u001b[0m\u001b[0;34m\"123s\"\u001b[0m\u001b[0;34m)\u001b[0m\u001b[0;34m\u001b[0m\u001b[0m\n\u001b[0m",
      "\u001b[0;31mValueError\u001b[0m: invalid literal for int() with base 10: '123s'"
     ]
    }
   ],
   "source": [
    "# trying to convert invalid values\n",
    "int(\"123s\")"
   ]
  },
  {
   "cell_type": "code",
   "execution_count": 5,
   "metadata": {
    "slideshow": {
     "slide_type": "fragment"
    }
   },
   "outputs": [
    {
     "ename": "ValueError",
     "evalue": "invalid literal for int() with base 10: '12.34'",
     "output_type": "error",
     "traceback": [
      "\u001b[0;31m---------------------------------------------------------------------------\u001b[0m",
      "\u001b[0;31mValueError\u001b[0m                                Traceback (most recent call last)",
      "\u001b[0;32m<ipython-input-5-53b343f46d73>\u001b[0m in \u001b[0;36m<module>\u001b[0;34m()\u001b[0m\n\u001b[0;32m----> 1\u001b[0;31m \u001b[0mint\u001b[0m\u001b[0;34m(\u001b[0m\u001b[0;34m\"12.34\"\u001b[0m\u001b[0;34m)\u001b[0m\u001b[0;34m\u001b[0m\u001b[0m\n\u001b[0m",
      "\u001b[0;31mValueError\u001b[0m: invalid literal for int() with base 10: '12.34'"
     ]
    }
   ],
   "source": [
    "int(\"12.34\")"
   ]
  },
  {
   "cell_type": "markdown",
   "metadata": {
    "slideshow": {
     "slide_type": "subslide"
    }
   },
   "source": [
    "# String methods\n",
    "\n",
    "- there are large number of methods that implement various important string processing \n",
    "   - for changing capitalisation: ``capitalize``, ``casefold``, ``lower``, ``swapcase``, ``title``, ``upper``\n",
    "   - alignment: ``center``, ``ljust``, ``rjust``, ``zfill``\n",
    "   - counting and finding: ``count``, ``endswith``, ``find``, ``index``, ``rfind``, ``rindex``, ``startswith``\n",
    "   - transformation: ``encode``, ``expandtabs``, ``format``, ``join``, ``lstrip``, ``partition``, ``replace``, ``rpartition``, ``rsplit``, ``rstrip``, ``split``, ``splitlines``, ``strip``, ``translate``\n",
    "   - testing: ``isalnum``, ``isalpha``, ``isdecimal``, ``isdigit``, ``isidentifier``, ``islower``, ``isnumeric``, ``isprintable``, ``isspace``, ``istitle``, ``isupper``\n",
    "   \n",
    "- in many cases the names are quite suggestive to guess what they mean\n",
    "- full details are available at <a href=\"https://docs.python.org/3.6/library/stdtypes.html#string-methods\" target=\"_blank\">https://docs.python.org/3.6/library/stdtypes.html#string-methods</a>"
   ]
  },
  {
   "cell_type": "markdown",
   "metadata": {
    "slideshow": {
     "slide_type": "subslide"
    }
   },
   "source": [
    "# Example of how *find* is used"
   ]
  },
  {
   "cell_type": "code",
   "execution_count": 9,
   "metadata": {
    "slideshow": {
     "slide_type": "fragment"
    }
   },
   "outputs": [
    {
     "name": "stdout",
     "output_type": "stream",
     "text": [
      "Help on method_descriptor:\n",
      "\n",
      "find(...)\n",
      "    S.find(sub[, start[, end]]) -> int\n",
      "    \n",
      "    Return the lowest index in S where substring sub is found,\n",
      "    such that sub is contained within S[start:end].  Optional\n",
      "    arguments start and end are interpreted as in slice notation.\n",
      "    \n",
      "    Return -1 on failure.\n",
      "\n"
     ]
    }
   ],
   "source": [
    "help(str.find)"
   ]
  },
  {
   "cell_type": "code",
   "execution_count": 11,
   "metadata": {
    "slideshow": {
     "slide_type": "fragment"
    }
   },
   "outputs": [
    {
     "data": {
      "text/plain": [
       "10"
      ]
     },
     "execution_count": 11,
     "metadata": {},
     "output_type": "execute_result"
    }
   ],
   "source": [
    "line = \"this is a test line\"\n",
    "line.find(\"test\")"
   ]
  },
  {
   "cell_type": "markdown",
   "metadata": {
    "slideshow": {
     "slide_type": "fragment"
    }
   },
   "source": [
    "**Note**: counting in strings (and other sequences) starts at **0**"
   ]
  },
  {
   "cell_type": "markdown",
   "metadata": {
    "slideshow": {
     "slide_type": "slide"
    }
   },
   "source": [
    "# Exercise\n",
    "\n",
    "- look at various methods related to strings. Understand what they are doing. Are any of them potentially useful for your work?"
   ]
  },
  {
   "cell_type": "markdown",
   "metadata": {
    "slideshow": {
     "slide_type": "slide"
    }
   },
   "source": [
    "# Further readings\n",
    "\n",
    "- Variables and Data types: <a href=\"https://www.programiz.com/python-programming/variables-datatypes\" target=\"_blank\">https://www.programiz.com/python-programming/variables-datatypes</a>\n",
    "\n",
    "- Variables: <a href=\"http://www.w3resource.com/python/python-variable.php\" target=\"_blank\">http://www.w3resource.com/python/python-variable.php</a>\n",
    "\n",
    "- Try examples from <a href=\"https://en.wikibooks.org/wiki/Non-Programmer%27s_Tutorial_for_Python_3/Hello,_World\" target=\"_blank\">https://en.wikibooks.org/wiki/Non-Programmer%27s_Tutorial_for_Python_3/Hello,_World</a> and <a href=\"https://en.wikibooks.org/wiki/Non-Programmer%27s_Tutorial_for_Python_3/Who_Goes_There%3F\" target=\"_blank\">https://en.wikibooks.org/wiki/Non-Programmer%27s_Tutorial_for_Python_3/Who_Goes_There%3F</a>\n",
    "\n",
    "- Read Chapter 2 of *Python Programming for the Absolute Beginner* by Michael Dawson\n",
    "\n"
   ]
  },
  {
   "cell_type": "raw",
   "metadata": {
    "slideshow": {
     "slide_type": "slide"
    }
   },
   "source": [
    "<a rel=\"license\" href=\"http://creativecommons.org/licenses/by-sa/4.0/\"><img alt=\"Creative Commons Licence\" style=\"border-width:0\" src=\"https://i.creativecommons.org/l/by-sa/4.0/88x31.png\" /></a><br /><span xmlns:dct=\"http://purl.org/dc/terms/\" property=\"dct:title\">Python programming for linguists</span> by <a xmlns:cc=\"http://creativecommons.org/ns#\" href=\"http://dinel.org.uk\" property=\"cc:attributionName\" rel=\"cc:attributionURL\">Constantin Orasan</a> is licensed under a <a rel=\"license\" href=\"http://creativecommons.org/licenses/by-sa/4.0/\">Creative Commons Attribution-ShareAlike 4.0 International License</a>.<br />Based on a work at <a xmlns:dct=\"http://purl.org/dc/terms/\" href=\"https://github.com/dinel/PythonForLinguists\" rel=\"dct:source\">https://github.com/dinel/PythonForLinguists</a>."
   ]
  }
 ],
 "metadata": {
  "celltoolbar": "Slideshow",
  "kernelspec": {
   "display_name": "Python 3",
   "language": "python",
   "name": "python3"
  },
  "language_info": {
   "codemirror_mode": {
    "name": "ipython",
    "version": 3
   },
   "file_extension": ".py",
   "mimetype": "text/x-python",
   "name": "python",
   "nbconvert_exporter": "python",
   "pygments_lexer": "ipython3",
   "version": "3.6.2"
  }
 },
 "nbformat": 4,
 "nbformat_minor": 2
}
