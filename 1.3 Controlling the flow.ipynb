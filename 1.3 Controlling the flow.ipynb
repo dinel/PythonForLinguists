{
 "cells": [
  {
   "cell_type": "code",
   "execution_count": 4,
   "metadata": {
    "slideshow": {
     "slide_type": "skip"
    }
   },
   "outputs": [
    {
     "name": "stdout",
     "output_type": "stream",
     "text": [
      "Exception reporting mode: Context\n",
      "Doctest mode is: OFF\n"
     ]
    }
   ],
   "source": [
    "# stuff that are needed to get the output pretty\n",
    "# but not to be included in the slideshow\n",
    "%doctest_mode\n",
    "from IPython.display import IFrame"
   ]
  },
  {
   "cell_type": "markdown",
   "metadata": {
    "collapsed": true,
    "slideshow": {
     "slide_type": "slide"
    }
   },
   "source": [
    "# Controlling the flow of the program"
   ]
  },
  {
   "cell_type": "markdown",
   "metadata": {
    "slideshow": {
     "slide_type": "slide"
    }
   },
   "source": [
    "# Indentation in python\n",
    "\n",
    "- Python uses indentation to delimit blocks\n",
    "- A block groups together statements that are executed together\n",
    "- Python does not impose the amount of indentation for a block \n",
    "- Try not to mix spaces and tabs (recommended to use only spaces). Pay particular attention when you copy code from some other source (e.g. Internet)\n",
    "- Set your IDE to expand to spaces\n",
    "- Makes reading the code easier and it is not optional like in other languages"
   ]
  },
  {
   "cell_type": "markdown",
   "metadata": {
    "slideshow": {
     "slide_type": "slide"
    }
   },
   "source": [
    "# For loops\n",
    "\n",
    "- repeats a block for each element in a sequence\n",
    "\n",
    "```python\n",
    "for variable in sequence:\n",
    "    <block>\n",
    "```\n",
    "\n",
    "- strings are sequences of characters so we can iterate through a string\n",
    "\n",
    "```python\n",
    "word=\"string\"\n",
    "for letter in word:\n",
    "    print(letter)\n",
    "```\n",
    "\n",
    "See how this program runs at <a href=\"https://goo.gl/ojM5ka\" target=\"_blank\">https://goo.gl/ojM5ka</a>\n",
    "\n"
   ]
  },
  {
   "cell_type": "code",
   "execution_count": 5,
   "metadata": {
    "collapsed": true,
    "slideshow": {
     "slide_type": "skip"
    }
   },
   "outputs": [],
   "source": [
    "code_for = \"http://pythontutor.com/iframe-embed.html#code=%23%20demonstrate%20how%20for%20loops%20work%0Aword%20%3D%20%22string%22%0Afor%20letter%20in%20word%3A%0A%20%20%20%20print%28letter%29&codeDivHeight=400&codeDivWidth=350&cumulative=false&curInstr=0&heapPrimitives=false&origin=opt-frontend.js&py=3&rawInputLstJSON=%5B%5D&textReferences=false\""
   ]
  },
  {
   "cell_type": "code",
   "execution_count": 6,
   "metadata": {
    "slideshow": {
     "slide_type": "subslide"
    }
   },
   "outputs": [
    {
     "data": {
      "text/html": [
       "\n",
       "        <iframe\n",
       "            width=\"800\"\n",
       "            height=\"400\"\n",
       "            src=\"http://pythontutor.com/iframe-embed.html#code=%23%20demonstrate%20how%20for%20loops%20work%0Aword%20%3D%20%22string%22%0Afor%20letter%20in%20word%3A%0A%20%20%20%20print%28letter%29&codeDivHeight=400&codeDivWidth=350&cumulative=false&curInstr=0&heapPrimitives=false&origin=opt-frontend.js&py=3&rawInputLstJSON=%5B%5D&textReferences=false\"\n",
       "            frameborder=\"0\"\n",
       "            allowfullscreen\n",
       "        ></iframe>\n",
       "        "
      ],
      "text/plain": [
       "<IPython.lib.display.IFrame at 0x7f8e2447eb38>"
      ]
     },
     "execution_count": 6,
     "metadata": {},
     "output_type": "execute_result"
    }
   ],
   "source": [
    "IFrame(code_for, 800, 400)"
   ]
  },
  {
   "cell_type": "markdown",
   "metadata": {
    "slideshow": {
     "slide_type": "subslide"
    }
   },
   "source": [
    "# Iterating over numerical values\n",
    "\n",
    "- in some cases it is necessary to iterate over numerical values\n",
    "- ``range(n)`` will generate all the numbers from **0** to **n-1**\n",
    "- more about ranges later on"
   ]
  },
  {
   "cell_type": "code",
   "execution_count": 9,
   "metadata": {
    "slideshow": {
     "slide_type": "fragment"
    }
   },
   "outputs": [
    {
     "name": "stdout",
     "output_type": "stream",
     "text": [
      "i=0\n",
      "i=1\n",
      "i=2\n",
      "i=3\n",
      "i=4\n"
     ]
    }
   ],
   "source": [
    "for i in range(5):\n",
    "    print(\"i=\", i, sep=\"\")"
   ]
  },
  {
   "cell_type": "markdown",
   "metadata": {
    "slideshow": {
     "slide_type": "slide"
    }
   },
   "source": [
    "# while structure\n",
    "\n",
    "- repeats a block as long as a condition is true\n",
    "\n",
    "```python\n",
    "while <condition>:\n",
    "    <block>\n",
    "```\n",
    "\n",
    "- at times a *sentry variable* is used in the condition\n",
    "- the sentry variable needs to be initialised before it is used\n",
    "\n",
    "```python\n",
    "answer = \"\"\n",
    "while answer != \"y\":\n",
    "    answer = input(\"Exit (y/n):\")\n",
    "```\n",
    "\n",
    "Test the code at <a href=\"https://goo.gl/THn9T1\" target=\"_blank\">https://goo.gl/THn9T1</a>"
   ]
  },
  {
   "cell_type": "code",
   "execution_count": 7,
   "metadata": {
    "collapsed": true,
    "slideshow": {
     "slide_type": "skip"
    }
   },
   "outputs": [],
   "source": [
    "code_while=\"http://pythontutor.com/iframe-embed.html#code=%23%20example%20of%20while%20structure%0Aanswer%20%3D%20%22%22%0Awhile%20answer%20!%3D%20%22y%22%3A%0A%20%20%20%20answer%20%3D%20input%28%22Exit%20%28y/n%29%3A%22%29%0A%20%20%20%20&codeDivHeight=400&codeDivWidth=350&cumulative=false&curInstr=0&heapPrimitives=false&origin=opt-frontend.js&py=3&rawInputLstJSON=%5B%5D&textReferences=false\""
   ]
  },
  {
   "cell_type": "code",
   "execution_count": 8,
   "metadata": {
    "slideshow": {
     "slide_type": "subslide"
    }
   },
   "outputs": [
    {
     "data": {
      "text/html": [
       "\n",
       "        <iframe\n",
       "            width=\"800\"\n",
       "            height=\"400\"\n",
       "            src=\"http://pythontutor.com/iframe-embed.html#code=%23%20example%20of%20while%20structure%0Aanswer%20%3D%20%22%22%0Awhile%20answer%20!%3D%20%22y%22%3A%0A%20%20%20%20answer%20%3D%20input%28%22Exit%20%28y/n%29%3A%22%29%0A%20%20%20%20&codeDivHeight=400&codeDivWidth=350&cumulative=false&curInstr=0&heapPrimitives=false&origin=opt-frontend.js&py=3&rawInputLstJSON=%5B%5D&textReferences=false\"\n",
       "            frameborder=\"0\"\n",
       "            allowfullscreen\n",
       "        ></iframe>\n",
       "        "
      ],
      "text/plain": [
       "<IPython.lib.display.IFrame at 0x7f8e2447e3c8>"
      ]
     },
     "execution_count": 8,
     "metadata": {},
     "output_type": "execute_result"
    }
   ],
   "source": [
    "IFrame(code_while, 800, 400)"
   ]
  },
  {
   "cell_type": "markdown",
   "metadata": {
    "slideshow": {
     "slide_type": "slide"
    }
   },
   "source": [
    "# for vs while\n",
    "\n",
    "- Use ``for`` when you know how many times you need to execute something\n",
    "- Use ``while`` when you need to execute something a number of times but you do not know apriori\n",
    "\n",
    "Example: for how long to take a shower?\n",
    "- for 10 min\n",
    "- Until clean/while not clean"
   ]
  },
  {
   "cell_type": "markdown",
   "metadata": {
    "slideshow": {
     "slide_type": "slide"
    }
   },
   "source": [
    "# Exercise\n",
    "\n",
    "Write a program that draws a ladder. Analyse the problem. What decisions do you need to take?"
   ]
  },
  {
   "cell_type": "markdown",
   "metadata": {
    "slideshow": {
     "slide_type": "slide"
    }
   },
   "source": [
    "# If structure\n",
    "\n",
    "- branching is fundamental for programming as it allows to control what happens in certain conditions\n",
    "- python uses ``if-elif-else`` structure\n",
    "\n",
    "```python\n",
    "if <condition 1>:\n",
    "    <block 1>\n",
    "elif <condition 2>:\n",
    "    <block 2>\n",
    "elif <condition 3>:\n",
    "    <block 3>\n",
    "    \n",
    "elif <condition N>:\n",
    "    <block N>\n",
    "else:\n",
    "    <block else>\n",
    "```\n"
   ]
  },
  {
   "cell_type": "markdown",
   "metadata": {
    "slideshow": {
     "slide_type": "slide"
    }
   },
   "source": [
    "# Controlling for and while\n",
    "\n",
    "- it is possible to check what happens inside a look using ``break`` and ``continue``\n",
    "- ``break`` interrupts the execution of a block inside the loop and continues the execution after the loop\n",
    "- ``continue`` interrupts the execution of a block inside the loop and continues the execution with the first line of the block\n",
    "- ``break`` can prove very useful if the exit condition for while is very complicated"
   ]
  },
  {
   "cell_type": "markdown",
   "metadata": {
    "slideshow": {
     "slide_type": "fragment"
    }
   },
   "source": [
    "```python\n",
    "\n",
    "while True:\n",
    "    # do something\n",
    "    if condition_1: break\n",
    "    if condition_2: break\n",
    "\n",
    "```\n",
    "\n",
    "A video which discusses the ``while True`` infinite loop: <a href=\"https://www.youtube.com/watch?v=ez-qYc0NlMk\" target=\"_blank\">https://www.youtube.com/watch?v=ez-qYc0NlMk</a>"
   ]
  },
  {
   "cell_type": "markdown",
   "metadata": {
    "slideshow": {
     "slide_type": "slide"
    }
   },
   "source": [
    "# Trying out\n",
    "\n",
    "Write a program which asks users to enter numbers. Add together all the odd numbers. When the user enters 0 print the total and finish the loop. \n",
    "\n",
    "Write a program which asks the user to enter a verb and displays the geround form of the verb.\n",
    "\n",
    "Read a string from the standard input. Print all the groups of consecutive 2 characters which contain the same letter. (e.g. for Mississippi display ss, ss, pp)"
   ]
  },
  {
   "cell_type": "markdown",
   "metadata": {
    "slideshow": {
     "slide_type": "slide"
    }
   },
   "source": [
    "# Further reading\n",
    "\n",
    "How to make you loops more pythonic: <a href=\"https://dbader.org/blog/pythonic-loops\" target=\"_blank\">https://dbader.org/blog/pythonic-loops</a> (a bit more advanced)\n",
    "\n",
    "If structure <a href=\"http://www.python-course.eu/python3_conditional_statements.php\" target=\"_blank\">http://www.python-course.eu/python3_conditional_statements.php</a>\n",
    "\n",
    "While loops <a href=\"http://www.python-course.eu/python3_loops.php\" target=\"_blank\">http://www.python-course.eu/python3_loops.php</a>\n",
    "\n",
    "For loops <a href=\"http://www.python-course.eu/python3_for_loop.php\" target=\"_blank\">http://www.python-course.eu/python3_for_loop.php</a>\n",
    "\n",
    "Read Chapters 3 and 4 of *Python Programming for the Absolute Beginner* by Michael Dawson"
   ]
  },
  {
   "cell_type": "raw",
   "metadata": {
    "slideshow": {
     "slide_type": "slide"
    }
   },
   "source": [
    "<a rel=\"license\" href=\"http://creativecommons.org/licenses/by-sa/4.0/\"><img alt=\"Creative Commons Licence\" style=\"border-width:0\" src=\"https://i.creativecommons.org/l/by-sa/4.0/88x31.png\" /></a><br /><span xmlns:dct=\"http://purl.org/dc/terms/\" property=\"dct:title\">Python programming for linguists</span> by <a xmlns:cc=\"http://creativecommons.org/ns#\" href=\"http://dinel.org.uk\" property=\"cc:attributionName\" rel=\"cc:attributionURL\">Constantin Orasan</a> is licensed under a <a rel=\"license\" href=\"http://creativecommons.org/licenses/by-sa/4.0/\">Creative Commons Attribution-ShareAlike 4.0 International License</a>.<br />Based on a work at <a xmlns:dct=\"http://purl.org/dc/terms/\" href=\"https://github.com/dinel/PythonForLinguists\" rel=\"dct:source\">https://github.com/dinel/PythonForLinguists</a>."
   ]
  }
 ],
 "metadata": {
  "celltoolbar": "Slideshow",
  "kernelspec": {
   "display_name": "Python 3",
   "language": "python",
   "name": "python3"
  },
  "language_info": {
   "codemirror_mode": {
    "name": "ipython",
    "version": 3
   },
   "file_extension": ".py",
   "mimetype": "text/x-python",
   "name": "python",
   "nbconvert_exporter": "python",
   "pygments_lexer": "ipython3",
   "version": "3.6.2"
  }
 },
 "nbformat": 4,
 "nbformat_minor": 2
}
