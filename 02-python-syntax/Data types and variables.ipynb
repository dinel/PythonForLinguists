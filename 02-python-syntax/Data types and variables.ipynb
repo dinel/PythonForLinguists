{
 "cells": [
  {
   "cell_type": "code",
   "execution_count": 2,
   "metadata": {
    "slideshow": {
     "slide_type": "skip"
    }
   },
   "outputs": [
    {
     "name": "stdout",
     "output_type": "stream",
     "text": [
      "Exception reporting mode: Context\n",
      "Doctest mode is: OFF\n"
     ]
    }
   ],
   "source": [
    "# stuff that are needed to get the output pretty\n",
    "# but not to be included in the slideshow\n",
    "%doctest_mode\n",
    "from IPython.display import IFrame"
   ]
  },
  {
   "cell_type": "markdown",
   "metadata": {
    "slideshow": {
     "slide_type": "slide"
    }
   },
   "source": [
    "# Data types and variables in Python"
   ]
  },
  {
   "cell_type": "markdown",
   "metadata": {
    "slideshow": {
     "slide_type": "slide"
    }
   },
   "source": [
    "# Types in python\n",
    "\n",
    "- a type represents the kind of value we are dealing with and determines how the value can be used (i.e. what operations can be applied to the value)\n",
    "- types are similar to part of speech in natural language (e.g. what operations can you apply to a verb? what operations can you apply to a noun? how are they different?)\n",
    "\n",
    "`type` built-in function gives the type of \"something\"\n",
    "\n",
    "`isinstance` built-in function which tests where \"something\" is of a given type\n"
   ]
  },
  {
   "cell_type": "markdown",
   "metadata": {
    "slideshow": {
     "slide_type": "subslide"
    }
   },
   "source": [
    "# What operations can we apply to words?\n",
    "\n",
    "i.e. How we can generate different morphological forms and combine with other words?\n",
    "\n",
    "- computer, \n",
    "- happy, \n",
    "- marry, "
   ]
  },
  {
   "cell_type": "markdown",
   "metadata": {
    "slideshow": {
     "slide_type": "subslide"
    }
   },
   "source": [
    "# What operations can we apply to words?\n",
    "\n",
    "i.e. How we can generate different morphological forms and combine with other words?\n",
    "\n",
    "- computer, computers, new computer, computing, *computered?*, *computerly?*\n",
    "- happy, happiness, happily, *happied?*\n",
    "- marry, married, marrying, happily married, had married, *had marry*, *happiness married?*\n",
    "\n",
    "Exactly the same way we can apply only certain operations to data types and we can combine only some data types."
   ]
  },
  {
   "cell_type": "markdown",
   "metadata": {
    "slideshow": {
     "slide_type": "subslide"
    }
   },
   "source": [
    "# Built-in types in Python\n",
    "\n",
    "- Numeric Types: *int*, *float*, complex\n",
    "- Sequence Types: *list*, *tuple*, range\n",
    "- Text Sequence Type: *strings*\n",
    "- Binary Sequence Types: bytes, bytearray, memoryview\n",
    "- Set Types: *set*, frozenset\n",
    "- Mapping Types: *dictionaries*\n",
    "- Other Build-in Types: *functions*, classes, etc. \n",
    "\n",
    "Very detailed information about built-in types from the official documentation <a href=\"https://docs.python.org/3.7/library/stdtypes.html\" target=\"_blank\">https://docs.python.org/3.7/library/stdtypes.html</a>\n",
    "\n",
    "In this course we are going to learn more about the types in *italics*."
   ]
  },
  {
   "cell_type": "markdown",
   "metadata": {
    "slideshow": {
     "slide_type": "subslide"
    }
   },
   "source": [
    "# Examples of how type() works"
   ]
  },
  {
   "cell_type": "code",
   "execution_count": 3,
   "metadata": {
    "slideshow": {
     "slide_type": "fragment"
    }
   },
   "outputs": [
    {
     "data": {
      "text/plain": [
       "int"
      ]
     },
     "execution_count": 3,
     "metadata": {},
     "output_type": "execute_result"
    }
   ],
   "source": [
    "# check the type of a number\n",
    "type(57)"
   ]
  },
  {
   "cell_type": "code",
   "execution_count": 4,
   "metadata": {
    "slideshow": {
     "slide_type": "fragment"
    }
   },
   "outputs": [
    {
     "data": {
      "text/plain": [
       "float"
      ]
     },
     "execution_count": 4,
     "metadata": {},
     "output_type": "execute_result"
    }
   ],
   "source": [
    "type(1.1)"
   ]
  },
  {
   "cell_type": "code",
   "execution_count": 5,
   "metadata": {
    "slideshow": {
     "slide_type": "fragment"
    }
   },
   "outputs": [
    {
     "data": {
      "text/plain": [
       "str"
      ]
     },
     "execution_count": 5,
     "metadata": {},
     "output_type": "execute_result"
    }
   ],
   "source": [
    "# check the type of a string\n",
    "type(\"this is a string because it has quotes\")"
   ]
  },
  {
   "cell_type": "code",
   "execution_count": 6,
   "metadata": {
    "slideshow": {
     "slide_type": "fragment"
    }
   },
   "outputs": [
    {
     "data": {
      "text/plain": [
       "module"
      ]
     },
     "execution_count": 6,
     "metadata": {},
     "output_type": "execute_result"
    }
   ],
   "source": [
    "# lets try a module\n",
    "import turtle\n",
    "type(turtle)"
   ]
  },
  {
   "cell_type": "markdown",
   "metadata": {
    "slideshow": {
     "slide_type": "slide"
    }
   },
   "source": [
    "# How can we write a program to greet the user they they start the computer?\n",
    "\n",
    "- think of the steps required\n",
    "- how can we implement them using our current knowledge of python"
   ]
  },
  {
   "cell_type": "markdown",
   "metadata": {
    "slideshow": {
     "slide_type": "fragment"
    }
   },
   "source": [
    "1. ask the user for the name \n",
    "2. print the greeting message followed by the name of the person"
   ]
  },
  {
   "cell_type": "markdown",
   "metadata": {
    "slideshow": {
     "slide_type": "fragment"
    }
   },
   "source": [
    "**Problem**: how can the computer remember the name between steps 1 and 2"
   ]
  },
  {
   "cell_type": "markdown",
   "metadata": {
    "slideshow": {
     "slide_type": "subslide"
    }
   },
   "source": [
    "# Solution which does not need the computer to remember"
   ]
  },
  {
   "cell_type": "code",
   "execution_count": 7,
   "metadata": {
    "slideshow": {
     "slide_type": "fragment"
    }
   },
   "outputs": [
    {
     "name": "stdout",
     "output_type": "stream",
     "text": [
      "Please enter your name:Constantin\n",
      "Nice to meet you Constantin\n"
     ]
    }
   ],
   "source": [
    "print(\"Nice to meet you\", input(\"Please enter your name:\"))"
   ]
  },
  {
   "cell_type": "markdown",
   "metadata": {
    "slideshow": {
     "slide_type": "subslide"
    }
   },
   "source": [
    "# Variables\n",
    "\n",
    "- Variables are used to give names to values (number, characters, strings, etc.) that are used several times in the program\n",
    "- A memory location where a programmer can store a value\n",
    "- The value of a variable can be changed\n",
    "- The name of a variable can contain letters, numbers and _\n",
    "- The name of a variable starts with a letter or _\n",
    "- It is case sensitive (``Test`` and ``test`` are different variables)"
   ]
  },
  {
   "cell_type": "markdown",
   "metadata": {
    "slideshow": {
     "slide_type": "subslide"
    }
   },
   "source": [
    "# Variables advice\n",
    "\n",
    "- Use meaningful variable names `x`, `a`, `b` not very meaningful, whereas `population_size` or `PopulationSize` much better\n",
    "- Don't overdo it when you name variables: e.g. `numberOfWordsFromTheCorpusUsedInExperiment`\n",
    "- But a good IDE will help you ensure you do not mistype the name of a variable by offering autocomplete (e.g. TAB in Spyder).\n",
    "- Use short names for variables that are used only locally (e.g. in loops or temporary variables in functions)\n",
    "- Variable in python do not need to be declared, **but a variable cannot be used in the right hand side of an expression unless it was assigned a value**\n",
    "\n",
    "Read more at: <a href=\"http://www.developer.com/lang/other/article.php/626321/Learn-to-Program-Using-Python-Variables-and-Identifiers.htm\" target=\"_blank\">http://www.developer.com/lang/other/article.php/626321/Learn-to-Program-Using-Python-Variables-and-Identifiers.htm</a>\n"
   ]
  },
  {
   "cell_type": "markdown",
   "metadata": {
    "slideshow": {
     "slide_type": "subslide"
    }
   },
   "source": [
    "# Examples how to use variables"
   ]
  },
  {
   "cell_type": "code",
   "execution_count": 8,
   "metadata": {
    "slideshow": {
     "slide_type": "fragment"
    }
   },
   "outputs": [],
   "source": [
    "# give a value to the number_of_words \n",
    "number_of_words = 1000"
   ]
  },
  {
   "cell_type": "code",
   "execution_count": 9,
   "metadata": {
    "slideshow": {
     "slide_type": "fragment"
    }
   },
   "outputs": [
    {
     "name": "stdout",
     "output_type": "stream",
     "text": [
      "The total number of words is 1000\n"
     ]
    }
   ],
   "source": [
    "# access the value of variable number_of_words\n",
    "print(\"The total number of words is\", number_of_words)"
   ]
  },
  {
   "cell_type": "code",
   "execution_count": 10,
   "metadata": {
    "slideshow": {
     "slide_type": "fragment"
    }
   },
   "outputs": [
    {
     "ename": "NameError",
     "evalue": "name 'number_of_texts' is not defined",
     "output_type": "error",
     "traceback": [
      "\u001b[0;31m---------------------------------------------------------------------------\u001b[0m",
      "\u001b[0;31mNameError\u001b[0m                                 Traceback (most recent call last)",
      "\u001b[0;32m/tmp/ipykernel_19016/3888329460.py\u001b[0m in \u001b[0;36m<module>\u001b[0;34m\u001b[0m\n\u001b[1;32m      1\u001b[0m \u001b[0;31m# error if we try to access the value of a variable before it is initialised\u001b[0m\u001b[0;34m\u001b[0m\u001b[0;34m\u001b[0m\u001b[0;34m\u001b[0m\u001b[0m\n\u001b[0;32m----> 2\u001b[0;31m \u001b[0maverage_words_per_text\u001b[0m \u001b[0;34m=\u001b[0m \u001b[0mnumber_of_words\u001b[0m \u001b[0;34m/\u001b[0m \u001b[0mnumber_of_texts\u001b[0m\u001b[0;34m\u001b[0m\u001b[0;34m\u001b[0m\u001b[0m\n\u001b[0m",
      "\u001b[0;31mNameError\u001b[0m: name 'number_of_texts' is not defined"
     ]
    }
   ],
   "source": [
    "# error if we try to access the value of a variable before it is initialised\n",
    "average_words_per_text = number_of_words / number_of_texts"
   ]
  },
  {
   "cell_type": "markdown",
   "metadata": {
    "slideshow": {
     "slide_type": "subslide"
    }
   },
   "source": [
    "# Multiple assignment\n",
    "\n",
    "We can have multiple assignments in the same statement"
   ]
  },
  {
   "cell_type": "code",
   "execution_count": 11,
   "metadata": {
    "slideshow": {
     "slide_type": "fragment"
    }
   },
   "outputs": [
    {
     "name": "stdout",
     "output_type": "stream",
     "text": [
      "a=1 b=1 c=1\n"
     ]
    }
   ],
   "source": [
    "# we can assign the same value to more than one variable\n",
    "a = b = c = 1\n",
    "print(\"a=\", a, \" b=\", b, \" c=\", c, sep=\"\")"
   ]
  },
  {
   "cell_type": "code",
   "execution_count": 12,
   "metadata": {
    "slideshow": {
     "slide_type": "fragment"
    }
   },
   "outputs": [
    {
     "name": "stdout",
     "output_type": "stream",
     "text": [
      "a=1 b=2 c=3\n"
     ]
    }
   ],
   "source": [
    "# we can assign different values to different variables \n",
    "# by separating these values using comma (i.e. using tuples)\n",
    "a, b, c = 1, 2, 3\n",
    "print(\"a=\", a, \" b=\", b, \" c=\", c, sep=\"\")"
   ]
  },
  {
   "cell_type": "markdown",
   "metadata": {
    "slideshow": {
     "slide_type": "subslide"
    }
   },
   "source": [
    "# Python is not strongly typed\n",
    "\n",
    "- There is no need to define the type of a variable as it is determined from the value\n",
    "- It is possible to change the type of a variable in the same program\n",
    "- but be careful not to introduce bugs"
   ]
  },
  {
   "cell_type": "code",
   "execution_count": 13,
   "metadata": {
    "slideshow": {
     "slide_type": "fragment"
    }
   },
   "outputs": [
    {
     "data": {
      "text/plain": [
       "int"
      ]
     },
     "execution_count": 13,
     "metadata": {},
     "output_type": "execute_result"
    }
   ],
   "source": [
    "x = 1\n",
    "type(x)"
   ]
  },
  {
   "cell_type": "code",
   "execution_count": 14,
   "metadata": {
    "slideshow": {
     "slide_type": "fragment"
    }
   },
   "outputs": [
    {
     "data": {
      "text/plain": [
       "str"
      ]
     },
     "execution_count": 14,
     "metadata": {},
     "output_type": "execute_result"
    }
   ],
   "source": [
    "x = \"string\"\n",
    "type(x)"
   ]
  },
  {
   "cell_type": "markdown",
   "metadata": {
    "slideshow": {
     "slide_type": "subslide"
    }
   },
   "source": [
    "# How do we swap the values of two variables?\n",
    "\n",
    "`a = 1` and `b = 2`\n",
    "\n",
    "Write the lines of code which will make `a = 2` and `b = 1`, without making the direct assignment\n",
    "\n",
    "Visualise the solution in PythonTutor at <a href=\"https://goo.gl/8RhmsN\" target=\"_blank\">https://goo.gl/8RhmsN</a>"
   ]
  },
  {
   "cell_type": "code",
   "execution_count": 15,
   "metadata": {
    "slideshow": {
     "slide_type": "skip"
    }
   },
   "outputs": [],
   "source": [
    "swap_vars_example = \"http://pythontutor.com/iframe-embed.html\" + \\\n",
    "                    \"#code=%23%20how%20to%20swap%20the%20values\" + \\\n",
    "                    \"%20of%20two%20variables%0Aa%20%3D%20int%28\" + \\\n",
    "                    \"input%28%22Enter%20the%20first%20number%3A\" + \\\n",
    "                    \"%22%29%29%0Ab%20%3D%20int%28input%28%22Enter\" + \\\n",
    "                    \"%20the%20second%20number%3A%22%29%29%0Aprint%28\" + \\\n",
    "                    \"%22Before%20swap%3A%20a%3D%22,%20a,%20%22%20b%3D\" + \\\n",
    "                    \"%22,%20b,%20sep%3D%22%22%29%0Atmp%20%3D%20a%0Aa%20\" + \\\n",
    "                    \"%3D%20b%0Ab%20%3D%20tmp%0Aprint%28%22After%20swap\" + \\\n",
    "                    \"%20a%3D%22,%20a,%20%22%20b%3D%22,%20b,%20sep%3D%22\" + \\\n",
    "                    \"%22%29&codeDivHeight=400&codeDivWidth=550&cumulative\" + \\\n",
    "                    \"=false&curInstr=0&heapPrimitives=false&origin=opt-\" + \\\n",
    "                    \"frontend.js&py=3&rawInputLstJSON=%5B%221%22,%222%22\" + \\\n",
    "                    \"%5D&textReferences=false\""
   ]
  },
  {
   "cell_type": "code",
   "execution_count": 16,
   "metadata": {
    "slideshow": {
     "slide_type": "subslide"
    }
   },
   "outputs": [
    {
     "data": {
      "text/html": [
       "\n",
       "        <iframe\n",
       "            width=\"1000\"\n",
       "            height=\"500\"\n",
       "            src=\"http://pythontutor.com/iframe-embed.html#code=%23%20how%20to%20swap%20the%20values%20of%20two%20variables%0Aa%20%3D%20int%28input%28%22Enter%20the%20first%20number%3A%22%29%29%0Ab%20%3D%20int%28input%28%22Enter%20the%20second%20number%3A%22%29%29%0Aprint%28%22Before%20swap%3A%20a%3D%22,%20a,%20%22%20b%3D%22,%20b,%20sep%3D%22%22%29%0Atmp%20%3D%20a%0Aa%20%3D%20b%0Ab%20%3D%20tmp%0Aprint%28%22After%20swap%20a%3D%22,%20a,%20%22%20b%3D%22,%20b,%20sep%3D%22%22%29&codeDivHeight=400&codeDivWidth=550&cumulative=false&curInstr=0&heapPrimitives=false&origin=opt-frontend.js&py=3&rawInputLstJSON=%5B%221%22,%222%22%5D&textReferences=false\"\n",
       "            frameborder=\"0\"\n",
       "            allowfullscreen\n",
       "        ></iframe>\n",
       "        "
      ],
      "text/plain": [
       "<IPython.lib.display.IFrame at 0x7f4578109ed0>"
      ]
     },
     "execution_count": 16,
     "metadata": {},
     "output_type": "execute_result"
    }
   ],
   "source": [
    "# if you cannot see the output of PythonTutor below this is due to \n",
    "# your browser's setting. Use the link in the previous slide\n",
    "IFrame(swap_vars_example, 1000, 500)"
   ]
  },
  {
   "cell_type": "markdown",
   "metadata": {
    "slideshow": {
     "slide_type": "subslide"
    }
   },
   "source": [
    "# Swap variables, pythonic solution\n",
    "\n",
    "```a, b = b, a```"
   ]
  },
  {
   "cell_type": "code",
   "execution_count": 17,
   "metadata": {
    "slideshow": {
     "slide_type": "fragment"
    }
   },
   "outputs": [
    {
     "name": "stdout",
     "output_type": "stream",
     "text": [
      "Before swap: a=1 b=2\n"
     ]
    }
   ],
   "source": [
    "a, b = 1, 2\n",
    "print(\"Before swap: a=\", a, \" b=\", b, sep=\"\")"
   ]
  },
  {
   "cell_type": "code",
   "execution_count": 18,
   "metadata": {
    "slideshow": {
     "slide_type": "fragment"
    }
   },
   "outputs": [],
   "source": [
    "a, b = b, a"
   ]
  },
  {
   "cell_type": "code",
   "execution_count": 19,
   "metadata": {
    "slideshow": {
     "slide_type": "fragment"
    }
   },
   "outputs": [
    {
     "name": "stdout",
     "output_type": "stream",
     "text": [
      "After swap: a=2 b=1\n"
     ]
    }
   ],
   "source": [
    "print(\"After swap: a=\", a, \" b=\", b, sep=\"\")"
   ]
  },
  {
   "cell_type": "markdown",
   "metadata": {
    "slideshow": {
     "slide_type": "slide"
    }
   },
   "source": [
    "# Operations with numerical values\n",
    "\n",
    "`x + y`\tsum of x and y\n",
    "\n",
    "`x - y`\tdifference of x and y\n",
    "\n",
    "`x * y`\tproduct of x and y\n",
    "\n",
    "`x / y`\tquotient of x and y\n",
    "\n",
    "`x // y` floored quotient of x and y\n",
    "\n",
    "`x % y`\tremainder of x / y\n",
    "\n",
    "`x ** y` x at power y"
   ]
  },
  {
   "cell_type": "code",
   "execution_count": 20,
   "metadata": {
    "slideshow": {
     "slide_type": "subslide"
    }
   },
   "outputs": [],
   "source": [
    "# Examples of operations\n",
    "\n",
    "x = 5\n",
    "y = 2"
   ]
  },
  {
   "cell_type": "code",
   "execution_count": 21,
   "metadata": {
    "slideshow": {
     "slide_type": "fragment"
    }
   },
   "outputs": [
    {
     "name": "stdout",
     "output_type": "stream",
     "text": [
      "x+y=7\n"
     ]
    }
   ],
   "source": [
    "print(\"x+y=\", x+y, sep=\"\")"
   ]
  },
  {
   "cell_type": "code",
   "execution_count": 22,
   "metadata": {
    "slideshow": {
     "slide_type": "fragment"
    }
   },
   "outputs": [
    {
     "name": "stdout",
     "output_type": "stream",
     "text": [
      "x/y=2.5    x//y=2   x%y=1\n"
     ]
    }
   ],
   "source": [
    "print(\"x/y=\", x/y, \"    x//y=\", x//y, \"   x%y=\", x%y, sep=\"\")"
   ]
  },
  {
   "cell_type": "code",
   "execution_count": 23,
   "metadata": {
    "slideshow": {
     "slide_type": "fragment"
    }
   },
   "outputs": [
    {
     "name": "stdout",
     "output_type": "stream",
     "text": [
      "type(x/y)=<class 'float'>    type(x//y)=<class 'int'>   type(x%y)=<class 'int'>\n"
     ]
    }
   ],
   "source": [
    "print(\"type(x/y)=\", type(x/y), \"    type(x//y)=\", type(x//y), \"   type(x%y)=\", type(x%y), sep=\"\")"
   ]
  },
  {
   "cell_type": "code",
   "execution_count": 24,
   "metadata": {
    "slideshow": {
     "slide_type": "fragment"
    }
   },
   "outputs": [
    {
     "name": "stdout",
     "output_type": "stream",
     "text": [
      "x**y=25\n"
     ]
    }
   ],
   "source": [
    "print(\"x**y=\", x**y, sep=\"\")"
   ]
  },
  {
   "cell_type": "markdown",
   "metadata": {
    "slideshow": {
     "slide_type": "subslide"
    }
   },
   "source": [
    "# Augmented assignment operators\n",
    "\n",
    "``a = a + 1`` can be written as ``a += 1`` (**Note**: pay particular attention to where you place the +)"
   ]
  },
  {
   "cell_type": "code",
   "execution_count": 25,
   "metadata": {
    "slideshow": {
     "slide_type": "fragment"
    }
   },
   "outputs": [],
   "source": [
    "a = 10\n",
    "a += 10"
   ]
  },
  {
   "cell_type": "code",
   "execution_count": 26,
   "metadata": {
    "slideshow": {
     "slide_type": "fragment"
    }
   },
   "outputs": [
    {
     "name": "stdout",
     "output_type": "stream",
     "text": [
      "20\n"
     ]
    }
   ],
   "source": [
    "print(a)"
   ]
  },
  {
   "cell_type": "code",
   "execution_count": 27,
   "metadata": {
    "slideshow": {
     "slide_type": "fragment"
    }
   },
   "outputs": [],
   "source": [
    "a =+ 10"
   ]
  },
  {
   "cell_type": "code",
   "execution_count": 28,
   "metadata": {
    "slideshow": {
     "slide_type": "fragment"
    }
   },
   "outputs": [
    {
     "name": "stdout",
     "output_type": "stream",
     "text": [
      "10\n"
     ]
    }
   ],
   "source": [
    "print(a)"
   ]
  },
  {
   "cell_type": "markdown",
   "metadata": {
    "slideshow": {
     "slide_type": "fragment"
    }
   },
   "source": [
    "Other augmented assignment operators are ``-=``, ``*=``, ``/=``, ``%=``"
   ]
  },
  {
   "cell_type": "markdown",
   "metadata": {
    "slideshow": {
     "slide_type": "slide"
    }
   },
   "source": [
    "# Further readings\n",
    "\n",
    "- Variables and Data types: <a href=\"https://www.programiz.com/python-programming/variables-datatypes\" target=\"_blank\">https://www.programiz.com/python-programming/variables-datatypes</a> (discusses data types not covered yet)\n",
    "\n",
    "- Variables: <a href=\"http://www.w3resource.com/python/python-variable.php\" target=\"_blank\">http://www.w3resource.com/python/python-variable.php</a>\n",
    "\n",
    "- Try examples from <a href=\"https://en.wikibooks.org/wiki/Non-Programmer%27s_Tutorial_for_Python_3/Hello,_World\" target=\"_blank\">https://en.wikibooks.org/wiki/Non-Programmer%27s_Tutorial_for_Python_3/Hello,_World</a>\n",
    "\n",
    "- Read a very detailed (basic) discussion about <a href=\"https://realpython.com/python-operators-expressions/\" target=\"_blank\">Operators and Expressions in Python</a>\n",
    "\n",
    "- Read Chapter 2 of *Python Programming for the Absolute Beginner* by Michael Dawson\n",
    "\n"
   ]
  },
  {
   "cell_type": "raw",
   "metadata": {
    "slideshow": {
     "slide_type": "slide"
    }
   },
   "source": [
    "<font color=\"white\"><a rel=\"license\" href=\"http://creativecommons.org/licenses/by-sa/4.0/\"><img alt=\"Creative Commons Licence\" style=\"border-width:0\" src=\"https://i.creativecommons.org/l/by-sa/4.0/88x31.png\" /></a><br /><span xmlns:dct=\"http://purl.org/dc/terms/\" property=\"dct:title\" style=\"font-style: italic\">Python programming for linguists</span> by <a xmlns:cc=\"http://creativecommons.org/ns#\" href=\"https://dinel.org.uk\" property=\"cc:attributionName\" rel=\"cc:attributionURL\" style=\"font-style: italic\">Constantin Orasan</a> is licensed under a <a rel=\"license\" href=\"http://creativecommons.org/licenses/by-sa/4.0/\">Creative Commons Attribution-ShareAlike 4.0 International License</a>.<br />Find more at <a xmlns:dct=\"http://purl.org/dc/terms/\" href=\"https://github.com/dinel/PythonForLinguists\" rel=\"dct:source\">https://github.com/dinel/PythonForLinguists</a>.</font>"
   ]
  }
 ],
 "metadata": {
  "celltoolbar": "Slideshow",
  "kernelspec": {
   "display_name": "Python 3 (ipykernel)",
   "language": "python",
   "name": "python3"
  },
  "language_info": {
   "codemirror_mode": {
    "name": "ipython",
    "version": 3
   },
   "file_extension": ".py",
   "mimetype": "text/x-python",
   "name": "python",
   "nbconvert_exporter": "python",
   "pygments_lexer": "ipython3",
   "version": "3.7.11"
  }
 },
 "nbformat": 4,
 "nbformat_minor": 2
}
