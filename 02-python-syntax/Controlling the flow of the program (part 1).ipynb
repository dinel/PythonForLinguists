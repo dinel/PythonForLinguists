{
 "cells": [
  {
   "cell_type": "code",
   "execution_count": 2,
   "metadata": {
    "slideshow": {
     "slide_type": "skip"
    }
   },
   "outputs": [
    {
     "name": "stdout",
     "output_type": "stream",
     "text": [
      "Exception reporting mode: Context\n",
      "Doctest mode is: OFF\n"
     ]
    }
   ],
   "source": [
    "# stuff that are needed to get the output pretty\n",
    "# but not to be included in the slideshow\n",
    "%doctest_mode\n",
    "from IPython.display import IFrame"
   ]
  },
  {
   "cell_type": "markdown",
   "metadata": {
    "slideshow": {
     "slide_type": "slide"
    }
   },
   "source": [
    "# Controlling the flow of the program (Part 1): branching\n",
    "\n",
    "- computers execute code in order it appears in the program\n",
    "- we need to have a way to control the flow of a program and run different code in different situations\n",
    "- python offer ``if-then-else``, ``for`` and ``while`` (and a few others) for this"
   ]
  },
  {
   "cell_type": "markdown",
   "metadata": {
    "slideshow": {
     "slide_type": "slide"
    }
   },
   "source": [
    "# Indentation in python\n",
    "\n",
    "- Python uses indentation to delimit blocks\n",
    "- A block groups together statements that are executed together\n",
    "- Python does not impose the amount of indentation for a block \n",
    "- Try not to mix spaces and tabs (recommended to use only spaces). Pay particular attention when you copy code from some other source (e.g. Internet)\n",
    "- Set your IDE to expand to spaces\n",
    "- Makes reading the code easier and it is not optional like in other languages"
   ]
  },
  {
   "cell_type": "markdown",
   "metadata": {
    "slideshow": {
     "slide_type": "slide"
    }
   },
   "source": [
    "# If structure\n",
    "\n",
    "- branching is fundamental for programming as it allows to control what happens in certain conditions\n",
    "- conditions are expressions which are ``True`` or ``False`` (Boolean values)\n",
    "- python uses ``if-elif-else`` structure\n",
    "\n",
    "```python\n",
    "if <condition 1>:\n",
    "    <block 1>\n",
    "elif <condition 2>:\n",
    "    <block 2>\n",
    "    \n",
    "elif <condition N>:\n",
    "    <block N>\n",
    "else:\n",
    "    <block else>\n",
    "```\n"
   ]
  },
  {
   "cell_type": "markdown",
   "metadata": {
    "slideshow": {
     "slide_type": "slide"
    }
   },
   "source": [
    "# Boolean values\n",
    "\n",
    "Subtype of integer which represent True and False logical values\n",
    "\n",
    "**False** values:\n",
    "- constants defined to be false: `None` and `False`\n",
    "- zero of any numeric type: `0`, `0.0`, `0j`, `Decimal(0)`, `Fraction(0, 1)`\n",
    "- empty sequences and collections: `''`, `()`, `[]`, `{}`, `set()`, `range(0)`\n",
    "- an object whose  `__bool__()` method that returns `False` or `__len__()` method that returns zero\n",
    "\n",
    "**Anything** else is considered `True`\n",
    "\n",
    "This approach gives lots of flexibility when writing conditions."
   ]
  },
  {
   "cell_type": "markdown",
   "metadata": {
    "slideshow": {
     "slide_type": "subslide"
    }
   },
   "source": [
    "# Operations with Boolean values\n",
    "\n",
    "Boolean operations are `and`, `or` and `not`"
   ]
  },
  {
   "cell_type": "code",
   "execution_count": 3,
   "metadata": {
    "slideshow": {
     "slide_type": "fragment"
    }
   },
   "outputs": [],
   "source": [
    "# initialise two variables\n",
    "condition_1 = True\n",
    "condition_2 = False"
   ]
  },
  {
   "cell_type": "code",
   "execution_count": 4,
   "metadata": {
    "slideshow": {
     "slide_type": "fragment"
    }
   },
   "outputs": [
    {
     "data": {
      "text/plain": [
       "True"
      ]
     },
     "execution_count": 4,
     "metadata": {},
     "output_type": "execute_result"
    }
   ],
   "source": [
    "# x or y: if x is False, then y, else True\n",
    "condition_1 or condition_2"
   ]
  },
  {
   "cell_type": "code",
   "execution_count": 5,
   "metadata": {
    "slideshow": {
     "slide_type": "fragment"
    }
   },
   "outputs": [
    {
     "data": {
      "text/plain": [
       "False"
      ]
     },
     "execution_count": 5,
     "metadata": {},
     "output_type": "execute_result"
    }
   ],
   "source": [
    "# x and y: if x is False, then False, else y\n",
    "condition_1 and condition_2"
   ]
  },
  {
   "cell_type": "code",
   "execution_count": 6,
   "metadata": {
    "slideshow": {
     "slide_type": "fragment"
    }
   },
   "outputs": [
    {
     "data": {
      "text/plain": [
       "False"
      ]
     },
     "execution_count": 6,
     "metadata": {},
     "output_type": "execute_result"
    }
   ],
   "source": [
    "# not x: if x is false, then True, else False\n",
    "not condition_1"
   ]
  },
  {
   "cell_type": "markdown",
   "metadata": {
    "slideshow": {
     "slide_type": "subslide"
    }
   },
   "source": [
    "# Comparators\n",
    "\n",
    "`<`\tstrictly less than\n",
    "\n",
    "`<=` less than or equal\n",
    "\n",
    "`>` strictly greater than \n",
    "\n",
    "`>=` greater than or equal\n",
    "\n",
    "`==` equal\n",
    "\n",
    "`!=` not equal\n"
   ]
  },
  {
   "cell_type": "markdown",
   "metadata": {
    "slideshow": {
     "slide_type": "slide"
    }
   },
   "source": [
    "# Exercise\n",
    "\n",
    "Ask the user to enter a number and display whether the number is odd or even. "
   ]
  },
  {
   "cell_type": "markdown",
   "metadata": {
    "slideshow": {
     "slide_type": "fragment"
    }
   },
   "source": [
    "```python\n",
    "\n",
    "number = int(input(\"Please enter a number:\"))\n",
    "\n",
    "# this can be also written as \"if number % 2:\"\n",
    "if number % 2 == 1:\n",
    "    print(number, \"is an odd number\")\n",
    "else:\n",
    "    print(number, \"is an even number\")\n",
    "```\n",
    "    \n",
    "See how this program runs <a href=\"https://pythontutor.com/visualize.html#code=number%20%3D%20int%28input%28%22Please%20enter%20a%20number%3A%22%29%29%0A%0A%23%20this%20can%20be%20also%20written%20as%20%22if%20number%20%25%202%3A%22%0Aif%20number%20%25%202%20%3D%3D%201%3A%0A%20%20%20%20print%28number,%20%22is%20an%20odd%20number%22%29%0Aelse%3A%0A%20%20%20%20print%28number,%20%22is%20an%20even%20number%22%29&cumulative=false&curInstr=0&heapPrimitives=nevernest&mode=display&origin=opt-frontend.js&py=3&rawInputLstJSON=%5B%5D&textReferences=false\" target=\"_blank\">on Python tutor</a>"
   ]
  },
  {
   "cell_type": "code",
   "execution_count": 7,
   "metadata": {
    "slideshow": {
     "slide_type": "skip"
    }
   },
   "outputs": [],
   "source": [
    "code_if = \"https://pythontutor.com/visualize.html#code=number%20%3D%20int%28input%28%22Please%20enter%20a%20number%3A%22%29%29%0A%0A%23%20this%20can%20be%20also%20written%20as%20%22if%20number%20%25%202%3A%22%0Aif%20number%20%25%202%20%3D%3D%201%3A%0A%20%20%20%20print%28number,%20%22is%20an%20odd%20number%22%29%0Aelse%3A%0A%20%20%20%20print%28number,%20%22is%20an%20even%20number%22%29&cumulative=false&curInstr=0&heapPrimitives=nevernest&mode=display&origin=opt-frontend.js&py=3&rawInputLstJSON=%5B%5D&textReferences=false\""
   ]
  },
  {
   "cell_type": "code",
   "execution_count": 8,
   "metadata": {
    "slideshow": {
     "slide_type": "subslide"
    }
   },
   "outputs": [
    {
     "data": {
      "text/html": [
       "\n",
       "        <iframe\n",
       "            width=\"800\"\n",
       "            height=\"400\"\n",
       "            src=\"https://pythontutor.com/visualize.html#code=number%20%3D%20int%28input%28%22Please%20enter%20a%20number%3A%22%29%29%0A%0A%23%20this%20can%20be%20also%20written%20as%20%22if%20number%20%25%202%3A%22%0Aif%20number%20%25%202%20%3D%3D%201%3A%0A%20%20%20%20print%28number,%20%22is%20an%20odd%20number%22%29%0Aelse%3A%0A%20%20%20%20print%28number,%20%22is%20an%20even%20number%22%29&cumulative=false&curInstr=0&heapPrimitives=nevernest&mode=display&origin=opt-frontend.js&py=3&rawInputLstJSON=%5B%5D&textReferences=false\"\n",
       "            frameborder=\"0\"\n",
       "            allowfullscreen\n",
       "        ></iframe>\n",
       "        "
      ],
      "text/plain": [
       "<IPython.lib.display.IFrame at 0x7f7d18341710>"
      ]
     },
     "execution_count": 8,
     "metadata": {},
     "output_type": "execute_result"
    }
   ],
   "source": [
    "# if you cannot see the output of PythonTutor below this is due to \n",
    "# your browser's setting. Use the link in the previous slide\n",
    "IFrame(code_if, 800, 400)"
   ]
  },
  {
   "cell_type": "markdown",
   "metadata": {
    "slideshow": {
     "slide_type": "slide"
    }
   },
   "source": [
    "# Further reading\n",
    "Detailed discussion about <a href=\"https://realpython.com/python-conditional-statements/\" target=\"_blank\">Conditional Statements in Python</a> (don't get confused by conditional expressions)\n",
    "\n",
    "If structure <a href=\"http://www.python-course.eu/python3_conditional_statements.php\" target=\"_blank\">http://www.python-course.eu/python3_conditional_statements.php</a>\n",
    "\n",
    "Read Chapter 3 of *Python Programming for the Absolute Beginner* by Michael Dawson"
   ]
  },
  {
   "cell_type": "raw",
   "metadata": {
    "slideshow": {
     "slide_type": "slide"
    }
   },
   "source": [
    "<font color=\"white\"><a rel=\"license\" href=\"http://creativecommons.org/licenses/by-sa/4.0/\"><img alt=\"Creative Commons Licence\" style=\"border-width:0\" src=\"https://i.creativecommons.org/l/by-sa/4.0/88x31.png\" /></a><br /><span xmlns:dct=\"http://purl.org/dc/terms/\" property=\"dct:title\" style=\"font-style: italic\">Python programming for linguists</span> by <a xmlns:cc=\"http://creativecommons.org/ns#\" href=\"https://dinel.org.uk\" property=\"cc:attributionName\" rel=\"cc:attributionURL\" style=\"font-style: italic\">Constantin Orasan</a> is licensed under a <a rel=\"license\" href=\"http://creativecommons.org/licenses/by-sa/4.0/\">Creative Commons Attribution-ShareAlike 4.0 International License</a>.<br />Find more at <a xmlns:dct=\"http://purl.org/dc/terms/\" href=\"https://github.com/dinel/PythonForLinguists\" rel=\"dct:source\">https://github.com/dinel/PythonForLinguists</a>.</font>"
   ]
  }
 ],
 "metadata": {
  "celltoolbar": "Slideshow",
  "kernelspec": {
   "display_name": "Python 3 (ipykernel)",
   "language": "python",
   "name": "python3"
  },
  "language_info": {
   "codemirror_mode": {
    "name": "ipython",
    "version": 3
   },
   "file_extension": ".py",
   "mimetype": "text/x-python",
   "name": "python",
   "nbconvert_exporter": "python",
   "pygments_lexer": "ipython3",
   "version": "3.7.11"
  },
  "toc": {
   "base_numbering": 1,
   "nav_menu": {},
   "number_sections": false,
   "sideBar": false,
   "skip_h1_title": false,
   "title_cell": "Table of Contents",
   "title_sidebar": "Contents",
   "toc_cell": true,
   "toc_position": {},
   "toc_section_display": true,
   "toc_window_display": false
  }
 },
 "nbformat": 4,
 "nbformat_minor": 4
}
