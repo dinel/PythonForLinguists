{
 "cells": [
  {
   "cell_type": "markdown",
   "metadata": {
    "slideshow": {
     "slide_type": "slide"
    }
   },
   "source": [
    "# Strings in Python\n",
    "\n",
    "A string is a **sequence** of characters. Are used to represent a piece of text.\n",
    "\n",
    "```python\n",
    "s = \"this is a string\"\n",
    "s = \"\"\"this is\n",
    "a text\n",
    "on several\n",
    "lines\"\"\"\n",
    "s = 'this is another test'\n",
    "s = \"John's dog\"\n",
    "s = \"This is an invalid string'\n",
    "\n",
    "```\n",
    "\n",
    "- strings can contain escape sequences in order to contain special characters\n",
    "- an escape sequence is marked by ``\\`` (backslash) followed by a letter (``\\n`` new line, ``\\t`` tab, ``\\\\`` for ``\\``)"
   ]
  },
  {
   "cell_type": "markdown",
   "metadata": {
    "slideshow": {
     "slide_type": "subslide"
    }
   },
   "source": [
    "# Reading an integer\n",
    "\n",
    "We can use ``input`` to read an integer, but we need to convert the output to ``int``\n",
    "\n",
    "```python\n",
    "stringVariable = input(\"Enter an integer:\")\n",
    "numericVariable = int(stringVariable)\n",
    "```\n",
    "- we can convert a string to an integer using ``int(string)``. If ``string`` is not a valid integer an exception is thrown\n",
    "- ``float(string)`` is used to convert a string to float\n",
    "- ``str(numeric_value)`` converts a numeric value to string\n",
    "\n",
    "Read more about this on pages 42-43 of *Python Programming for the Absolute Beginner* by Michael Dawson"
   ]
  },
  {
   "cell_type": "code",
   "execution_count": 1,
   "metadata": {
    "slideshow": {
     "slide_type": "subslide"
    }
   },
   "outputs": [
    {
     "data": {
      "text/plain": [
       "12345"
      ]
     },
     "execution_count": 1,
     "metadata": {},
     "output_type": "execute_result"
    }
   ],
   "source": [
    "# convert a string to integer\n",
    "int(\"12345\")"
   ]
  },
  {
   "cell_type": "code",
   "execution_count": 2,
   "metadata": {
    "slideshow": {
     "slide_type": "fragment"
    }
   },
   "outputs": [
    {
     "data": {
      "text/plain": [
       "12.34"
      ]
     },
     "execution_count": 2,
     "metadata": {},
     "output_type": "execute_result"
    }
   ],
   "source": [
    "# convert a string to float\n",
    "float(\"12.34\")"
   ]
  },
  {
   "cell_type": "code",
   "execution_count": 3,
   "metadata": {
    "slideshow": {
     "slide_type": "fragment"
    }
   },
   "outputs": [
    {
     "ename": "ValueError",
     "evalue": "invalid literal for int() with base 10: '123s'",
     "output_type": "error",
     "traceback": [
      "\u001b[0;31m---------------------------------------------------------------------------\u001b[0m",
      "\u001b[0;31mValueError\u001b[0m                                Traceback (most recent call last)",
      "\u001b[0;32m<ipython-input-3-56221457482b>\u001b[0m in \u001b[0;36m<module>\u001b[0;34m\u001b[0m\n\u001b[1;32m      1\u001b[0m \u001b[0;31m# trying to convert invalid values\u001b[0m\u001b[0;34m\u001b[0m\u001b[0;34m\u001b[0m\u001b[0;34m\u001b[0m\u001b[0m\n\u001b[0;32m----> 2\u001b[0;31m \u001b[0mint\u001b[0m\u001b[0;34m(\u001b[0m\u001b[0;34m\"123s\"\u001b[0m\u001b[0;34m)\u001b[0m\u001b[0;34m\u001b[0m\u001b[0;34m\u001b[0m\u001b[0m\n\u001b[0m",
      "\u001b[0;31mValueError\u001b[0m: invalid literal for int() with base 10: '123s'"
     ]
    }
   ],
   "source": [
    "# trying to convert invalid values\n",
    "int(\"123s\")"
   ]
  },
  {
   "cell_type": "code",
   "execution_count": 4,
   "metadata": {
    "slideshow": {
     "slide_type": "fragment"
    }
   },
   "outputs": [
    {
     "ename": "ValueError",
     "evalue": "invalid literal for int() with base 10: '12.34'",
     "output_type": "error",
     "traceback": [
      "\u001b[0;31m---------------------------------------------------------------------------\u001b[0m",
      "\u001b[0;31mValueError\u001b[0m                                Traceback (most recent call last)",
      "\u001b[0;32m<ipython-input-4-d096208f9026>\u001b[0m in \u001b[0;36m<module>\u001b[0;34m\u001b[0m\n\u001b[0;32m----> 1\u001b[0;31m \u001b[0mint\u001b[0m\u001b[0;34m(\u001b[0m\u001b[0;34m\"12.34\"\u001b[0m\u001b[0;34m)\u001b[0m\u001b[0;34m\u001b[0m\u001b[0;34m\u001b[0m\u001b[0m\n\u001b[0m",
      "\u001b[0;31mValueError\u001b[0m: invalid literal for int() with base 10: '12.34'"
     ]
    }
   ],
   "source": [
    "int(\"12.34\")"
   ]
  },
  {
   "cell_type": "markdown",
   "metadata": {
    "slideshow": {
     "slide_type": "subslide"
    }
   },
   "source": [
    "# String methods\n",
    "\n",
    "- there are large number of methods that implement various important string processing \n",
    "   - for changing capitalisation: ``capitalize``, ``casefold``, ``lower``, ``swapcase``, ``title``, ``upper``\n",
    "   - alignment: ``center``, ``ljust``, ``rjust``, ``zfill``\n",
    "   - counting and finding: ``count``, ``endswith``, ``find``, ``index``, ``rfind``, ``rindex``, ``startswith``\n",
    "   - transformation: ``encode``, ``expandtabs``, ``format``, ``join``, ``lstrip``, ``partition``, ``replace``, ``rpartition``, ``rsplit``, ``rstrip``, ``split``, ``splitlines``, ``strip``, ``translate``\n",
    "   - testing: ``isalnum``, ``isalpha``, ``isdecimal``, ``isdigit``, ``isidentifier``, ``islower``, ``isnumeric``, ``isprintable``, ``isspace``, ``istitle``, ``isupper``\n",
    "   \n",
    "- in many cases the names are quite suggestive to guess what they mean\n",
    "- full details are available at <a href=\"https://docs.python.org/3.7/library/stdtypes.html#string-methods\" target=\"_blank\">https://docs.python.org/3.7/library/stdtypes.html#string-methods</a>"
   ]
  },
  {
   "cell_type": "markdown",
   "metadata": {
    "slideshow": {
     "slide_type": "subslide"
    }
   },
   "source": [
    "# Example of how *find* is used"
   ]
  },
  {
   "cell_type": "code",
   "execution_count": 5,
   "metadata": {
    "slideshow": {
     "slide_type": "fragment"
    }
   },
   "outputs": [
    {
     "name": "stdout",
     "output_type": "stream",
     "text": [
      "Help on method_descriptor:\n",
      "\n",
      "find(...)\n",
      "    S.find(sub[, start[, end]]) -> int\n",
      "    \n",
      "    Return the lowest index in S where substring sub is found,\n",
      "    such that sub is contained within S[start:end].  Optional\n",
      "    arguments start and end are interpreted as in slice notation.\n",
      "    \n",
      "    Return -1 on failure.\n",
      "\n"
     ]
    }
   ],
   "source": [
    "help(str.find)"
   ]
  },
  {
   "cell_type": "code",
   "execution_count": 6,
   "metadata": {
    "slideshow": {
     "slide_type": "fragment"
    }
   },
   "outputs": [
    {
     "data": {
      "text/plain": [
       "10"
      ]
     },
     "execution_count": 6,
     "metadata": {},
     "output_type": "execute_result"
    }
   ],
   "source": [
    "line = \"this is a test line\"\n",
    "line.find(\"test\")"
   ]
  },
  {
   "cell_type": "markdown",
   "metadata": {
    "slideshow": {
     "slide_type": "fragment"
    }
   },
   "source": [
    "**Note**: counting in strings (and other sequences) starts at **0**"
   ]
  },
  {
   "cell_type": "markdown",
   "metadata": {
    "slideshow": {
     "slide_type": "slide"
    }
   },
   "source": [
    "# Other operations with strings\n",
    "\n",
    "- These are shared with other types of sequences (e.g. lists, tuples)\n",
    "\n",
    "- ``+`` concatenations of strings (e.g. ``\"cat\" + \"s\"``)\n",
    "- ``len(string)`` returns the length of the string (``len(\"word\")``)\n",
    "- ``*`` repetition of the sequence (e.g. ``\"a\"*2``)\n",
    "- ``in`` operator tests whether an element is in a sequence (e.g. ``\"1\" in \"0123\"``)"
   ]
  },
  {
   "cell_type": "markdown",
   "metadata": {
    "slideshow": {
     "slide_type": "slide"
    }
   },
   "source": [
    "# Exercise\n",
    "\n",
    "- look at various methods related to strings. Understand what they are doing. Are any of them potentially useful for your work?\n",
    "- learn more about splitting, concatenating and joining string: <a href=\"https://realpython.com/python-string-split-concatenate-join/\" target=\"_blank\">https://realpython.com/python-string-split-concatenate-join/</a>"
   ]
  },
  {
   "cell_type": "markdown",
   "metadata": {
    "slideshow": {
     "slide_type": "slide"
    }
   },
   "source": [
    "# Further readings\n",
    "\n",
    "- Try examples from <a href=\"https://en.wikibooks.org/wiki/Non-Programmer%27s_Tutorial_for_Python_3/Who_Goes_There%3F\" target=\"_blank\">https://en.wikibooks.org/wiki/Non-Programmer%27s_Tutorial_for_Python_3/Who_Goes_There%3F</a>\n",
    "\n",
    "- Read Chapter 2 of *Python Programming for the Absolute Beginner* by Michael Dawson\n",
    "\n",
    "- A comprehensive discussion about strings: <a href=\"https://realpython.com/python-strings/\" target=\"_blank\">https://realpython.com/python-strings/</a>\n",
    "\n"
   ]
  },
  {
   "cell_type": "raw",
   "metadata": {
    "slideshow": {
     "slide_type": "slide"
    }
   },
   "source": [
    "<font color=\"white\"><a rel=\"license\" href=\"http://creativecommons.org/licenses/by-sa/4.0/\"><img alt=\"Creative Commons Licence\" style=\"border-width:0\" src=\"https://i.creativecommons.org/l/by-sa/4.0/88x31.png\" /></a><br /><span xmlns:dct=\"http://purl.org/dc/terms/\" property=\"dct:title\" style=\"font-style: italic\">Python programming for linguists</span> by <a xmlns:cc=\"http://creativecommons.org/ns#\" href=\"https://dinel.org.uk\" property=\"cc:attributionName\" rel=\"cc:attributionURL\" style=\"font-style: italic\">Constantin Orasan</a> is licensed under a <a rel=\"license\" href=\"http://creativecommons.org/licenses/by-sa/4.0/\">Creative Commons Attribution-ShareAlike 4.0 International License</a>.<br />Find more at <a xmlns:dct=\"http://purl.org/dc/terms/\" href=\"https://github.com/dinel/PythonForLinguists\" rel=\"dct:source\">https://github.com/dinel/PythonForLinguists</a>.</font>"
   ]
  }
 ],
 "metadata": {
  "celltoolbar": "Slideshow",
  "kernelspec": {
   "display_name": "Python 3 (ipykernel)",
   "language": "python",
   "name": "python3"
  },
  "language_info": {
   "codemirror_mode": {
    "name": "ipython",
    "version": 3
   },
   "file_extension": ".py",
   "mimetype": "text/x-python",
   "name": "python",
   "nbconvert_exporter": "python",
   "pygments_lexer": "ipython3",
   "version": "3.7.11"
  }
 },
 "nbformat": 4,
 "nbformat_minor": 2
}
